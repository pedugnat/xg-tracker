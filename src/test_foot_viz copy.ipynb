{
 "cells": [
  {
   "cell_type": "code",
   "execution_count": 1,
   "metadata": {
    "ExecuteTime": {
     "end_time": "2021-02-25T19:29:27.847968Z",
     "start_time": "2021-02-25T19:29:26.434534Z"
    }
   },
   "outputs": [],
   "source": [
    "import pandas as pd\n",
    "import matplotlib.pyplot as plt\n",
    "from bs4 import BeautifulSoup\n",
    "\n",
    "import bokeh\n",
    "from bokeh.palettes import RdYlGn\n",
    "from bokeh.models import ColumnDataSource, LinearColorMapper, ColorBar, ColumnDataSource\n",
    "from bokeh.plotting import figure, output_file, show\n",
    "from bokeh.transform import linear_cmap\n",
    "from bokeh.models.tools import HoverTool\n",
    "\n",
    "from selenium import webdriver\n",
    "from selenium.webdriver.chrome.options import Options\n",
    "\n",
    "CHROMEDRIVER_PATH = \"/Users/paulemiledugnat/Downloads/chromedriver_upd\""
   ]
  },
  {
   "cell_type": "code",
   "execution_count": 2,
   "metadata": {},
   "outputs": [],
   "source": [
    "team_name = \"Lyon\"\n",
    "\n",
    "chrome_options = Options()\n",
    "chrome_options.add_argument(\"--headless\")\n",
    "\n",
    "driver = webdriver.Chrome(options=chrome_options, executable_path=CHROMEDRIVER_PATH)\n",
    "\n",
    "driver.get(f\"https://understat.com/team/{team_name}/2020\")\n",
    "\n",
    "team_soup = BeautifulSoup(driver.page_source)\n",
    "table_html = team_soup.find(\"div\", {\"id\": \"team-statistics\"}).find(\"table\")\n",
    "\n",
    "driver.quit()"
   ]
  },
  {
   "cell_type": "code",
   "execution_count": 3,
   "metadata": {},
   "outputs": [
    {
     "output_type": "execute_result",
     "data": {
      "text/plain": [
       "   №        Situation   Sh   G  ShA  GA           xG         xGA    xGD  \\\n",
       "0  1        Open play  340  39  238  19  49.53+10.53  18.09-0.91  31.44   \n",
       "1  2      From corner   71   2   51   1    6.08+4.08   3.51+2.51   2.56   \n",
       "2  3        Set piece   24   4   17   1    2.93-1.07   1.41+0.41   1.52   \n",
       "3  4  Direct Freekick   22   2   12   0    1.13-0.87   0.82+0.82   0.31   \n",
       "4  5          Penalty    9   9    6   4    6.84-2.16   4.56+0.56   2.28   \n",
       "\n",
       "   xG/Sh  xGA/Sh  \n",
       "0   0.15    0.08  \n",
       "1   0.09    0.07  \n",
       "2   0.12    0.08  \n",
       "3   0.05    0.07  \n",
       "4   0.76    0.76  "
      ],
      "text/html": "<div>\n<style scoped>\n    .dataframe tbody tr th:only-of-type {\n        vertical-align: middle;\n    }\n\n    .dataframe tbody tr th {\n        vertical-align: top;\n    }\n\n    .dataframe thead th {\n        text-align: right;\n    }\n</style>\n<table border=\"1\" class=\"dataframe\">\n  <thead>\n    <tr style=\"text-align: right;\">\n      <th></th>\n      <th>№</th>\n      <th>Situation</th>\n      <th>Sh</th>\n      <th>G</th>\n      <th>ShA</th>\n      <th>GA</th>\n      <th>xG</th>\n      <th>xGA</th>\n      <th>xGD</th>\n      <th>xG/Sh</th>\n      <th>xGA/Sh</th>\n    </tr>\n  </thead>\n  <tbody>\n    <tr>\n      <th>0</th>\n      <td>1</td>\n      <td>Open play</td>\n      <td>340</td>\n      <td>39</td>\n      <td>238</td>\n      <td>19</td>\n      <td>49.53+10.53</td>\n      <td>18.09-0.91</td>\n      <td>31.44</td>\n      <td>0.15</td>\n      <td>0.08</td>\n    </tr>\n    <tr>\n      <th>1</th>\n      <td>2</td>\n      <td>From corner</td>\n      <td>71</td>\n      <td>2</td>\n      <td>51</td>\n      <td>1</td>\n      <td>6.08+4.08</td>\n      <td>3.51+2.51</td>\n      <td>2.56</td>\n      <td>0.09</td>\n      <td>0.07</td>\n    </tr>\n    <tr>\n      <th>2</th>\n      <td>3</td>\n      <td>Set piece</td>\n      <td>24</td>\n      <td>4</td>\n      <td>17</td>\n      <td>1</td>\n      <td>2.93-1.07</td>\n      <td>1.41+0.41</td>\n      <td>1.52</td>\n      <td>0.12</td>\n      <td>0.08</td>\n    </tr>\n    <tr>\n      <th>3</th>\n      <td>4</td>\n      <td>Direct Freekick</td>\n      <td>22</td>\n      <td>2</td>\n      <td>12</td>\n      <td>0</td>\n      <td>1.13-0.87</td>\n      <td>0.82+0.82</td>\n      <td>0.31</td>\n      <td>0.05</td>\n      <td>0.07</td>\n    </tr>\n    <tr>\n      <th>4</th>\n      <td>5</td>\n      <td>Penalty</td>\n      <td>9</td>\n      <td>9</td>\n      <td>6</td>\n      <td>4</td>\n      <td>6.84-2.16</td>\n      <td>4.56+0.56</td>\n      <td>2.28</td>\n      <td>0.76</td>\n      <td>0.76</td>\n    </tr>\n  </tbody>\n</table>\n</div>"
     },
     "metadata": {},
     "execution_count": 3
    }
   ],
   "source": [
    "pd.read_html(str(table_html))[0]"
   ]
  },
  {
   "cell_type": "code",
   "execution_count": 4,
   "metadata": {},
   "outputs": [],
   "source": [
    "from bokeh.io import output_file, show\n",
    "from bokeh.palettes import Spectral5\n",
    "from bokeh.plotting import figure\n",
    "from bokeh.sampledata.autompg import autompg_clean as df\n",
    "from bokeh.transform import factor_cmap"
   ]
  },
  {
   "cell_type": "code",
   "execution_count": 22,
   "metadata": {},
   "outputs": [],
   "source": [
    "import itertools\n",
    "import config\n",
    "from utils import *"
   ]
  },
  {
   "cell_type": "code",
   "execution_count": 23,
   "metadata": {},
   "outputs": [],
   "source": [
    "def get_xG_html_table(team_name: str, year: int, force_update: bool = False, stats: str = \"players\") -> str:\n",
    "    path_name = os.path.join(\n",
    "        config.CACHE_PATH, f\"{team_name}_{year}_{stats}.txt\")\n",
    "\n",
    "    # try cache\n",
    "    if os.path.exists(path_name) and not force_update:\n",
    "        with open(path_name) as cache_text:\n",
    "            table_html = cache_text.read().replace('\\n', '')\n",
    "        return table_html\n",
    "\n",
    "    driver = get_driver()\n",
    "\n",
    "    driver.get(f\"https://understat.com/team/{team_name}/{year}\")\n",
    "    team_soup = BeautifulSoup(driver.page_source)\n",
    "    table_html = str(team_soup.find(\n",
    "        \"div\", {\"id\": f\"team-{stats}\"}).find(\"table\"))\n",
    "\n",
    "    driver.quit()\n",
    "\n",
    "    with open(path_name, \"w\") as cache_text:\n",
    "        cache_text.write(table_html)\n",
    "\n",
    "    return table_html"
   ]
  },
  {
   "cell_type": "code",
   "execution_count": 24,
   "metadata": {},
   "outputs": [],
   "source": [
    "def update_db(list_teams, list_years):\n",
    "    for team, year in itertools.product(list_teams, list_years):\n",
    "        get_xG_html_table(team, year, force_update=True)"
   ]
  },
  {
   "cell_type": "code",
   "execution_count": 26,
   "metadata": {},
   "outputs": [],
   "source": [
    "import tqdm"
   ]
  },
  {
   "cell_type": "code",
   "execution_count": 27,
   "metadata": {},
   "outputs": [
    {
     "output_type": "execute_result",
     "data": {
      "text/plain": [
       "'4.47.0'"
      ]
     },
     "metadata": {},
     "execution_count": 27
    }
   ],
   "source": [
    "tqdm.__version__"
   ]
  },
  {
   "cell_type": "code",
   "execution_count": null,
   "metadata": {},
   "outputs": [],
   "source": [
    "import itertools\n",
    "from bokeh.models import ColumnDataSource, FactorRange\n"
   ]
  },
  {
   "cell_type": "code",
   "execution_count": 7,
   "metadata": {},
   "outputs": [
    {
     "output_type": "error",
     "ename": "NameError",
     "evalue": "name 'df_stats' is not defined",
     "traceback": [
      "\u001b[0;31m---------------------------------------------------------------------------\u001b[0m",
      "\u001b[0;31mNameError\u001b[0m                                 Traceback (most recent call last)",
      "\u001b[0;32m<ipython-input-7-d4211d65b800>\u001b[0m in \u001b[0;36m<module>\u001b[0;34m\u001b[0m\n\u001b[0;32m----> 1\u001b[0;31m \u001b[0mdf_stats\u001b[0m \u001b[0;34m=\u001b[0m \u001b[0mdf_stats\u001b[0m\u001b[0;34m[\u001b[0m\u001b[0mdf_stats\u001b[0m\u001b[0;34m[\u001b[0m\u001b[0;34m\"Situation\"\u001b[0m\u001b[0;34m]\u001b[0m \u001b[0;34m!=\u001b[0m \u001b[0;34m\"Penalty\"\u001b[0m\u001b[0;34m]\u001b[0m\u001b[0;34m\u001b[0m\u001b[0;34m\u001b[0m\u001b[0m\n\u001b[0m\u001b[1;32m      2\u001b[0m \u001b[0mx\u001b[0m \u001b[0;34m=\u001b[0m \u001b[0mlist\u001b[0m\u001b[0;34m(\u001b[0m\u001b[0mitertools\u001b[0m\u001b[0;34m.\u001b[0m\u001b[0mproduct\u001b[0m\u001b[0;34m(\u001b[0m\u001b[0mdf_stats\u001b[0m\u001b[0;34m[\u001b[0m\u001b[0;34m\"Situation\"\u001b[0m\u001b[0;34m]\u001b[0m\u001b[0;34m,\u001b[0m \u001b[0;34m[\u001b[0m\u001b[0;34m\"xG/Sh\"\u001b[0m\u001b[0;34m,\u001b[0m \u001b[0;34m\"xGA/Sh\"\u001b[0m\u001b[0;34m]\u001b[0m\u001b[0;34m)\u001b[0m\u001b[0;34m)\u001b[0m\u001b[0;34m\u001b[0m\u001b[0;34m\u001b[0m\u001b[0m\n\u001b[1;32m      3\u001b[0m \u001b[0mcounts\u001b[0m \u001b[0;34m=\u001b[0m \u001b[0msum\u001b[0m\u001b[0;34m(\u001b[0m\u001b[0mzip\u001b[0m\u001b[0;34m(\u001b[0m\u001b[0mdf_stats\u001b[0m\u001b[0;34m[\u001b[0m\u001b[0;34m'xG/Sh'\u001b[0m\u001b[0;34m]\u001b[0m\u001b[0;34m,\u001b[0m \u001b[0mdf_stats\u001b[0m\u001b[0;34m[\u001b[0m\u001b[0;34m'xGA/Sh'\u001b[0m\u001b[0;34m]\u001b[0m\u001b[0;34m)\u001b[0m\u001b[0;34m,\u001b[0m \u001b[0;34m(\u001b[0m\u001b[0;34m)\u001b[0m\u001b[0;34m)\u001b[0m\u001b[0;34m\u001b[0m\u001b[0;34m\u001b[0m\u001b[0m\n\u001b[1;32m      4\u001b[0m \u001b[0;34m\u001b[0m\u001b[0m\n\u001b[1;32m      5\u001b[0m \u001b[0msource\u001b[0m \u001b[0;34m=\u001b[0m \u001b[0mColumnDataSource\u001b[0m\u001b[0;34m(\u001b[0m\u001b[0mdata\u001b[0m\u001b[0;34m=\u001b[0m\u001b[0mdict\u001b[0m\u001b[0;34m(\u001b[0m\u001b[0mx\u001b[0m\u001b[0;34m=\u001b[0m\u001b[0mx\u001b[0m\u001b[0;34m,\u001b[0m \u001b[0mcounts\u001b[0m\u001b[0;34m=\u001b[0m\u001b[0mcounts\u001b[0m\u001b[0;34m)\u001b[0m\u001b[0;34m)\u001b[0m\u001b[0;34m\u001b[0m\u001b[0;34m\u001b[0m\u001b[0m\n",
      "\u001b[0;31mNameError\u001b[0m: name 'df_stats' is not defined"
     ]
    }
   ],
   "source": [
    "df_stats = df_stats[df_stats[\"Situation\"] != \"Penalty\"]\n",
    "x = list(itertools.product(df_stats[\"Situation\"], [\"xG/Sh\", \"xGA/Sh\"]))\n",
    "counts = sum(zip(df_stats['xG/Sh'], df_stats['xGA/Sh']), ())\n",
    "\n",
    "source = ColumnDataSource(data=dict(x=x, counts=counts))\n",
    "_ = \"représente la qualité des tirs vs. la qualité des tirs adverses\"\n",
    "\n",
    "p = figure(x_range=FactorRange(*x), title=\"Différence de xG pour (xG) et contre (xGA) par situation de jeu\",\n",
    "           toolbar_location=None, tools=\"\", tooltips=\"@x : @counts{0.2f}\")\n",
    "\n",
    "amplitude = max(counts)\n",
    "amplitude = 0.2\n",
    "color_mapper = LinearColorMapper(palette=RdYlGn[11][::-1], low=0, high=amplitude)\n",
    "\n",
    "p.vbar(x='x', top='counts', width=0.9, source=source, line_color=\"black\", line_width=0.5,\n",
    "       fill_color={'field': \"counts\", 'transform': color_mapper},\n",
    "       )\n",
    "\n",
    "p.y_range.start = 0\n",
    "p.xgrid.grid_line_color = None\n",
    "\n",
    "show(p)"
   ]
  },
  {
   "cell_type": "code",
   "execution_count": 8,
   "metadata": {},
   "outputs": [
    {
     "output_type": "error",
     "ename": "NameError",
     "evalue": "name 'x' is not defined",
     "traceback": [
      "\u001b[0;31m---------------------------------------------------------------------------\u001b[0m",
      "\u001b[0;31mNameError\u001b[0m                                 Traceback (most recent call last)",
      "\u001b[0;32m<ipython-input-8-982117ac11cb>\u001b[0m in \u001b[0;36m<module>\u001b[0;34m\u001b[0m\n\u001b[0;32m----> 1\u001b[0;31m \u001b[0mx\u001b[0m\u001b[0;34m,\u001b[0m \u001b[0mcounts\u001b[0m\u001b[0;34m\u001b[0m\u001b[0;34m\u001b[0m\u001b[0m\n\u001b[0m",
      "\u001b[0;31mNameError\u001b[0m: name 'x' is not defined"
     ]
    }
   ],
   "source": [
    "x, counts"
   ]
  },
  {
   "cell_type": "code",
   "execution_count": 9,
   "metadata": {},
   "outputs": [
    {
     "output_type": "execute_result",
     "data": {
      "text/plain": [
       "([('Apples', '2015'),\n",
       "  ('Apples', '2016'),\n",
       "  ('Apples', '2017'),\n",
       "  ('Pears', '2015'),\n",
       "  ('Pears', '2016'),\n",
       "  ('Pears', '2017'),\n",
       "  ('Nectarines', '2015'),\n",
       "  ('Nectarines', '2016'),\n",
       "  ('Nectarines', '2017'),\n",
       "  ('Plums', '2015'),\n",
       "  ('Plums', '2016'),\n",
       "  ('Plums', '2017'),\n",
       "  ('Grapes', '2015'),\n",
       "  ('Grapes', '2016'),\n",
       "  ('Grapes', '2017'),\n",
       "  ('Strawberries', '2015'),\n",
       "  ('Strawberries', '2016'),\n",
       "  ('Strawberries', '2017')],\n",
       " (2, 5, 3, 1, 3, 2, 4, 3, 4, 3, 2, 4, 2, 4, 5, 4, 6, 3))"
      ]
     },
     "metadata": {},
     "execution_count": 9
    }
   ],
   "source": [
    "y = fruits = ['Apples', 'Pears', 'Nectarines', 'Plums', 'Grapes', 'Strawberries']\n",
    "years = ['2015', '2016', '2017']\n",
    "\n",
    "data = {'fruits' : fruits,\n",
    "        '2015'   : [2, 1, 4, 3, 2, 4],\n",
    "        '2016'   : [5, 3, 3, 2, 4, 6],\n",
    "        '2017'   : [3, 2, 4, 4, 5, 3]}\n",
    "\n",
    "# this creates [ (\"Apples\", \"2015\"), (\"Apples\", \"2016\"), (\"Apples\", \"2017\"), (\"Pears\", \"2015), ... ]\n",
    "x = [ (fruit, year) for fruit in fruits for year in years ]\n",
    "counts = sum(zip(data['2015'], data['2016'], data['2017']), ()) # like an hstack\n",
    "x, counts"
   ]
  },
  {
   "cell_type": "code",
   "execution_count": 10,
   "metadata": {},
   "outputs": [],
   "source": [
    "fruits = ['Apples', 'Pears', 'Nectarines', 'Plums', 'Grapes', 'Strawberries']\n",
    "years = ['2015', '2016', '2017']\n",
    "\n",
    "data = {'fruits' : fruits,\n",
    "        '2015'   : [2, 1, 4, 3, 2, 4],\n",
    "        '2016'   : [5, 3, 3, 2, 4, 6],\n",
    "        '2017'   : [3, 2, 4, 4, 5, 3]}\n",
    "\n",
    "# this creates [ (\"Apples\", \"2015\"), (\"Apples\", \"2016\"), (\"Apples\", \"2017\"), (\"Pears\", \"2015), ... ]\n",
    "x = [ (fruit, year) for fruit in fruits for year in years ]\n",
    "counts = sum(zip(data['2015'], data['2016'], data['2017']), ()) # like an hstack\n",
    "\n",
    "source = ColumnDataSource(data=dict(x=x, counts=counts))\n",
    "\n",
    "p = figure(x_range=FactorRange(*x), plot_height=250, title=\"Fruit counts by year\",\n",
    "           toolbar_location=None, tools=\"\")\n",
    "\n",
    "p.vbar(x='x', top='counts', width=0.9, source=source)\n",
    "\n",
    "p.y_range.start = 0\n",
    "p.x_range.range_padding = 0.1\n",
    "p.xaxis.major_label_orientation = 1\n",
    "p.xgrid.grid_line_color = None\n",
    "\n",
    "show(p)"
   ]
  },
  {
   "cell_type": "code",
   "execution_count": 4,
   "metadata": {},
   "outputs": [],
   "source": [
    "def process_html_stat(html_table: str) -> pd.DataFrame:\n",
    "    df_team = pd.read_html(html_table)[0].drop(\"№\", axis=1)\n",
    "    \n",
    "    df_team[\"xG\"] = df_team[\"xG\"].str.split(r\"\\+|\\-\").apply(lambda x: float(x[0]))\n",
    "    df_team[\"xGA\"] = df_team[\"xGA\"].str.split(r\"\\+|\\-\").apply(lambda x: float(x[0]))\n",
    "\n",
    "    df_team[\"diff_xG\"] = (df_team[\"G\"] - df_team[\"xG\"])\n",
    "    df_team[\"diff_xGA\"] = (df_team[\"GA\"] - df_team[\"xGA\"])\n",
    "    \n",
    "    return df_team"
   ]
  },
  {
   "cell_type": "code",
   "execution_count": 40,
   "metadata": {},
   "outputs": [],
   "source": [
    "from bokeh.models import CategoricalTicker, NumeralTickFormatter\n",
    "from bokeh.plotting import figure\n",
    "from bokeh.models.tools import HoverTool\n"
   ]
  },
  {
   "cell_type": "code",
   "execution_count": 41,
   "metadata": {},
   "outputs": [
    {
     "output_type": "execute_result",
     "data": {
      "text/plain": [
       "     Situation   Sh   G  ShA  GA     xG    xGA    xGD  xG/Sh  xGA/Sh  diff_xG  \\\n",
       "0    Open play  319  37  223  19  47.19  17.36  29.83   0.15    0.08   -10.19   \n",
       "1  From corner   68   2   45   1   6.01   3.09   2.92   0.09    0.07    -4.01   \n",
       "\n",
       "   diff_xGA  \n",
       "0      1.64  \n",
       "1     -2.09  "
      ],
      "text/html": "<div>\n<style scoped>\n    .dataframe tbody tr th:only-of-type {\n        vertical-align: middle;\n    }\n\n    .dataframe tbody tr th {\n        vertical-align: top;\n    }\n\n    .dataframe thead th {\n        text-align: right;\n    }\n</style>\n<table border=\"1\" class=\"dataframe\">\n  <thead>\n    <tr style=\"text-align: right;\">\n      <th></th>\n      <th>Situation</th>\n      <th>Sh</th>\n      <th>G</th>\n      <th>ShA</th>\n      <th>GA</th>\n      <th>xG</th>\n      <th>xGA</th>\n      <th>xGD</th>\n      <th>xG/Sh</th>\n      <th>xGA/Sh</th>\n      <th>diff_xG</th>\n      <th>diff_xGA</th>\n    </tr>\n  </thead>\n  <tbody>\n    <tr>\n      <th>0</th>\n      <td>Open play</td>\n      <td>319</td>\n      <td>37</td>\n      <td>223</td>\n      <td>19</td>\n      <td>47.19</td>\n      <td>17.36</td>\n      <td>29.83</td>\n      <td>0.15</td>\n      <td>0.08</td>\n      <td>-10.19</td>\n      <td>1.64</td>\n    </tr>\n    <tr>\n      <th>1</th>\n      <td>From corner</td>\n      <td>68</td>\n      <td>2</td>\n      <td>45</td>\n      <td>1</td>\n      <td>6.01</td>\n      <td>3.09</td>\n      <td>2.92</td>\n      <td>0.09</td>\n      <td>0.07</td>\n      <td>-4.01</td>\n      <td>-2.09</td>\n    </tr>\n  </tbody>\n</table>\n</div>"
     },
     "metadata": {},
     "execution_count": 41
    }
   ],
   "source": [
    "df = process_html_stat(str(table_html))\n",
    "df.head(2)"
   ]
  },
  {
   "source": [
    "from bokeh.layouts import row"
   ],
   "cell_type": "markdown",
   "metadata": {}
  },
  {
   "cell_type": "code",
   "execution_count": 77,
   "metadata": {},
   "outputs": [],
   "source": [
    "def situation_chart(df):\n",
    "\n",
    "    x = df['Situation']\n",
    "    y = df['diff_xG']\n",
    "\n",
    "    amplitude = df['diff_xG'].abs().max() + 1\n",
    "    color_mapper = LinearColorMapper(palette=RdYlGn[11][::-1], low=-amplitude, high=amplitude)\n",
    "\n",
    "    h_barchart = figure(\n",
    "        title='Visualisation de la diff xG pour Lyon, saison 2020-2021',\n",
    "        y_range=x.values,\n",
    "        plot_width=1500,\n",
    "        plot_height=500,\n",
    "        x_range=(- amplitude, amplitude))\n",
    "\n",
    "    h_barchart.yaxis.ticker = CategoricalTicker()\n",
    "    r = h_barchart.hbar(right=y, y=x, height=0.2,\n",
    "        color={'field': \"right\", 'transform': color_mapper},\n",
    "        )\n",
    "\n",
    "    glyph = r.glyph\n",
    "    glyph.fill_alpha = 1\n",
    "    glyph.line_color = \"black\"\n",
    "    glyph.line_width = 0.2\n",
    "\n",
    "    hover = HoverTool()\n",
    "    hover.tooltips = [\n",
    "        ('diff xG', '@y'),\n",
    "        ('Catégorie', '@right{0.2f}'),\n",
    "    ]\n",
    "\n",
    "    h_barchart.add_tools(hover)\n",
    "    h_barchart.toolbar.logo = None\n",
    "    h_barchart.toolbar_location = None\n",
    "\n",
    "    color_bar = ColorBar(color_mapper=color_mapper, width=12)\n",
    "    color_bar_plot = figure(height=500, width=100, \n",
    "                            toolbar_location=\"right\")\n",
    "\n",
    "    color_bar_plot.add_layout(color_bar, 'right')\n",
    "    color_bar_plot.toolbar.logo = None\n",
    "    color_bar_plot.toolbar_location = None\n",
    "\n",
    "    layout = row(h_barchart, color_bar_plot)\n",
    "\n",
    "    show(layout)"
   ]
  },
  {
   "cell_type": "code",
   "execution_count": 78,
   "metadata": {},
   "outputs": [
    {
     "output_type": "stream",
     "name": "stderr",
     "text": [
      "WARNING:bokeh.core.validation.check:W-1000 (MISSING_RENDERERS): Plot has no renderers: Figure(id='9855', ...)\n"
     ]
    }
   ],
   "source": [
    "situation_chart(df)"
   ]
  },
  {
   "cell_type": "code",
   "execution_count": 80,
   "metadata": {},
   "outputs": [],
   "source": [
    "from selenium.webdriver.chrome.options import Options\n"
   ]
  },
  {
   "cell_type": "code",
   "execution_count": 81,
   "metadata": {
    "ExecuteTime": {
     "end_time": "2021-02-25T19:29:27.855056Z",
     "start_time": "2021-02-25T19:29:27.850224Z"
    },
    "code_folding": [
     0
    ]
   },
   "outputs": [],
   "source": [
    "def get_xG_html_table(team_name: str) -> str:\n",
    "\n",
    "    driver.get(f\"https://understat.com/team/{team_name}/2020\")\n",
    "    \n",
    "    team_soup = BeautifulSoup(driver.page_source)\n",
    "    table_html = team_soup.find(\"div\", {\"id\": \"team-players\"}).find(\"table\")\n",
    "    \n",
    "    driver.quit()\n",
    "\n",
    "    return str(table_html)"
   ]
  },
  {
   "cell_type": "code",
   "execution_count": 83,
   "metadata": {},
   "outputs": [
    {
     "output_type": "execute_result",
     "data": {
      "text/plain": [
       "'<table><thead style=\"opacity: 1;\"><tr><th class=\"sort\" data-num=\"1\"><span>№</span></th><th class=\"sort\" data-num=\"2\" width=\"110\"><span title=\"Player name\">Player</span></th><th data-num=\"3\"><span title=\"Position\">Pos</span></th><th class=\"sort\" data-num=\"4\"><span title=\"Appearances\">Apps</span></th><th class=\"sort\" data-num=\"5\"><span title=\"Minutes played\">Min</span></th><th class=\"sort\" data-num=\"6\"><span title=\"Goals\">G</span></th><th class=\"sort\" data-num=\"8\"><span title=\"Passes led to goal\">A</span></th><th class=\"sort\" data-num=\"9\"><span title=\"Shots per 90 minutes\">Sh90</span></th><th class=\"sort\" data-num=\"10\"><span title=\"Passes led to shot per 90 minutes\">KP90</span></th><th class=\"sort\" data-num=\"11\" width=\"100\"><span class=\"title-expected\" title=\"Expected Goals\">xG</span></th><th class=\"sort\" data-num=\"13\" width=\"100\"><span class=\"title-expected\" title=\"The sum of Expected Goals off shots from a player\\'s key passes\">xA</span></th><th class=\"sort\" data-num=\"16\"><span class=\"title-expected\" title=\"Expected Goals per 90 minutes\">xG90</span></th><th class=\"sort\" data-num=\"18\"><span class=\"title-expected\" title=\"Expected Assists per 90 minutes\">xA90</span></th></tr></thead><tbody><tr><td class=\"align-right\">1</td><td class=\"player-title\"><a href=\"player/555\">Memphis Depay</a></td><td class=\"align-center\">F M</td><td class=\"align-right\">26</td><td class=\"align-right\">1994</td><td class=\"align-right\">15</td><td class=\"align-right\">7</td><td class=\"align-right nowrap\">3.25</td><td class=\"align-right nowrap\">3.07</td><td class=\"align-right nowrap\">11.76<sup class=\"positive-value\">-3.24</sup></td><td class=\"align-right nowrap\">10.76<sup class=\"negative-value\">+3.76</sup></td><td class=\"align-right nowrap\">0.53</td><td class=\"align-right nowrap\">0.49</td></tr><tr><td class=\"align-right\">2</td><td class=\"player-title\"><a href=\"player/5657\">Karl Toko Ekambi</a></td><td class=\"align-center\">F M</td><td class=\"align-right\">23</td><td class=\"align-right\">1839</td><td class=\"align-right\">11</td><td class=\"align-right\">5</td><td class=\"align-right nowrap\">2.99</td><td class=\"align-right nowrap\">1.62</td><td class=\"align-right nowrap\">13.21<sup class=\"negative-value\">+2.21</sup></td><td class=\"align-right nowrap\">5.70<sup class=\"negative-value\">+0.70</sup></td><td class=\"align-right nowrap\">0.65</td><td class=\"align-right nowrap\">0.28</td></tr><tr><td class=\"align-right\">3</td><td class=\"player-title\"><a href=\"player/8702\">Tinotenda Kadewere</a></td><td class=\"align-center\">F M</td><td class=\"align-right\">25</td><td class=\"align-right\">1632</td><td class=\"align-right\">9</td><td class=\"align-right\">3</td><td class=\"align-right nowrap\">2.87</td><td class=\"align-right nowrap\">0.99</td><td class=\"align-right nowrap\">9.35<sup class=\"negative-value\">+0.35</sup></td><td class=\"align-right nowrap\">3.41<sup class=\"negative-value\">+0.41</sup></td><td class=\"align-right nowrap\">0.52</td><td class=\"align-right nowrap\">0.19</td></tr><tr><td class=\"align-right\">4</td><td class=\"player-title\"><a href=\"player/5733\">Houssem Aouar</a></td><td class=\"align-center\">F M</td><td class=\"align-right\">21</td><td class=\"align-right\">1417</td><td class=\"align-right\">4</td><td class=\"align-right\">3</td><td class=\"align-right nowrap\">3.30</td><td class=\"align-right nowrap\">1.65</td><td class=\"align-right nowrap\">7.92<sup class=\"negative-value\">+3.92</sup></td><td class=\"align-right nowrap\">2.54<sup class=\"positive-value\">-0.46</sup></td><td class=\"align-right nowrap\">0.50</td><td class=\"align-right nowrap\">0.16</td></tr><tr><td class=\"align-right\">5</td><td class=\"player-title\"><a href=\"player/7365\">Lucas Paquetá</a></td><td class=\"align-center\">M</td><td class=\"align-right\">19</td><td class=\"align-right\">1396</td><td class=\"align-right\">4</td><td class=\"align-right\">1</td><td class=\"align-right nowrap\">1.87</td><td class=\"align-right nowrap\">1.35</td><td class=\"align-right nowrap\">4.39<sup class=\"negative-value\">+0.39</sup></td><td class=\"align-right nowrap\">3.54<sup class=\"negative-value\">+2.54</sup></td><td class=\"align-right nowrap\">0.28</td><td class=\"align-right nowrap\">0.23</td></tr><tr><td class=\"align-right\">6</td><td class=\"player-title\"><a href=\"player/93\">Marcelo</a></td><td class=\"align-center\">D</td><td class=\"align-right\">23</td><td class=\"align-right\">1933</td><td class=\"align-right\">2</td><td class=\"align-right\">0</td><td class=\"align-right nowrap\">0.93</td><td class=\"align-right nowrap\">0.19</td><td class=\"align-right nowrap\">1.18<sup class=\"positive-value\">-0.82</sup></td><td class=\"align-right nowrap\">0.17<sup class=\"negative-value\">+0.17</sup></td><td class=\"align-right nowrap\">0.05</td><td class=\"align-right nowrap\">0.01</td></tr><tr><td class=\"align-right\">7</td><td class=\"player-title\"><a href=\"player/3412\">Léo Dubois</a></td><td class=\"align-center\">D M</td><td class=\"align-right\">25</td><td class=\"align-right\">2056</td><td class=\"align-right\">2</td><td class=\"align-right\">3</td><td class=\"align-right nowrap\">0.57</td><td class=\"align-right nowrap\">2.45</td><td class=\"align-right nowrap\">0.81<sup class=\"positive-value\">-1.19</sup></td><td class=\"align-right nowrap\">5.31<sup class=\"negative-value\">+2.31</sup></td><td class=\"align-right nowrap\">0.04</td><td class=\"align-right nowrap\">0.23</td></tr><tr><td class=\"align-right\">8</td><td class=\"player-title\"><a href=\"player/1039\">Jason Denayer</a></td><td class=\"align-center\">D</td><td class=\"align-right\">21</td><td class=\"align-right\">1794</td><td class=\"align-right\">1</td><td class=\"align-right\">0</td><td class=\"align-right nowrap\">0.25</td><td class=\"align-right nowrap\">0.00</td><td class=\"align-right nowrap\">0.55<sup class=\"positive-value\">-0.45</sup></td><td class=\"align-right nowrap\">0.00<sup></sup></td><td class=\"align-right nowrap\">0.03</td><td class=\"align-right nowrap\">0.00</td></tr><tr><td class=\"align-right\">9</td><td class=\"player-title\"><a href=\"player/3278\">Maxwel Cornet</a></td><td class=\"align-center\">D F M</td><td class=\"align-right\">24</td><td class=\"align-right\">1672</td><td class=\"align-right\">1</td><td class=\"align-right\">4</td><td class=\"align-right nowrap\">0.70</td><td class=\"align-right nowrap\">1.13</td><td class=\"align-right nowrap\">1.36<sup class=\"negative-value\">+0.36</sup></td><td class=\"align-right nowrap\">3.41<sup class=\"positive-value\">-0.59</sup></td><td class=\"align-right nowrap\">0.07</td><td class=\"align-right nowrap\">0.18</td></tr><tr><td class=\"align-right\">10</td><td class=\"player-title\"><a href=\"player/7142\">Moussa Dembele</a></td><td class=\"align-center\">F M</td><td class=\"align-right\">16</td><td class=\"align-right\">653</td><td class=\"align-right\">1</td><td class=\"align-right\">0</td><td class=\"align-right nowrap\">4.00</td><td class=\"align-right nowrap\">0.96</td><td class=\"align-right nowrap\">5.00<sup class=\"negative-value\">+4.00</sup></td><td class=\"align-right nowrap\">0.73<sup class=\"negative-value\">+0.73</sup></td><td class=\"align-right nowrap\">0.69</td><td class=\"align-right nowrap\">0.10</td></tr><tr><td class=\"align-right\">11</td><td class=\"player-title\"><a href=\"player/8327\">Bruno Guimarães</a></td><td class=\"align-center\">M</td><td class=\"align-right\">22</td><td class=\"align-right\">1207</td><td class=\"align-right\">1</td><td class=\"align-right\">1</td><td class=\"align-right nowrap\">1.57</td><td class=\"align-right nowrap\">0.97</td><td class=\"align-right nowrap\">0.75<sup class=\"positive-value\">-0.25</sup></td><td class=\"align-right nowrap\">1.05<sup class=\"negative-value\">+0.05</sup></td><td class=\"align-right nowrap\">0.06</td><td class=\"align-right nowrap\">0.08</td></tr><tr><td class=\"align-right\">12</td><td class=\"player-title\"><a href=\"player/1056\">Jeff Reine-Adelaide</a></td><td class=\"align-center\">S</td><td class=\"align-right\">1</td><td class=\"align-right\">22</td><td class=\"align-right\">0</td><td class=\"align-right\">0</td><td class=\"align-right nowrap\">4.09</td><td class=\"align-right nowrap\">4.09</td><td class=\"align-right nowrap\">0.08<sup class=\"negative-value\">+0.08</sup></td><td class=\"align-right nowrap\">0.03<sup class=\"negative-value\">+0.03</sup></td><td class=\"align-right nowrap\">0.33</td><td class=\"align-right nowrap\">0.14</td></tr><tr><td class=\"align-right\">13</td><td class=\"player-title\"><a href=\"player/1120\">Mattia De Sciglio</a></td><td class=\"align-center\">D</td><td class=\"align-right\">18</td><td class=\"align-right\">829</td><td class=\"align-right\">0</td><td class=\"align-right\">0</td><td class=\"align-right nowrap\">0.22</td><td class=\"align-right nowrap\">0.87</td><td class=\"align-right nowrap\">0.05<sup class=\"negative-value\">+0.05</sup></td><td class=\"align-right nowrap\">0.93<sup class=\"negative-value\">+0.93</sup></td><td class=\"align-right nowrap\">0.01</td><td class=\"align-right nowrap\">0.10</td></tr><tr><td class=\"align-right\">14</td><td class=\"player-title\"><a href=\"player/1682\">Islam Slimani</a></td><td class=\"align-center\">S</td><td class=\"align-right\">7</td><td class=\"align-right\">83</td><td class=\"align-right\">0</td><td class=\"align-right\">0</td><td class=\"align-right nowrap\">7.59</td><td class=\"align-right nowrap\">3.25</td><td class=\"align-right nowrap\">1.36<sup class=\"negative-value\">+1.36</sup></td><td class=\"align-right nowrap\">0.65<sup class=\"negative-value\">+0.65</sup></td><td class=\"align-right nowrap\">1.48</td><td class=\"align-right nowrap\">0.71</td></tr><tr><td class=\"align-right\">15</td><td class=\"player-title\"><a href=\"player/3269\">Anthony Lopes</a></td><td class=\"align-center\">GK</td><td class=\"align-right\">26</td><td class=\"align-right\">2340</td><td class=\"align-right\">0</td><td class=\"align-right\">0</td><td class=\"align-right nowrap\">0.00</td><td class=\"align-right nowrap\">0.00</td><td class=\"align-right nowrap\">0.00<sup></sup></td><td class=\"align-right nowrap\">0.00<sup></sup></td><td class=\"align-right nowrap\">0.00</td><td class=\"align-right nowrap\">0.00</td></tr><tr><td class=\"align-right\">16</td><td class=\"player-title\"><a href=\"player/5708\">Fernando Marçal</a></td><td class=\"align-center\">D</td><td class=\"align-right\">1</td><td class=\"align-right\">80</td><td class=\"align-right\">0</td><td class=\"align-right\">0</td><td class=\"align-right nowrap\">0.00</td><td class=\"align-right nowrap\">0.00</td><td class=\"align-right nowrap\">0.00<sup></sup></td><td class=\"align-right nowrap\">0.00<sup></sup></td><td class=\"align-right nowrap\">0.00</td><td class=\"align-right nowrap\">0.00</td></tr><tr><td class=\"align-right\">17</td><td class=\"player-title\"><a href=\"player/5973\">Kenny Tete</a></td><td class=\"align-center\">S</td><td class=\"align-right\">1</td><td class=\"align-right\">18</td><td class=\"align-right\">0</td><td class=\"align-right\">0</td><td class=\"align-right nowrap\">0.00</td><td class=\"align-right nowrap\">0.00</td><td class=\"align-right nowrap\">0.00<sup></sup></td><td class=\"align-right nowrap\">0.00<sup></sup></td><td class=\"align-right nowrap\">0.00</td><td class=\"align-right nowrap\">0.00</td></tr><tr><td class=\"align-right\">18</td><td class=\"player-title\"><a href=\"player/6011\">Thiago Mendes</a></td><td class=\"align-center\">M</td><td class=\"align-right\">20</td><td class=\"align-right\">1537</td><td class=\"align-right\">0</td><td class=\"align-right\">1</td><td class=\"align-right nowrap\">1.17</td><td class=\"align-right nowrap\">1.23</td><td class=\"align-right nowrap\">1.05<sup class=\"negative-value\">+1.05</sup></td><td class=\"align-right nowrap\">1.11<sup class=\"negative-value\">+0.11</sup></td><td class=\"align-right nowrap\">0.06</td><td class=\"align-right nowrap\">0.07</td></tr><tr><td class=\"align-right\">19</td><td class=\"player-title\"><a href=\"player/6314\">Joachim Andersen</a></td><td class=\"align-center\">D</td><td class=\"align-right\">3</td><td class=\"align-right\">190</td><td class=\"align-right\">0</td><td class=\"align-right\">0</td><td class=\"align-right nowrap\">2.37</td><td class=\"align-right nowrap\">0.00</td><td class=\"align-right nowrap\">0.48<sup class=\"negative-value\">+0.48</sup></td><td class=\"align-right nowrap\">0.00<sup></sup></td><td class=\"align-right nowrap\">0.23</td><td class=\"align-right nowrap\">0.00</td></tr><tr><td class=\"align-right\">20</td><td class=\"player-title\"><a href=\"player/7328\">Maxence Caqueret</a></td><td class=\"align-center\">M</td><td class=\"align-right\">19</td><td class=\"align-right\">1025</td><td class=\"align-right\">0</td><td class=\"align-right\">0</td><td class=\"align-right nowrap\">0.35</td><td class=\"align-right nowrap\">0.79</td><td class=\"align-right nowrap\">0.21<sup class=\"negative-value\">+0.21</sup></td><td class=\"align-right nowrap\">0.56<sup class=\"negative-value\">+0.56</sup></td><td class=\"align-right nowrap\">0.02</td><td class=\"align-right nowrap\">0.05</td></tr><tr><td class=\"align-right\">21</td><td class=\"player-title\"><a href=\"player/7687\">Jean Lucas</a></td><td class=\"align-center\">M</td><td class=\"align-right\">8</td><td class=\"align-right\">160</td><td class=\"align-right\">0</td><td class=\"align-right\">0</td><td class=\"align-right nowrap\">2.81</td><td class=\"align-right nowrap\">0.56</td><td class=\"align-right nowrap\">0.10<sup class=\"negative-value\">+0.10</sup></td><td class=\"align-right nowrap\">0.03<sup class=\"negative-value\">+0.03</sup></td><td class=\"align-right nowrap\">0.06</td><td class=\"align-right nowrap\">0.01</td></tr><tr><td class=\"align-right\">22</td><td class=\"player-title\"><a href=\"player/8094\">Mathis Cherki</a></td><td class=\"align-center\">F M</td><td class=\"align-right\">18</td><td class=\"align-right\">428</td><td class=\"align-right\">0</td><td class=\"align-right\">0</td><td class=\"align-right nowrap\">2.52</td><td class=\"align-right nowrap\">1.05</td><td class=\"align-right nowrap\">0.70<sup class=\"negative-value\">+0.70</sup></td><td class=\"align-right nowrap\">0.28<sup class=\"negative-value\">+0.28</sup></td><td class=\"align-right nowrap\">0.15</td><td class=\"align-right nowrap\">0.06</td></tr><tr><td class=\"align-right\">23</td><td class=\"player-title\"><a href=\"player/8190\">Melvin Bard</a></td><td class=\"align-center\">D</td><td class=\"align-right\">10</td><td class=\"align-right\">297</td><td class=\"align-right\">0</td><td class=\"align-right\">0</td><td class=\"align-right nowrap\">0.61</td><td class=\"align-right nowrap\">0.91</td><td class=\"align-right nowrap\">0.08<sup class=\"negative-value\">+0.08</sup></td><td class=\"align-right nowrap\">0.38<sup class=\"negative-value\">+0.38</sup></td><td class=\"align-right nowrap\">0.02</td><td class=\"align-right nowrap\">0.12</td></tr><tr><td class=\"align-right\">24</td><td class=\"player-title\"><a href=\"player/8703\">Sinaly Diomande</a></td><td class=\"align-center\">D M</td><td class=\"align-right\">21</td><td class=\"align-right\">927</td><td class=\"align-right\">0</td><td class=\"align-right\">0</td><td class=\"align-right nowrap\">1.17</td><td class=\"align-right nowrap\">0.19</td><td class=\"align-right nowrap\">0.59<sup class=\"negative-value\">+0.59</sup></td><td class=\"align-right nowrap\">0.10<sup class=\"negative-value\">+0.10</sup></td><td class=\"align-right nowrap\">0.06</td><td class=\"align-right nowrap\">0.01</td></tr><tr><td class=\"align-right\">25</td><td class=\"player-title\"><a href=\"player/9014\">Djamel Benlamri</a></td><td class=\"align-center\">S</td><td class=\"align-right\">5</td><td class=\"align-right\">130</td><td class=\"align-right\">0</td><td class=\"align-right\">0</td><td class=\"align-right nowrap\">0.00</td><td class=\"align-right nowrap\">0.69</td><td class=\"align-right nowrap\">0.00<sup></sup></td><td class=\"align-right nowrap\">0.02<sup class=\"negative-value\">+0.02</sup></td><td class=\"align-right nowrap\">0.00</td><td class=\"align-right nowrap\">0.02</td></tr><tr><td class=\"align-right\">26</td><td class=\"player-title\"><a href=\"player/9017\">Malo Gusto</a></td><td class=\"align-center\">S</td><td class=\"align-right\">1</td><td class=\"align-right\">1</td><td class=\"align-right\">0</td><td class=\"align-right\">0</td><td class=\"align-right nowrap\">0.00</td><td class=\"align-right nowrap\">0.00</td><td class=\"align-right nowrap\">0.00<sup></sup></td><td class=\"align-right nowrap\">0.00<sup></sup></td><td class=\"align-right nowrap\">0.00</td><td class=\"align-right nowrap\">0.00</td></tr><tr><td class=\"align-right\">27</td><td class=\"player-title\"><a href=\"player/9147\">Yaya Soumare</a></td><td class=\"align-center\">S</td><td class=\"align-right\">1</td><td class=\"align-right\">1</td><td class=\"align-right\">0</td><td class=\"align-right\">0</td><td class=\"align-right nowrap\">0.00</td><td class=\"align-right nowrap\">0.00</td><td class=\"align-right nowrap\">0.00<sup></sup></td><td class=\"align-right nowrap\">0.00<sup></sup></td><td class=\"align-right nowrap\">0.00</td><td class=\"align-right nowrap\">0.00</td></tr><tr><td class=\"align-right\">28</td><td class=\"player-title\"><a href=\"player/9237\">Florent da Silva</a></td><td class=\"align-center\">S</td><td class=\"align-right\">1</td><td class=\"align-right\">2</td><td class=\"align-right\">0</td><td class=\"align-right\">0</td><td class=\"align-right nowrap\">0.00</td><td class=\"align-right nowrap\">0.00</td><td class=\"align-right nowrap\">0.00<sup></sup></td><td class=\"align-right nowrap\">0.00<sup></sup></td><td class=\"align-right nowrap\">0.00</td><td class=\"align-right nowrap\">0.00</td></tr></tbody><tbody class=\"table-total\"><tr><td class=\"align-right\"></td><td class=\"player-title\"></td><td class=\"align-center\"></td><td class=\"align-right\"></td><td class=\"align-right\"></td><td class=\"align-right\">51</td><td class=\"align-right\">28</td><td class=\"align-right nowrap\">16.86</td><td class=\"align-right nowrap\">12.38</td><td class=\"align-right nowrap\">60.98<sup class=\"negative-value\">+9.98</sup></td><td class=\"align-right nowrap\">40.77<sup class=\"negative-value\">+12.77</sup></td><td class=\"align-right nowrap\">2.35</td><td class=\"align-right nowrap\">1.57</td></tr></tbody></table>'"
      ]
     },
     "metadata": {},
     "execution_count": 83
    }
   ],
   "source": [
    "get_xG_html_table()"
   ]
  },
  {
   "cell_type": "code",
   "execution_count": 8,
   "metadata": {
    "ExecuteTime": {
     "end_time": "2021-02-25T19:29:27.862809Z",
     "start_time": "2021-02-25T19:29:27.857992Z"
    },
    "code_folding": [
     0
    ]
   },
   "outputs": [],
   "source": [
    "def process_html(html_table: str) -> pd.DataFrame:\n",
    "    df_team = pd.read_html(html_table)[0].drop(\"№\", axis=1).iloc[:15]\n",
    "    \n",
    "    df_team[\"xG\"] = df_team[\"xG\"].str.split(r\"\\+|\\-\").apply(lambda x: float(x[0]))\n",
    "    df_team[\"xA\"] = df_team[\"xA\"].str.split(r\"\\+|\\-\").apply(lambda x: float(x[0]))\n",
    "\n",
    "    df_team[\"diff_xG\"] = (df_team[\"G\"] - df_team[\"xG\"])\n",
    "    df_team[\"diff_xA\"] = (df_team[\"A\"] - df_team[\"xA\"])\n",
    "\n",
    "    df_team = df_team[df_team[\"xG\"] > 0.5] # select only players that could score \n",
    "    df_team = df_team.round(2)\n",
    "    \n",
    "    return df_team"
   ]
  },
  {
   "cell_type": "code",
   "execution_count": 4,
   "metadata": {
    "ExecuteTime": {
     "end_time": "2021-02-25T19:29:27.876316Z",
     "start_time": "2021-02-25T19:29:27.865658Z"
    },
    "code_folding": [
     0
    ]
   },
   "outputs": [],
   "source": [
    "def plot_xG_df(df_xG_team: pd.DataFrame, team_name: str) -> None:\n",
    "    plot_max = df_xG_team[\"xG\"].max() + 1\n",
    "\n",
    "    amplitude = max(abs(df_xG_team[\"diff_xG\"].min()), abs(df_xG_team[\"diff_xG\"].max()))\n",
    "    \n",
    "    color_mapper = LinearColorMapper(\n",
    "        palette=RdYlGn[9][::-1], low=-amplitude, high=amplitude)\n",
    "\n",
    "    p = figure(title=f\"xG vs. vrais buts à {team_name} 2020-2021\")\n",
    "\n",
    "    p.line([0, plot_max], [0, plot_max], color=\"black\",\n",
    "           legend_label=\"Performance normale\", line_width=2)\n",
    "\n",
    "    p.line([0, plot_max], [0, 1.2 * plot_max], color=\"black\",\n",
    "           line_dash=[4, 4], legend_label=\"Surperf de 20 %\", line_color='green', line_width=2)\n",
    "\n",
    "    p.line([0, plot_max], [0, 0.8 * plot_max], color=\"black\",\n",
    "           line_dash=[4, 4], legend_label=\"Sousperf de 20 %\", line_color='red', line_width=2)\n",
    "\n",
    "    p.line([0, plot_max], [0, 1.4 * plot_max], color=\"black\",\n",
    "           line_dash=[4, 4], line_color='green', line_width=1)\n",
    "\n",
    "    p.line([0, plot_max], [0, 0.6 * plot_max], color=\"black\",\n",
    "           line_dash=[4, 4], line_color='red', line_width=1)\n",
    "\n",
    "\n",
    "    r = p.circle(x='xG',\n",
    "                 y='G',\n",
    "                 source=df_xG_team,\n",
    "                 size=10,\n",
    "                 color={'field': 'diff_xG', 'transform': color_mapper})\n",
    "\n",
    "    glyph = r.glyph\n",
    "    glyph.size = 15\n",
    "    glyph.fill_alpha = 1\n",
    "    glyph.line_color = \"black\"\n",
    "    glyph.line_width = 1\n",
    "\n",
    "    p.background_fill_color = \"gray\"\n",
    "    p.background_fill_alpha = 0.05\n",
    "\n",
    "    hover = HoverTool()\n",
    "    hover.tooltips = [\n",
    "        ('', '@Player'),\n",
    "        ('xG', '@xG{0.2f}'),\n",
    "        ('G', '@G{0.2f}'),\n",
    "        ('diff_xG', '@diff_xG{0.2f}')\n",
    "    ]\n",
    "\n",
    "    color_bar = ColorBar(color_mapper=color_mapper, width=8)\n",
    "\n",
    "    p.add_layout(color_bar, 'right')\n",
    "    p.add_tools(hover)\n",
    "    p.legend.location = \"top_left\"\n",
    "\n",
    "    show(p)"
   ]
  },
  {
   "cell_type": "code",
   "execution_count": 5,
   "metadata": {
    "ExecuteTime": {
     "end_time": "2021-02-25T19:29:33.265666Z",
     "start_time": "2021-02-25T19:29:28.711943Z"
    }
   },
   "outputs": [],
   "source": [
    "html_team_table = get_xG_html_table(\"Paris_Saint_Germain\")\n",
    "df_team = process_html(html_team_table)\n",
    "plot_xG_df(df_team, team_name=\"Paris_Saint_Germain\")"
   ]
  },
  {
   "cell_type": "code",
   "execution_count": 21,
   "metadata": {
    "ExecuteTime": {
     "end_time": "2021-02-25T19:29:33.276025Z",
     "start_time": "2021-02-25T19:29:33.271012Z"
    }
   },
   "outputs": [],
   "source": [
    "CHOIX_TEAMS = [\"<Choix d'un pays>\"]\n",
    "\n",
    "FRENCH_TEAMS = [\"<Choix d'une équipe>\", \"Lille\", \"Lyon\", \"Paris_Saint_Germain\",\n",
    "                \"Monaco\", \"Lens\", \"Metz\", \"Marseille\",\n",
    "                \"Rennes\", \"Lorient\", \"Strasbourg\",\n",
    "                \"Montpellier\", \"Bordeaux\", \"Nice\", \"Brest\",\n",
    "                \"Angers\", \"Nantes\", \"Reims\", \"Nantes\",\n",
    "                \"Dijon\", \"Nimes\"]\n",
    "\n",
    "GERMAN_TEAMS = [\"<Choix d'une équipe>\", 'Werder_Bremen', 'VfB_Stuttgart', 'Union_Berlin', 'Schalke_04',\n",
    "                'RasenBallsport_Leipzig', 'Mainz_05', 'Hoffenheim',\n",
    "                'Hertha_Berlin', 'Freiburg', 'FC_Cologne', 'Eintracht_Frankfurt',\n",
    "                'Borussia_M.Gladbach', 'Borussia_Dortmund', 'Bayern_Munich',\n",
    "                'Bayer_everkusen', 'Augsburg', 'Arminia_Bielefeld']\n",
    "\n",
    "ENGLISH_TEAMS = [\"<Choix d'une équipe>\", 'Manchester_City', 'Manchester_United', 'Leicester', 'West_Ham', 'Chelsea',\n",
    "                 'Liverpool', 'Everton', 'Aston_Villa', 'Tottenham', 'Leeds',\n",
    "                 'Arsenal', 'Wolverhampton_Wanderers', 'Crystal_Palace',\n",
    "                 'Southampton', 'Burnley', 'Brighton', 'Newcastle_United', 'Fulham',\n",
    "                 'West_Bromwich_Albion', 'Sheffield_United']\n",
    "\n",
    "SPANISH_TEAMS = [\"<Choix d'une équipe>\", 'Atletico_Madrid', 'Real_Madrid', 'Barcelona', 'Sevilla',\n",
    "                 'Real_Sociedad', 'Villarreal', 'Real_Betis', 'Levante', 'Granada',\n",
    "                 'Athletic_Club', 'Celta_Vigo', 'Valencia', 'Osasuna', 'Cadiz',\n",
    "                 'Getafe', 'Alaves', 'Eibar', 'Real_Valladolid', 'Elche',\n",
    "                 'SD_Huesca']\n",
    "\n",
    "ITALIAN_TEAMS = [\"<Choix d'une équipe>\", 'Inter', 'AC_Milan', 'Juventus', 'Roma', 'Atalanta', 'Lazio',\n",
    "                 'Napoli', 'Sassuolo', 'Verona', 'Sampdoria', 'Genoa', 'Bologna',\n",
    "                 'Udinese', 'Fiorentina', 'Benevento', 'Spezia', 'Torino',\n",
    "                 'Cagliari', 'Parma_Calcio_1913', 'Crotone']\n",
    "\n",
    "COUNTRY_TEAMS = {\"France\": FRENCH_TEAMS,\n",
    "                 \"Espagne\": SPANISH_TEAMS,\n",
    "                 \"Angleterre\": ENGLISH_TEAMS,\n",
    "                 \"Allemagne\": GERMAN_TEAMS,\n",
    "                 \"Italie\": ITALIAN_TEAMS,\n",
    "                 \"<Choix d'un pays>\": CHOIX_TEAMS}\n"
   ]
  },
  {
   "cell_type": "code",
   "execution_count": 22,
   "metadata": {
    "ExecuteTime": {
     "end_time": "2021-02-25T19:29:33.764251Z",
     "start_time": "2021-02-25T19:29:33.279617Z"
    }
   },
   "outputs": [],
   "source": [
    "import streamlit as st"
   ]
  },
  {
   "cell_type": "code",
   "execution_count": 115,
   "metadata": {
    "ExecuteTime": {
     "end_time": "2021-02-25T19:28:06.901372Z",
     "start_time": "2021-02-25T19:28:06.896155Z"
    }
   },
   "outputs": [],
   "source": [
    "option = st.selectbox(\n",
    "    'Quelle équipe veux-tu analyser',\n",
    "    list_of_teams)\n",
    "st.write('You selected:', option)"
   ]
  },
  {
   "cell_type": "code",
   "execution_count": 25,
   "metadata": {},
   "outputs": [
    {
     "output_type": "execute_result",
     "data": {
      "text/plain": [
       "[None, None, None, None, None, None]"
      ]
     },
     "metadata": {},
     "execution_count": 25
    }
   ],
   "source": [
    "teams = []\n",
    "[teams.extend(COUNTRY_TEAMS[x]) for x in COUNTRY_TEAMS.keys()]\n",
    "teams = [x for x in teams if x != \"<Choix d'une équipe>\"]"
   ]
  },
  {
   "cell_type": "code",
   "execution_count": 30,
   "metadata": {},
   "outputs": [],
   "source": [
    "LIST_OF_YEARS = [2020, 2019, 2018, 2017, 2016, 2015, 2014]"
   ]
  },
  {
   "cell_type": "code",
   "execution_count": 52,
   "metadata": {},
   "outputs": [],
   "source": [
    "def update_db(list_teams, list_years):\n",
    "    import itertools\n",
    "    for team, year in itertools.product(list_teams, list_years):\n",
    "        try:\n",
    "            get_xG_html_table(team, year, force_update=True)\n",
    "        except:\n",
    "            print(f'unable to update {team}-{year}')\n"
   ]
  },
  {
   "cell_type": "code",
   "execution_count": 53,
   "metadata": {},
   "outputs": [
    {
     "output_type": "stream",
     "name": "stdout",
     "text": [
      "Lyon 2020\n"
     ]
    }
   ],
   "source": [
    "update_db([\"Lyon\"], [2020])"
   ]
  },
  {
   "cell_type": "code",
   "execution_count": 28,
   "metadata": {},
   "outputs": [
    {
     "output_type": "execute_result",
     "data": {
      "text/plain": [
       "['Lille',\n",
       " 'Lyon',\n",
       " 'Paris_Saint_Germain',\n",
       " 'Monaco',\n",
       " 'Lens',\n",
       " 'Metz',\n",
       " 'Marseille',\n",
       " 'Rennes',\n",
       " 'Lorient',\n",
       " 'Strasbourg',\n",
       " 'Montpellier',\n",
       " 'Bordeaux',\n",
       " 'Nice',\n",
       " 'Brest',\n",
       " 'Angers',\n",
       " 'Nantes',\n",
       " 'Reims',\n",
       " 'Nantes',\n",
       " 'Dijon',\n",
       " 'Nimes',\n",
       " 'Atletico_Madrid',\n",
       " 'Real_Madrid',\n",
       " 'Barcelona',\n",
       " 'Sevilla',\n",
       " 'Real_Sociedad',\n",
       " 'Villarreal',\n",
       " 'Real_Betis',\n",
       " 'Levante',\n",
       " 'Granada',\n",
       " 'Athletic_Club',\n",
       " 'Celta_Vigo',\n",
       " 'Valencia',\n",
       " 'Osasuna',\n",
       " 'Cadiz',\n",
       " 'Getafe',\n",
       " 'Alaves',\n",
       " 'Eibar',\n",
       " 'Real_Valladolid',\n",
       " 'Elche',\n",
       " 'SD_Huesca',\n",
       " 'Manchester_City',\n",
       " 'Manchester_United',\n",
       " 'Leicester',\n",
       " 'West_Ham',\n",
       " 'Chelsea',\n",
       " 'Liverpool',\n",
       " 'Everton',\n",
       " 'Aston_Villa',\n",
       " 'Tottenham',\n",
       " 'Leeds',\n",
       " 'Arsenal',\n",
       " 'Wolverhampton_Wanderers',\n",
       " 'Crystal_Palace',\n",
       " 'Southampton',\n",
       " 'Burnley',\n",
       " 'Brighton',\n",
       " 'Newcastle_United',\n",
       " 'Fulham',\n",
       " 'West_Bromwich_Albion',\n",
       " 'Sheffield_United',\n",
       " 'Werder_Bremen',\n",
       " 'VfB_Stuttgart',\n",
       " 'Union_Berlin',\n",
       " 'Schalke_04',\n",
       " 'RasenBallsport_Leipzig',\n",
       " 'Mainz_05',\n",
       " 'Hoffenheim',\n",
       " 'Hertha_Berlin',\n",
       " 'Freiburg',\n",
       " 'FC_Cologne',\n",
       " 'Eintracht_Frankfurt',\n",
       " 'Borussia_M.Gladbach',\n",
       " 'Borussia_Dortmund',\n",
       " 'Bayern_Munich',\n",
       " 'Bayer_everkusen',\n",
       " 'Augsburg',\n",
       " 'Arminia_Bielefeld',\n",
       " 'Inter',\n",
       " 'AC_Milan',\n",
       " 'Juventus',\n",
       " 'Roma',\n",
       " 'Atalanta',\n",
       " 'Lazio',\n",
       " 'Napoli',\n",
       " 'Sassuolo',\n",
       " 'Verona',\n",
       " 'Sampdoria',\n",
       " 'Genoa',\n",
       " 'Bologna',\n",
       " 'Udinese',\n",
       " 'Fiorentina',\n",
       " 'Benevento',\n",
       " 'Spezia',\n",
       " 'Torino',\n",
       " 'Cagliari',\n",
       " 'Parma_Calcio_1913',\n",
       " 'Crotone',\n",
       " \"<Choix d'un pays>\"]"
      ]
     },
     "metadata": {},
     "execution_count": 28
    }
   ],
   "source": [
    "for team, year in itertools.product(a, LIST_OF_YEARS):\n",
    "    "
   ]
  },
  {
   "cell_type": "code",
   "execution_count": null,
   "metadata": {},
   "outputs": [],
   "source": []
  }
 ],
 "metadata": {
  "kernelspec": {
   "display_name": "Python 3",
   "language": "python",
   "name": "python3"
  },
  "language_info": {
   "codemirror_mode": {
    "name": "ipython",
    "version": 3
   },
   "file_extension": ".py",
   "mimetype": "text/x-python",
   "name": "python",
   "nbconvert_exporter": "python",
   "pygments_lexer": "ipython3",
   "version": "3.8.3-final"
  },
  "toc": {
   "base_numbering": 1,
   "nav_menu": {},
   "number_sections": true,
   "sideBar": true,
   "skip_h1_title": false,
   "title_cell": "Table of Contents",
   "title_sidebar": "Contents",
   "toc_cell": false,
   "toc_position": {},
   "toc_section_display": true,
   "toc_window_display": false
  }
 },
 "nbformat": 4,
 "nbformat_minor": 4
}