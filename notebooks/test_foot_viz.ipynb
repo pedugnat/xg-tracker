{
 "cells": [
  {
   "cell_type": "code",
   "execution_count": 1,
   "metadata": {
    "ExecuteTime": {
     "end_time": "2021-02-25T19:29:27.847968Z",
     "start_time": "2021-02-25T19:29:26.434534Z"
    }
   },
   "outputs": [],
   "source": [
    "import pandas as pd\n",
    "import matplotlib.pyplot as plt\n",
    "from bs4 import BeautifulSoup\n",
    "\n",
    "import bokeh\n",
    "from bokeh.palettes import RdYlGn\n",
    "from bokeh.models import ColumnDataSource, LinearColorMapper, ColorBar, ColumnDataSource\n",
    "from bokeh.plotting import figure, output_file, show\n",
    "from bokeh.transform import linear_cmap\n",
    "from bokeh.models.tools import HoverTool\n",
    "\n",
    "from selenium import webdriver\n",
    "CHROMEDRIVER_PATH = \"/Users/paulemiledugnat/Downloads/chromedriver_upd\""
   ]
  },
  {
   "cell_type": "code",
   "execution_count": 2,
   "metadata": {},
   "outputs": [],
   "source": [
    "team_name = \"Lyon\"\n",
    "\n",
    "driver = webdriver.Chrome(executable_path=CHROMEDRIVER_PATH)\n",
    "driver.get(f\"https://understat.com/team/{team_name}/2020\")\n",
    "\n",
    "team_soup = BeautifulSoup(driver.page_source)\n",
    "table_html = team_soup.find(\"div\", {\"id\": \"team-statistics\"}).find(\"table\")\n",
    "\n",
    "driver.quit()"
   ]
  },
  {
   "cell_type": "code",
   "execution_count": 3,
   "metadata": {},
   "outputs": [
    {
     "output_type": "execute_result",
     "data": {
      "text/plain": [
       "   №        Situation   Sh   G  ShA  GA           xG         xGA    xGD  \\\n",
       "0  1        Open play  319  37  223  19  47.19+10.19  17.36-1.64  29.83   \n",
       "1  2      From corner   68   2   45   1    6.01+4.01   3.09+2.09   2.92   \n",
       "2  3        Set piece   23   4   16   1    2.84-1.16   1.39+0.39   1.45   \n",
       "3  4  Direct Freekick   21   2   11   0    1.10-0.90   0.79+0.79   0.31   \n",
       "4  5          Penalty    9   9    5   3    6.84-2.16   3.80+0.80   3.04   \n",
       "\n",
       "   xG/Sh  xGA/Sh  \n",
       "0   0.15    0.08  \n",
       "1   0.09    0.07  \n",
       "2   0.12    0.09  \n",
       "3   0.05    0.07  \n",
       "4   0.76    0.76  "
      ],
      "text/html": "<div>\n<style scoped>\n    .dataframe tbody tr th:only-of-type {\n        vertical-align: middle;\n    }\n\n    .dataframe tbody tr th {\n        vertical-align: top;\n    }\n\n    .dataframe thead th {\n        text-align: right;\n    }\n</style>\n<table border=\"1\" class=\"dataframe\">\n  <thead>\n    <tr style=\"text-align: right;\">\n      <th></th>\n      <th>№</th>\n      <th>Situation</th>\n      <th>Sh</th>\n      <th>G</th>\n      <th>ShA</th>\n      <th>GA</th>\n      <th>xG</th>\n      <th>xGA</th>\n      <th>xGD</th>\n      <th>xG/Sh</th>\n      <th>xGA/Sh</th>\n    </tr>\n  </thead>\n  <tbody>\n    <tr>\n      <th>0</th>\n      <td>1</td>\n      <td>Open play</td>\n      <td>319</td>\n      <td>37</td>\n      <td>223</td>\n      <td>19</td>\n      <td>47.19+10.19</td>\n      <td>17.36-1.64</td>\n      <td>29.83</td>\n      <td>0.15</td>\n      <td>0.08</td>\n    </tr>\n    <tr>\n      <th>1</th>\n      <td>2</td>\n      <td>From corner</td>\n      <td>68</td>\n      <td>2</td>\n      <td>45</td>\n      <td>1</td>\n      <td>6.01+4.01</td>\n      <td>3.09+2.09</td>\n      <td>2.92</td>\n      <td>0.09</td>\n      <td>0.07</td>\n    </tr>\n    <tr>\n      <th>2</th>\n      <td>3</td>\n      <td>Set piece</td>\n      <td>23</td>\n      <td>4</td>\n      <td>16</td>\n      <td>1</td>\n      <td>2.84-1.16</td>\n      <td>1.39+0.39</td>\n      <td>1.45</td>\n      <td>0.12</td>\n      <td>0.09</td>\n    </tr>\n    <tr>\n      <th>3</th>\n      <td>4</td>\n      <td>Direct Freekick</td>\n      <td>21</td>\n      <td>2</td>\n      <td>11</td>\n      <td>0</td>\n      <td>1.10-0.90</td>\n      <td>0.79+0.79</td>\n      <td>0.31</td>\n      <td>0.05</td>\n      <td>0.07</td>\n    </tr>\n    <tr>\n      <th>4</th>\n      <td>5</td>\n      <td>Penalty</td>\n      <td>9</td>\n      <td>9</td>\n      <td>5</td>\n      <td>3</td>\n      <td>6.84-2.16</td>\n      <td>3.80+0.80</td>\n      <td>3.04</td>\n      <td>0.76</td>\n      <td>0.76</td>\n    </tr>\n  </tbody>\n</table>\n</div>"
     },
     "metadata": {},
     "execution_count": 3
    }
   ],
   "source": [
    "pd.read_html(str(table_html))[0]"
   ]
  },
  {
   "cell_type": "code",
   "execution_count": 4,
   "metadata": {},
   "outputs": [],
   "source": [
    "def process_html_stat(html_table: str) -> pd.DataFrame:\n",
    "    df_team = pd.read_html(html_table)[0].drop(\"№\", axis=1)\n",
    "    \n",
    "    df_team[\"xG\"] = df_team[\"xG\"].str.split(r\"\\+|\\-\").apply(lambda x: float(x[0]))\n",
    "    df_team[\"xGA\"] = df_team[\"xGA\"].str.split(r\"\\+|\\-\").apply(lambda x: float(x[0]))\n",
    "\n",
    "    df_team[\"diff_xG\"] = (df_team[\"G\"] - df_team[\"xG\"])\n",
    "    df_team[\"diff_xGA\"] = (df_team[\"GA\"] - df_team[\"xGA\"])\n",
    "    \n",
    "    return df_team"
   ]
  },
  {
   "cell_type": "code",
   "execution_count": 40,
   "metadata": {},
   "outputs": [],
   "source": [
    "from bokeh.models import CategoricalTicker, NumeralTickFormatter\n",
    "from bokeh.plotting import figure\n",
    "from bokeh.models.tools import HoverTool\n"
   ]
  },
  {
   "cell_type": "code",
   "execution_count": 41,
   "metadata": {},
   "outputs": [
    {
     "output_type": "execute_result",
     "data": {
      "text/plain": [
       "     Situation   Sh   G  ShA  GA     xG    xGA    xGD  xG/Sh  xGA/Sh  diff_xG  \\\n",
       "0    Open play  319  37  223  19  47.19  17.36  29.83   0.15    0.08   -10.19   \n",
       "1  From corner   68   2   45   1   6.01   3.09   2.92   0.09    0.07    -4.01   \n",
       "\n",
       "   diff_xGA  \n",
       "0      1.64  \n",
       "1     -2.09  "
      ],
      "text/html": "<div>\n<style scoped>\n    .dataframe tbody tr th:only-of-type {\n        vertical-align: middle;\n    }\n\n    .dataframe tbody tr th {\n        vertical-align: top;\n    }\n\n    .dataframe thead th {\n        text-align: right;\n    }\n</style>\n<table border=\"1\" class=\"dataframe\">\n  <thead>\n    <tr style=\"text-align: right;\">\n      <th></th>\n      <th>Situation</th>\n      <th>Sh</th>\n      <th>G</th>\n      <th>ShA</th>\n      <th>GA</th>\n      <th>xG</th>\n      <th>xGA</th>\n      <th>xGD</th>\n      <th>xG/Sh</th>\n      <th>xGA/Sh</th>\n      <th>diff_xG</th>\n      <th>diff_xGA</th>\n    </tr>\n  </thead>\n  <tbody>\n    <tr>\n      <th>0</th>\n      <td>Open play</td>\n      <td>319</td>\n      <td>37</td>\n      <td>223</td>\n      <td>19</td>\n      <td>47.19</td>\n      <td>17.36</td>\n      <td>29.83</td>\n      <td>0.15</td>\n      <td>0.08</td>\n      <td>-10.19</td>\n      <td>1.64</td>\n    </tr>\n    <tr>\n      <th>1</th>\n      <td>From corner</td>\n      <td>68</td>\n      <td>2</td>\n      <td>45</td>\n      <td>1</td>\n      <td>6.01</td>\n      <td>3.09</td>\n      <td>2.92</td>\n      <td>0.09</td>\n      <td>0.07</td>\n      <td>-4.01</td>\n      <td>-2.09</td>\n    </tr>\n  </tbody>\n</table>\n</div>"
     },
     "metadata": {},
     "execution_count": 41
    }
   ],
   "source": [
    "df = process_html_stat(str(table_html))\n",
    "df.head(2)"
   ]
  },
  {
   "cell_type": "code",
   "execution_count": 46,
   "metadata": {},
   "outputs": [],
   "source": [
    "from bokeh.layouts import row"
   ]
  },
  {
   "cell_type": "code",
   "execution_count": 65,
   "metadata": {},
   "outputs": [
    {
     "output_type": "stream",
     "name": "stderr",
     "text": [
      "WARNING:bokeh.core.validation.check:W-1000 (MISSING_RENDERERS): Plot has no renderers: Figure(id='8775', ...)\n"
     ]
    }
   ],
   "source": [
    "x = df['Situation']\n",
    "y = df['diff_xG']\n",
    "\n",
    "amplitude = df['diff_xG'].abs().max() + 1\n",
    "color_mapper = LinearColorMapper(palette=RdYlGn[9][::-1], low=-amplitude, high=amplitude)\n",
    "\n",
    "h_barchart = figure(\n",
    "    title='Visualisation de la diff xG pour Lyon, saison 2020-2021',\n",
    "    y_range=x.values,\n",
    "    plot_width=1500,\n",
    "    plot_height=500,\n",
    "    x_range=(- amplitude, amplitude))\n",
    "\n",
    "h_barchart.yaxis.ticker = CategoricalTicker()\n",
    "r = h_barchart.hbar(right=y, y=x, height=0.2,\n",
    "    color={'field': \"right\", 'transform': color_mapper},\n",
    "    )\n",
    "\n",
    "glyph = r.glyph\n",
    "glyph.fill_alpha = 1\n",
    "glyph.line_color = \"black\"\n",
    "glyph.line_width = 0.2\n",
    "\n",
    "hover = HoverTool()\n",
    "hover.tooltips = [\n",
    "    ('diff xG', '@y'),\n",
    "    ('Catégorie', '@right{0.2f}'),\n",
    "]\n",
    "\n",
    "h_barchart.add_tools(hover)\n",
    "h_barchart.toolbar.logo = None\n",
    "h_barchart.toolbar_location = None\n",
    "\n",
    "color_bar = ColorBar(color_mapper=color_mapper, width=12)\n",
    "color_bar_plot = figure(height=500, width=100, \n",
    "                        toolbar_location=\"right\")\n",
    "\n",
    "color_bar_plot.add_layout(color_bar, 'right')\n",
    "color_bar_plot.toolbar.logo = None\n",
    "color_bar_plot.toolbar_location = None\n",
    "\n",
    "layout = row(h_barchart, color_bar_plot)\n",
    "\n",
    "show(layout)"
   ]
  },
  {
   "cell_type": "code",
   "execution_count": null,
   "metadata": {},
   "outputs": [],
   "source": []
  },
  {
   "cell_type": "code",
   "execution_count": null,
   "metadata": {},
   "outputs": [],
   "source": [
    "data = np.random.normal(0, 0.5, 1000)\n",
    "hist, edges = np.histogram(data, density=True, bins=50)\n",
    "\n",
    "p = figure()\n",
    "p.quad(top=hist, bottom=0, left=edges[:-1], right=edges[1:], line_color=\"white\")\n",
    "\n",
    "output_file(\"hist.html\")\n",
    "show(p)"
   ]
  },
  {
   "cell_type": "code",
   "execution_count": 66,
   "metadata": {},
   "outputs": [],
   "source": [
    "from bokeh.io import output_file, show\n",
    "from bokeh.palettes import Category20c\n",
    "from bokeh.plotting import figure\n",
    "from bokeh.transform import cumsum\n",
    "\n",
    "df['angle'] = df['xG'] / df['xG'].sum() * (2 * 3.14159)\n",
    "df['color'] = Category20c[df.shape[0]]"
   ]
  },
  {
   "cell_type": "code",
   "execution_count": 72,
   "metadata": {},
   "outputs": [],
   "source": [
    "p = figure(plot_height=350, title=\"Pie Chart\", toolbar_location=None,\n",
    "           tools=\"hover\", tooltips=\"@Situation: @xG{0.1f} xG\", x_range=(-0.5, 1.0))\n",
    "\n",
    "p.wedge(x=0, y=1, radius=0.4,\n",
    "        start_angle=cumsum('angle', include_zero=True), end_angle=cumsum('angle'),\n",
    "        line_color=\"white\", fill_color='color', legend_field='Situation', source=df)\n",
    "\n",
    "p.axis.axis_label=None\n",
    "p.axis.visible=False\n",
    "p.grid.grid_line_color = None\n",
    "\n",
    "show(p)"
   ]
  },
  {
   "cell_type": "code",
   "execution_count": 2,
   "metadata": {
    "ExecuteTime": {
     "end_time": "2021-02-25T19:29:27.855056Z",
     "start_time": "2021-02-25T19:29:27.850224Z"
    },
    "code_folding": [
     0
    ]
   },
   "outputs": [],
   "source": [
    "def get_xG_html_table(team_name: str) -> str:\n",
    "    driver = webdriver.Chrome(executable_path=CHROMEDRIVER_PATH)\n",
    "    driver.get(f\"https://understat.com/team/{team_name}/2020\")\n",
    "    \n",
    "    team_soup = BeautifulSoup(driver.page_source)\n",
    "    table_html = team_soup.find(\"div\", {\"id\": \"team-players\"}).find(\"table\")\n",
    "    \n",
    "    driver.quit()\n",
    "\n",
    "    return str(table_html)"
   ]
  },
  {
   "cell_type": "code",
   "execution_count": 8,
   "metadata": {
    "ExecuteTime": {
     "end_time": "2021-02-25T19:29:27.862809Z",
     "start_time": "2021-02-25T19:29:27.857992Z"
    },
    "code_folding": [
     0
    ]
   },
   "outputs": [],
   "source": [
    "def process_html(html_table: str) -> pd.DataFrame:\n",
    "    df_team = pd.read_html(html_table)[0].drop(\"№\", axis=1).iloc[:15]\n",
    "    \n",
    "    df_team[\"xG\"] = df_team[\"xG\"].str.split(r\"\\+|\\-\").apply(lambda x: float(x[0]))\n",
    "    df_team[\"xA\"] = df_team[\"xA\"].str.split(r\"\\+|\\-\").apply(lambda x: float(x[0]))\n",
    "\n",
    "    df_team[\"diff_xG\"] = (df_team[\"G\"] - df_team[\"xG\"])\n",
    "    df_team[\"diff_xA\"] = (df_team[\"A\"] - df_team[\"xA\"])\n",
    "\n",
    "    df_team = df_team[df_team[\"xG\"] > 0.5] # select only players that could score \n",
    "    df_team = df_team.round(2)\n",
    "    \n",
    "    return df_team"
   ]
  },
  {
   "cell_type": "code",
   "execution_count": 4,
   "metadata": {
    "ExecuteTime": {
     "end_time": "2021-02-25T19:29:27.876316Z",
     "start_time": "2021-02-25T19:29:27.865658Z"
    },
    "code_folding": [
     0
    ]
   },
   "outputs": [],
   "source": [
    "def plot_xG_df(df_xG_team: pd.DataFrame, team_name: str) -> None:\n",
    "    plot_max = df_xG_team[\"xG\"].max() + 1\n",
    "\n",
    "    amplitude = max(abs(df_xG_team[\"diff_xG\"].min()), abs(df_xG_team[\"diff_xG\"].max()))\n",
    "    \n",
    "    color_mapper = LinearColorMapper(\n",
    "        palette=RdYlGn[9][::-1], low=-amplitude, high=amplitude)\n",
    "\n",
    "    p = figure(title=f\"xG vs. vrais buts à {team_name} 2020-2021\")\n",
    "\n",
    "    p.line([0, plot_max], [0, plot_max], color=\"black\",\n",
    "           legend_label=\"Performance normale\", line_width=2)\n",
    "\n",
    "    p.line([0, plot_max], [0, 1.2 * plot_max], color=\"black\",\n",
    "           line_dash=[4, 4], legend_label=\"Surperf de 20 %\", line_color='green', line_width=2)\n",
    "\n",
    "    p.line([0, plot_max], [0, 0.8 * plot_max], color=\"black\",\n",
    "           line_dash=[4, 4], legend_label=\"Sousperf de 20 %\", line_color='red', line_width=2)\n",
    "\n",
    "    p.line([0, plot_max], [0, 1.4 * plot_max], color=\"black\",\n",
    "           line_dash=[4, 4], line_color='green', line_width=1)\n",
    "\n",
    "    p.line([0, plot_max], [0, 0.6 * plot_max], color=\"black\",\n",
    "           line_dash=[4, 4], line_color='red', line_width=1)\n",
    "\n",
    "\n",
    "    r = p.circle(x='xG',\n",
    "                 y='G',\n",
    "                 source=df_xG_team,\n",
    "                 size=10,\n",
    "                 color={'field': 'diff_xG', 'transform': color_mapper})\n",
    "\n",
    "    glyph = r.glyph\n",
    "    glyph.size = 15\n",
    "    glyph.fill_alpha = 1\n",
    "    glyph.line_color = \"black\"\n",
    "    glyph.line_width = 1\n",
    "\n",
    "    p.background_fill_color = \"gray\"\n",
    "    p.background_fill_alpha = 0.05\n",
    "\n",
    "    hover = HoverTool()\n",
    "    hover.tooltips = [\n",
    "        ('', '@Player'),\n",
    "        ('xG', '@xG{0.2f}'),\n",
    "        ('G', '@G{0.2f}'),\n",
    "        ('diff_xG', '@diff_xG{0.2f}')\n",
    "    ]\n",
    "\n",
    "    color_bar = ColorBar(color_mapper=color_mapper, width=8)\n",
    "\n",
    "    p.add_layout(color_bar, 'right')\n",
    "    p.add_tools(hover)\n",
    "    p.legend.location = \"top_left\"\n",
    "\n",
    "    show(p)"
   ]
  },
  {
   "cell_type": "code",
   "execution_count": 5,
   "metadata": {
    "ExecuteTime": {
     "end_time": "2021-02-25T19:29:33.265666Z",
     "start_time": "2021-02-25T19:29:28.711943Z"
    }
   },
   "outputs": [],
   "source": [
    "html_team_table = get_xG_html_table(\"Paris_Saint_Germain\")\n",
    "df_team = process_html(html_team_table)\n",
    "plot_xG_df(df_team, team_name=\"Paris_Saint_Germain\")"
   ]
  },
  {
   "cell_type": "code",
   "execution_count": 21,
   "metadata": {
    "ExecuteTime": {
     "end_time": "2021-02-25T19:29:33.276025Z",
     "start_time": "2021-02-25T19:29:33.271012Z"
    }
   },
   "outputs": [],
   "source": [
    "CHOIX_TEAMS = [\"<Choix d'un pays>\"]\n",
    "\n",
    "FRENCH_TEAMS = [\"<Choix d'une équipe>\", \"Lille\", \"Lyon\", \"Paris_Saint_Germain\",\n",
    "                \"Monaco\", \"Lens\", \"Metz\", \"Marseille\",\n",
    "                \"Rennes\", \"Lorient\", \"Strasbourg\",\n",
    "                \"Montpellier\", \"Bordeaux\", \"Nice\", \"Brest\",\n",
    "                \"Angers\", \"Nantes\", \"Reims\", \"Nantes\",\n",
    "                \"Dijon\", \"Nimes\"]\n",
    "\n",
    "GERMAN_TEAMS = [\"<Choix d'une équipe>\", 'Werder_Bremen', 'VfB_Stuttgart', 'Union_Berlin', 'Schalke_04',\n",
    "                'RasenBallsport_Leipzig', 'Mainz_05', 'Hoffenheim',\n",
    "                'Hertha_Berlin', 'Freiburg', 'FC_Cologne', 'Eintracht_Frankfurt',\n",
    "                'Borussia_M.Gladbach', 'Borussia_Dortmund', 'Bayern_Munich',\n",
    "                'Bayer_everkusen', 'Augsburg', 'Arminia_Bielefeld']\n",
    "\n",
    "ENGLISH_TEAMS = [\"<Choix d'une équipe>\", 'Manchester_City', 'Manchester_United', 'Leicester', 'West_Ham', 'Chelsea',\n",
    "                 'Liverpool', 'Everton', 'Aston_Villa', 'Tottenham', 'Leeds',\n",
    "                 'Arsenal', 'Wolverhampton_Wanderers', 'Crystal_Palace',\n",
    "                 'Southampton', 'Burnley', 'Brighton', 'Newcastle_United', 'Fulham',\n",
    "                 'West_Bromwich_Albion', 'Sheffield_United']\n",
    "\n",
    "SPANISH_TEAMS = [\"<Choix d'une équipe>\", 'Atletico_Madrid', 'Real_Madrid', 'Barcelona', 'Sevilla',\n",
    "                 'Real_Sociedad', 'Villarreal', 'Real_Betis', 'Levante', 'Granada',\n",
    "                 'Athletic_Club', 'Celta_Vigo', 'Valencia', 'Osasuna', 'Cadiz',\n",
    "                 'Getafe', 'Alaves', 'Eibar', 'Real_Valladolid', 'Elche',\n",
    "                 'SD_Huesca']\n",
    "\n",
    "ITALIAN_TEAMS = [\"<Choix d'une équipe>\", 'Inter', 'AC_Milan', 'Juventus', 'Roma', 'Atalanta', 'Lazio',\n",
    "                 'Napoli', 'Sassuolo', 'Verona', 'Sampdoria', 'Genoa', 'Bologna',\n",
    "                 'Udinese', 'Fiorentina', 'Benevento', 'Spezia', 'Torino',\n",
    "                 'Cagliari', 'Parma_Calcio_1913', 'Crotone']\n",
    "\n",
    "COUNTRY_TEAMS = {\"France\": FRENCH_TEAMS,\n",
    "                 \"Espagne\": SPANISH_TEAMS,\n",
    "                 \"Angleterre\": ENGLISH_TEAMS,\n",
    "                 \"Allemagne\": GERMAN_TEAMS,\n",
    "                 \"Italie\": ITALIAN_TEAMS,\n",
    "                 \"<Choix d'un pays>\": CHOIX_TEAMS}\n"
   ]
  },
  {
   "cell_type": "code",
   "execution_count": 22,
   "metadata": {
    "ExecuteTime": {
     "end_time": "2021-02-25T19:29:33.764251Z",
     "start_time": "2021-02-25T19:29:33.279617Z"
    }
   },
   "outputs": [],
   "source": [
    "import streamlit as st"
   ]
  },
  {
   "cell_type": "code",
   "execution_count": 115,
   "metadata": {
    "ExecuteTime": {
     "end_time": "2021-02-25T19:28:06.901372Z",
     "start_time": "2021-02-25T19:28:06.896155Z"
    }
   },
   "outputs": [],
   "source": [
    "option = st.selectbox(\n",
    "    'Quelle équipe veux-tu analyser',\n",
    "    list_of_teams)\n",
    "st.write('You selected:', option)"
   ]
  },
  {
   "cell_type": "code",
   "execution_count": 25,
   "metadata": {},
   "outputs": [
    {
     "output_type": "execute_result",
     "data": {
      "text/plain": [
       "[None, None, None, None, None, None]"
      ]
     },
     "metadata": {},
     "execution_count": 25
    }
   ],
   "source": [
    "teams = []\n",
    "[teams.extend(COUNTRY_TEAMS[x]) for x in COUNTRY_TEAMS.keys()]\n",
    "teams = [x for x in teams if x != \"<Choix d'une équipe>\"]"
   ]
  },
  {
   "cell_type": "code",
   "execution_count": 30,
   "metadata": {},
   "outputs": [],
   "source": [
    "LIST_OF_YEARS = [2020, 2019, 2018, 2017, 2016, 2015, 2014]"
   ]
  },
  {
   "cell_type": "code",
   "execution_count": 52,
   "metadata": {},
   "outputs": [],
   "source": [
    "def update_db(list_teams, list_years):\n",
    "    import itertools\n",
    "    for team, year in itertools.product(list_teams, list_years):\n",
    "        try:\n",
    "            get_xG_html_table(team, year, force_update=True)\n",
    "        except:\n",
    "            print(f'unable to update {team}-{year}')\n"
   ]
  },
  {
   "cell_type": "code",
   "execution_count": 53,
   "metadata": {},
   "outputs": [
    {
     "output_type": "stream",
     "name": "stdout",
     "text": [
      "Lyon 2020\n"
     ]
    }
   ],
   "source": [
    "update_db([\"Lyon\"], [2020])"
   ]
  },
  {
   "cell_type": "code",
   "execution_count": 28,
   "metadata": {},
   "outputs": [
    {
     "output_type": "execute_result",
     "data": {
      "text/plain": [
       "['Lille',\n",
       " 'Lyon',\n",
       " 'Paris_Saint_Germain',\n",
       " 'Monaco',\n",
       " 'Lens',\n",
       " 'Metz',\n",
       " 'Marseille',\n",
       " 'Rennes',\n",
       " 'Lorient',\n",
       " 'Strasbourg',\n",
       " 'Montpellier',\n",
       " 'Bordeaux',\n",
       " 'Nice',\n",
       " 'Brest',\n",
       " 'Angers',\n",
       " 'Nantes',\n",
       " 'Reims',\n",
       " 'Nantes',\n",
       " 'Dijon',\n",
       " 'Nimes',\n",
       " 'Atletico_Madrid',\n",
       " 'Real_Madrid',\n",
       " 'Barcelona',\n",
       " 'Sevilla',\n",
       " 'Real_Sociedad',\n",
       " 'Villarreal',\n",
       " 'Real_Betis',\n",
       " 'Levante',\n",
       " 'Granada',\n",
       " 'Athletic_Club',\n",
       " 'Celta_Vigo',\n",
       " 'Valencia',\n",
       " 'Osasuna',\n",
       " 'Cadiz',\n",
       " 'Getafe',\n",
       " 'Alaves',\n",
       " 'Eibar',\n",
       " 'Real_Valladolid',\n",
       " 'Elche',\n",
       " 'SD_Huesca',\n",
       " 'Manchester_City',\n",
       " 'Manchester_United',\n",
       " 'Leicester',\n",
       " 'West_Ham',\n",
       " 'Chelsea',\n",
       " 'Liverpool',\n",
       " 'Everton',\n",
       " 'Aston_Villa',\n",
       " 'Tottenham',\n",
       " 'Leeds',\n",
       " 'Arsenal',\n",
       " 'Wolverhampton_Wanderers',\n",
       " 'Crystal_Palace',\n",
       " 'Southampton',\n",
       " 'Burnley',\n",
       " 'Brighton',\n",
       " 'Newcastle_United',\n",
       " 'Fulham',\n",
       " 'West_Bromwich_Albion',\n",
       " 'Sheffield_United',\n",
       " 'Werder_Bremen',\n",
       " 'VfB_Stuttgart',\n",
       " 'Union_Berlin',\n",
       " 'Schalke_04',\n",
       " 'RasenBallsport_Leipzig',\n",
       " 'Mainz_05',\n",
       " 'Hoffenheim',\n",
       " 'Hertha_Berlin',\n",
       " 'Freiburg',\n",
       " 'FC_Cologne',\n",
       " 'Eintracht_Frankfurt',\n",
       " 'Borussia_M.Gladbach',\n",
       " 'Borussia_Dortmund',\n",
       " 'Bayern_Munich',\n",
       " 'Bayer_everkusen',\n",
       " 'Augsburg',\n",
       " 'Arminia_Bielefeld',\n",
       " 'Inter',\n",
       " 'AC_Milan',\n",
       " 'Juventus',\n",
       " 'Roma',\n",
       " 'Atalanta',\n",
       " 'Lazio',\n",
       " 'Napoli',\n",
       " 'Sassuolo',\n",
       " 'Verona',\n",
       " 'Sampdoria',\n",
       " 'Genoa',\n",
       " 'Bologna',\n",
       " 'Udinese',\n",
       " 'Fiorentina',\n",
       " 'Benevento',\n",
       " 'Spezia',\n",
       " 'Torino',\n",
       " 'Cagliari',\n",
       " 'Parma_Calcio_1913',\n",
       " 'Crotone',\n",
       " \"<Choix d'un pays>\"]"
      ]
     },
     "metadata": {},
     "execution_count": 28
    }
   ],
   "source": [
    "for team, year in itertools.product(a, LIST_OF_YEARS):\n",
    "    "
   ]
  },
  {
   "cell_type": "code",
   "execution_count": null,
   "metadata": {},
   "outputs": [],
   "source": []
  }
 ],
 "metadata": {
  "kernelspec": {
   "display_name": "Python 3",
   "language": "python",
   "name": "python3"
  },
  "language_info": {
   "codemirror_mode": {
    "name": "ipython",
    "version": 3
   },
   "file_extension": ".py",
   "mimetype": "text/x-python",
   "name": "python",
   "nbconvert_exporter": "python",
   "pygments_lexer": "ipython3",
   "version": "3.8.3-final"
  },
  "toc": {
   "base_numbering": 1,
   "nav_menu": {},
   "number_sections": true,
   "sideBar": true,
   "skip_h1_title": false,
   "title_cell": "Table of Contents",
   "title_sidebar": "Contents",
   "toc_cell": false,
   "toc_position": {},
   "toc_section_display": true,
   "toc_window_display": false
  }
 },
 "nbformat": 4,
 "nbformat_minor": 4
}