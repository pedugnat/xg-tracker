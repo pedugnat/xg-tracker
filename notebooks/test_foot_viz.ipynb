{
 "cells": [
  {
   "cell_type": "code",
   "execution_count": 1,
   "metadata": {
    "ExecuteTime": {
     "end_time": "2021-03-20T11:14:01.364362Z",
     "start_time": "2021-03-20T11:13:59.462972Z"
    }
   },
   "outputs": [],
   "source": [
    "import pandas as pd\n",
    "import matplotlib.pyplot as plt\n",
    "from bs4 import BeautifulSoup\n",
    "\n",
    "import bokeh\n",
    "from bokeh.palettes import RdYlGn\n",
    "from bokeh.models import ColumnDataSource, LinearColorMapper, ColorBar, ColumnDataSource\n",
    "from bokeh.plotting import figure, output_file, show\n",
    "from bokeh.transform import linear_cmap\n",
    "from bokeh.models.tools import HoverTool\n",
    "\n",
    "from selenium import webdriver\n",
    "from selenium.webdriver.chrome.options import Options\n",
    "\n",
    "CHROMEDRIVER_PATH = \"/Users/paulemiledugnat/Downloads/chromedriver_upd\""
   ]
  },
  {
   "cell_type": "code",
   "execution_count": 6,
   "metadata": {
    "ExecuteTime": {
     "end_time": "2021-03-20T11:16:48.941382Z",
     "start_time": "2021-03-20T11:16:44.662268Z"
    }
   },
   "outputs": [],
   "source": [
    "league_name = \"Ligue_1\"\n",
    "\n",
    "chrome_options = Options()\n",
    "chrome_options.add_argument(\"--headless\")\n",
    "\n",
    "driver = webdriver.Chrome(options=chrome_options, executable_path=CHROMEDRIVER_PATH)\n",
    "\n",
    "driver.get(f\"https://understat.com/league/{league_name}\")\n",
    "\n",
    "team_soup = BeautifulSoup(driver.page_source)\n",
    "table_html = team_soup.find(\"div\", {\"id\": \"league-chemp\"}).find(\"table\")\n",
    "\n",
    "driver.quit()"
   ]
  },
  {
   "cell_type": "code",
   "execution_count": 96,
   "metadata": {
    "ExecuteTime": {
     "end_time": "2021-03-20T11:56:19.005359Z",
     "start_time": "2021-03-20T11:56:18.982805Z"
    }
   },
   "outputs": [],
   "source": []
  },
  {
   "cell_type": "code",
   "execution_count": 97,
   "metadata": {
    "ExecuteTime": {
     "end_time": "2021-03-20T11:56:19.274004Z",
     "start_time": "2021-03-20T11:56:19.260907Z"
    }
   },
   "outputs": [
    {
     "data": {
      "text/html": [
       "<div>\n",
       "<style scoped>\n",
       "    .dataframe tbody tr th:only-of-type {\n",
       "        vertical-align: middle;\n",
       "    }\n",
       "\n",
       "    .dataframe tbody tr th {\n",
       "        vertical-align: top;\n",
       "    }\n",
       "\n",
       "    .dataframe thead th {\n",
       "        text-align: right;\n",
       "    }\n",
       "</style>\n",
       "<table border=\"1\" class=\"dataframe\">\n",
       "  <thead>\n",
       "    <tr style=\"text-align: right;\">\n",
       "      <th></th>\n",
       "      <th>№</th>\n",
       "      <th>Team</th>\n",
       "      <th>M</th>\n",
       "      <th>W</th>\n",
       "      <th>D</th>\n",
       "      <th>L</th>\n",
       "      <th>G</th>\n",
       "      <th>GA</th>\n",
       "      <th>PTS</th>\n",
       "      <th>xG</th>\n",
       "      <th>xGA</th>\n",
       "      <th>xPTS</th>\n",
       "    </tr>\n",
       "  </thead>\n",
       "  <tbody>\n",
       "    <tr>\n",
       "      <th>0</th>\n",
       "      <td>1</td>\n",
       "      <td>Lille</td>\n",
       "      <td>29</td>\n",
       "      <td>18</td>\n",
       "      <td>9</td>\n",
       "      <td>2</td>\n",
       "      <td>49</td>\n",
       "      <td>17</td>\n",
       "      <td>63</td>\n",
       "      <td>38.68-10.32</td>\n",
       "      <td>17.55+0.55</td>\n",
       "      <td>54.18-8.82</td>\n",
       "    </tr>\n",
       "    <tr>\n",
       "      <th>1</th>\n",
       "      <td>2</td>\n",
       "      <td>Paris Saint Germain</td>\n",
       "      <td>29</td>\n",
       "      <td>19</td>\n",
       "      <td>3</td>\n",
       "      <td>7</td>\n",
       "      <td>63</td>\n",
       "      <td>19</td>\n",
       "      <td>60</td>\n",
       "      <td>64.56+1.56</td>\n",
       "      <td>29.74+10.74</td>\n",
       "      <td>58.69-1.31</td>\n",
       "    </tr>\n",
       "  </tbody>\n",
       "</table>\n",
       "</div>"
      ],
      "text/plain": [
       "   №                 Team   M   W  D  L   G  GA  PTS           xG  \\\n",
       "0  1                Lille  29  18  9  2  49  17   63  38.68-10.32   \n",
       "1  2  Paris Saint Germain  29  19  3  7  63  19   60   64.56+1.56   \n",
       "\n",
       "           xGA        xPTS  \n",
       "0   17.55+0.55  54.18-8.82  \n",
       "1  29.74+10.74  58.69-1.31  "
      ]
     },
     "execution_count": 97,
     "metadata": {},
     "output_type": "execute_result"
    }
   ],
   "source": [
    "df_league.head(2)"
   ]
  },
  {
   "cell_type": "code",
   "execution_count": 98,
   "metadata": {
    "ExecuteTime": {
     "end_time": "2021-03-20T11:56:19.541312Z",
     "start_time": "2021-03-20T11:56:19.525985Z"
    }
   },
   "outputs": [],
   "source": [
    "def process_html_ligue(html_league_table: str):\n",
    "\n",
    "    df_league = pd.read_html(str(table_html))[0]\n",
    "\n",
    "    for col in [\"xG\", \"xGA\", \"xPTS\"]:\n",
    "        df_league[col] = df_league[col].str.split('[+-]', expand=True)[0].astype(float)\n",
    "        df_league[f\"diff_{col}\"] = df_league[col[1:]] - df_league[col]\n",
    "\n",
    "    df_league[\"theoretical_rank\"] = df_league[\"xPTS\"].rank(ascending=False)\n",
    "    df_league[\"true_rank\"] = df_league[\"PTS\"].rank(ascending=False)\n",
    "    \n",
    "    return df_league"
   ]
  },
  {
   "cell_type": "code",
   "execution_count": 99,
   "metadata": {
    "ExecuteTime": {
     "end_time": "2021-03-20T11:56:20.226948Z",
     "start_time": "2021-03-20T11:56:20.208128Z"
    }
   },
   "outputs": [
    {
     "data": {
      "text/html": [
       "<div>\n",
       "<style scoped>\n",
       "    .dataframe tbody tr th:only-of-type {\n",
       "        vertical-align: middle;\n",
       "    }\n",
       "\n",
       "    .dataframe tbody tr th {\n",
       "        vertical-align: top;\n",
       "    }\n",
       "\n",
       "    .dataframe thead th {\n",
       "        text-align: right;\n",
       "    }\n",
       "</style>\n",
       "<table border=\"1\" class=\"dataframe\">\n",
       "  <thead>\n",
       "    <tr style=\"text-align: right;\">\n",
       "      <th></th>\n",
       "      <th>№</th>\n",
       "      <th>Team</th>\n",
       "      <th>M</th>\n",
       "      <th>W</th>\n",
       "      <th>D</th>\n",
       "      <th>L</th>\n",
       "      <th>G</th>\n",
       "      <th>GA</th>\n",
       "      <th>PTS</th>\n",
       "      <th>xG</th>\n",
       "      <th>xGA</th>\n",
       "      <th>xPTS</th>\n",
       "      <th>diff_xG</th>\n",
       "      <th>theoretical_rank</th>\n",
       "      <th>diff_xGA</th>\n",
       "      <th>diff_xPTS</th>\n",
       "      <th>true_rank</th>\n",
       "    </tr>\n",
       "  </thead>\n",
       "  <tbody>\n",
       "    <tr>\n",
       "      <th>0</th>\n",
       "      <td>1</td>\n",
       "      <td>Lille</td>\n",
       "      <td>29</td>\n",
       "      <td>18</td>\n",
       "      <td>9</td>\n",
       "      <td>2</td>\n",
       "      <td>49</td>\n",
       "      <td>17</td>\n",
       "      <td>63</td>\n",
       "      <td>38.68</td>\n",
       "      <td>17.55</td>\n",
       "      <td>54.18</td>\n",
       "      <td>10.32</td>\n",
       "      <td>4.0</td>\n",
       "      <td>-0.55</td>\n",
       "      <td>8.82</td>\n",
       "      <td>1.0</td>\n",
       "    </tr>\n",
       "    <tr>\n",
       "      <th>1</th>\n",
       "      <td>2</td>\n",
       "      <td>Paris Saint Germain</td>\n",
       "      <td>29</td>\n",
       "      <td>19</td>\n",
       "      <td>3</td>\n",
       "      <td>7</td>\n",
       "      <td>63</td>\n",
       "      <td>19</td>\n",
       "      <td>60</td>\n",
       "      <td>64.56</td>\n",
       "      <td>29.74</td>\n",
       "      <td>58.69</td>\n",
       "      <td>-1.56</td>\n",
       "      <td>2.0</td>\n",
       "      <td>-10.74</td>\n",
       "      <td>1.31</td>\n",
       "      <td>2.5</td>\n",
       "    </tr>\n",
       "  </tbody>\n",
       "</table>\n",
       "</div>"
      ],
      "text/plain": [
       "   №                 Team   M   W  D  L   G  GA  PTS     xG    xGA   xPTS  \\\n",
       "0  1                Lille  29  18  9  2  49  17   63  38.68  17.55  54.18   \n",
       "1  2  Paris Saint Germain  29  19  3  7  63  19   60  64.56  29.74  58.69   \n",
       "\n",
       "   diff_xG  theoretical_rank  diff_xGA  diff_xPTS  true_rank  \n",
       "0    10.32               4.0     -0.55       8.82        1.0  \n",
       "1    -1.56               2.0    -10.74       1.31        2.5  "
      ]
     },
     "execution_count": 99,
     "metadata": {},
     "output_type": "execute_result"
    }
   ],
   "source": [
    "df_league.head(2)"
   ]
  },
  {
   "cell_type": "code",
   "execution_count": 100,
   "metadata": {
    "ExecuteTime": {
     "end_time": "2021-03-20T11:56:44.438789Z",
     "start_time": "2021-03-20T11:56:44.435486Z"
    }
   },
   "outputs": [],
   "source": [
    "from bokeh.layouts import row\n",
    "from bokeh.models import (CategoricalTicker, ColorBar, ColumnDataSource,\n",
    "                          LinearColorMapper, NumeralTickFormatter, FactorRange)\n",
    "from bokeh.models.tools import HoverTool\n",
    "from bokeh.palettes import RdYlGn\n",
    "from bokeh.plotting import figure, output_file, show\n",
    "from bokeh.plotting.figure import Figure\n",
    "from bokeh.transform import linear_cmap"
   ]
  },
  {
   "cell_type": "code",
   "execution_count": 85,
   "metadata": {
    "ExecuteTime": {
     "end_time": "2021-03-20T11:43:48.083401Z",
     "start_time": "2021-03-20T11:43:48.066146Z"
    }
   },
   "outputs": [],
   "source": [
    "def plot_xG_league(df_xG_league: pd.DataFrame, league_name: str, year: int, mode=\"G\") -> Figure:\n",
    "    if mode == \"G\":\n",
    "        full_mode = \"Goal\"\n",
    "    elif mode == \"GA\":\n",
    "        full_mode = \"GoalAgainst\"\n",
    "    elif mode == \"PTS\":\n",
    "        full_mode = \"Points\"\n",
    "    else:\n",
    "        raise AttributeError(f\"No such mode {mode}\")\n",
    "        \n",
    "    k_offset = 5\n",
    "\n",
    "    plot_max = max(df_xG_league[f\"x{mode}\"].max() + k_offset,\n",
    "                   df_xG_league[f\"{mode}\"].max() + k_offset)\n",
    "    \n",
    "    plot_min = min(df_xG_league[f\"x{mode}\"].min() - k_offset,\n",
    "               df_xG_league[f\"{mode}\"].min() - k_offset)\n",
    "\n",
    "    amplitude = max(abs(df_xG_league[f\"diff_x{mode}\"].min()),\n",
    "                    abs(df_xG_league[f\"diff_x{mode}\"].max()))\n",
    "\n",
    "    color_mapper = LinearColorMapper(\n",
    "        palette=RdYlGn[9][::-1], low=-amplitude, high=amplitude)\n",
    "\n",
    "    fig = figure(\n",
    "        title=f\"x{full_mode} vs. vrais {full_mode} pour {league_name}, saison {year}-{year + 1}\",\n",
    "        y_range=(plot_min, plot_max),\n",
    "        x_range=(plot_min, plot_max),\n",
    "        plot_width=900,\n",
    "        plot_height=600,\n",
    "    )\n",
    "\n",
    "    fig.xaxis.axis_label = f'x{full_mode}'\n",
    "    fig.yaxis.axis_label = f'{full_mode}'\n",
    "    fig.xaxis.axis_label_text_font_size = \"18pt\"\n",
    "    fig.yaxis.axis_label_text_font_size = \"18pt\"\n",
    "\n",
    "    fig.line([0, plot_max], [0, plot_max], color=\"black\",\n",
    "             legend_label=\"Performance normale\", line_width=2)\n",
    "\n",
    "    r = fig.circle(x=f'x{mode}',\n",
    "                   y=f'{mode}',\n",
    "                   source=df_xG_league,\n",
    "                   size=10,\n",
    "                   color={'field': f'diff_x{mode}', 'transform': color_mapper})\n",
    "\n",
    "    glyph = r.glyph\n",
    "    glyph.size = 15\n",
    "    glyph.fill_alpha = 1\n",
    "    glyph.line_color = \"black\"\n",
    "    glyph.line_width = 1\n",
    "\n",
    "    fig.background_fill_color = \"gray\"\n",
    "    fig.background_fill_alpha = 0.05\n",
    "\n",
    "    hover = HoverTool()\n",
    "    if mode == \"G\":\n",
    "        hover.tooltips = [\n",
    "            ('', '@Team'),\n",
    "            ('xG', '@xG{0.2f}'),\n",
    "            ('G', '@G{0.2f}'),\n",
    "            ('Diff. xG vs G', '@diff_xG{0.2f}')\n",
    "        ]\n",
    "    elif mode == \"GA\":\n",
    "        hover.tooltips = [\n",
    "            ('', '@Team'),\n",
    "            ('xGA', '@xGA{0.2f}'),\n",
    "            ('GA', '@GA{0.2f}'),\n",
    "            ('Diff. xGA vs GA', '@diff_xGA{0.2f}')\n",
    "        ]\n",
    "    elif mode == \"PTS\":\n",
    "        hover.tooltips = [\n",
    "            ('', '@Team'),\n",
    "            ('xPTS', '@xPTS{0.2f}'),\n",
    "            ('PTS', '@PTS{0.2f}'),\n",
    "            ('Diff. xPTS vs PTS', '@diff_xPTS{0.2f}')\n",
    "        ]\n",
    "    else:\n",
    "        raise AttributeError(f\"No such mode {mode}\")\n",
    "\n",
    "    color_bar = ColorBar(color_mapper=color_mapper, width=8)\n",
    "\n",
    "    fig.add_layout(color_bar, 'right')\n",
    "    fig.add_tools(hover)\n",
    "    fig.legend.location = \"top_left\"\n",
    "\n",
    "    fig.toolbar.logo = None\n",
    "    fig.toolbar_location = None\n",
    "\n",
    "    show(fig)"
   ]
  },
  {
   "cell_type": "code",
   "execution_count": 88,
   "metadata": {
    "ExecuteTime": {
     "end_time": "2021-03-20T11:44:20.528853Z",
     "start_time": "2021-03-20T11:44:20.353378Z"
    }
   },
   "outputs": [],
   "source": [
    "plot_xG_league(df_league, league_name=\"Ligue_1\", year=2020, mode=\"PTS\")"
   ]
  },
  {
   "cell_type": "code",
   "execution_count": 4,
   "metadata": {},
   "outputs": [],
   "source": [
    "from bokeh.io import output_file, show\n",
    "from bokeh.palettes import Spectral5\n",
    "from bokeh.plotting import figure\n",
    "from bokeh.sampledata.autompg import autompg_clean as df\n",
    "from bokeh.transform import factor_cmap"
   ]
  },
  {
   "cell_type": "code",
   "execution_count": 8,
   "metadata": {},
   "outputs": [],
   "source": [
    "import itertools"
   ]
  },
  {
   "cell_type": "code",
   "execution_count": 20,
   "metadata": {},
   "outputs": [
    {
     "ename": "ModuleNotFoundError",
     "evalue": "No module named 'config'",
     "output_type": "error",
     "traceback": [
      "\u001b[0;31m---------------------------------------------------------------------------\u001b[0m",
      "\u001b[0;31mModuleNotFoundError\u001b[0m                       Traceback (most recent call last)",
      "\u001b[0;32m<ipython-input-20-75286f0caaeb>\u001b[0m in \u001b[0;36m<module>\u001b[0;34m\u001b[0m\n\u001b[0;32m----> 1\u001b[0;31m \u001b[0;32mimport\u001b[0m \u001b[0mconfig\u001b[0m\u001b[0;34m\u001b[0m\u001b[0;34m\u001b[0m\u001b[0m\n\u001b[0m",
      "\u001b[0;31mModuleNotFoundError\u001b[0m: No module named 'config'"
     ]
    }
   ],
   "source": [
    "import config"
   ]
  },
  {
   "cell_type": "code",
   "execution_count": 14,
   "metadata": {},
   "outputs": [],
   "source": [
    "def get_xG_html_table(team_name: str, year: int, force_update: bool = False, stats: str = \"players\") -> str:\n",
    "    path_name = os.path.join(\n",
    "        config.CACHE_PATH, f\"{team_name}_{year}_{stats}.txt\")\n",
    "\n",
    "    # try cache\n",
    "    if os.path.exists(path_name) and not force_update:\n",
    "        with open(path_name) as cache_text:\n",
    "            table_html = cache_text.read().replace('\\n', '')\n",
    "        return table_html\n",
    "\n",
    "    driver = get_driver()\n",
    "\n",
    "    driver.get(f\"https://understat.com/team/{team_name}/{year}\")\n",
    "    team_soup = BeautifulSoup(driver.page_source)\n",
    "    table_html = str(team_soup.find(\n",
    "        \"div\", {\"id\": f\"team-{stats}\"}).find(\"table\"))\n",
    "\n",
    "    driver.quit()\n",
    "\n",
    "    with open(path_name, \"w\") as cache_text:\n",
    "        cache_text.write(table_html)\n",
    "\n",
    "    return table_html\n"
   ]
  },
  {
   "cell_type": "code",
   "execution_count": 21,
   "metadata": {},
   "outputs": [],
   "source": [
    "import os\n",
    "\n",
    "CACHE_PATH = \"data_cache\"\n",
    "\n",
    "if 'DYNO' in os.environ:     # heroku env\n",
    "    GOOGLE_CHROME_PATH = '/app/.apt/usr/bin/google_chrome'\n",
    "    CHROMEDRIVER_PATH = '/app/.chromedriver/bin/chromedriver'\n",
    "else:                        # local env\n",
    "    GOOGLE_CHROME_PATH = ''\n",
    "    CHROMEDRIVER_PATH = \"src/chromedriver_upd\"\n",
    "\n",
    "LIST_OF_YEARS = [2020, 2019, 2018, 2017, 2016, 2015, 2014]\n",
    "\n",
    "LIST_OF_COUNTRIES = [\"<Choix d'un pays>\", \"France\", \"Espagne\",\n",
    "                     \"Angleterre\", \"Allemagne\", \"Italie\"]\n",
    "\n",
    "CHOIX_TEAMS = [\"<Choix d'un pays>\"]\n",
    "\n",
    "FRENCH_TEAMS = [\"<Choix d'une équipe>\", \"Lille\", \"Lyon\", \"Paris_Saint_Germain\",\n",
    "                \"Monaco\", \"Lens\", \"Metz\", \"Marseille\",\n",
    "                \"Rennes\", \"Lorient\", \"Strasbourg\",\n",
    "                \"Montpellier\", \"Bordeaux\", \"Nice\", \"Brest\",\n",
    "                \"Angers\", \"Nantes\", \"Reims\", \"Nantes\",\n",
    "                \"Dijon\", \"Nimes\"]\n",
    "\n",
    "GERMAN_TEAMS = [\"<Choix d'une équipe>\", 'Werder_Bremen', 'VfB_Stuttgart', 'Union_Berlin', 'Schalke_04',\n",
    "                'RasenBallsport_Leipzig', 'Mainz_05', 'Hoffenheim',\n",
    "                'Hertha_Berlin', 'Freiburg', 'FC_Cologne', 'Eintracht_Frankfurt',\n",
    "                'Borussia_M.Gladbach', 'Borussia_Dortmund', 'Bayern_Munich',\n",
    "                'Bayer_Leverkusen', 'Augsburg', 'Arminia_Bielefeld']\n",
    "\n",
    "ENGLISH_TEAMS = [\"<Choix d'une équipe>\", 'Manchester_City', 'Manchester_United', 'Leicester', 'West_Ham', 'Chelsea',\n",
    "                 'Liverpool', 'Everton', 'Aston_Villa', 'Tottenham', 'Leeds',\n",
    "                 'Arsenal', 'Wolverhampton_Wanderers', 'Crystal_Palace',\n",
    "                 'Southampton', 'Burnley', 'Brighton', 'Newcastle_United', 'Fulham',\n",
    "                 'West_Bromwich_Albion', 'Sheffield_United']\n",
    "\n",
    "SPANISH_TEAMS = [\"<Choix d'une équipe>\", 'Atletico_Madrid', 'Real_Madrid', 'Barcelona', 'Sevilla',\n",
    "                 'Real_Sociedad', 'Villarreal', 'Real_Betis', 'Levante', 'Granada',\n",
    "                 'Athletic_Club', 'Celta_Vigo', 'Valencia', 'Osasuna', 'Cadiz',\n",
    "                 'Getafe', 'Alaves', 'Eibar', 'Real_Valladolid', 'Elche',\n",
    "                 'SD_Huesca']\n",
    "\n",
    "ITALIAN_TEAMS = [\"<Choix d'une équipe>\", 'Inter', 'AC_Milan', 'Juventus', 'Roma', 'Atalanta', 'Lazio',\n",
    "                 'Napoli', 'Sassuolo', 'Verona', 'Sampdoria', 'Genoa', 'Bologna',\n",
    "                 'Udinese', 'Fiorentina', 'Benevento', 'Spezia', 'Torino',\n",
    "                 'Cagliari', 'Parma_Calcio_1913', 'Crotone']\n",
    "\n",
    "COUNTRY_TEAMS = {\"France\": FRENCH_TEAMS,\n",
    "                 \"Espagne\": SPANISH_TEAMS,\n",
    "                 \"Angleterre\": ENGLISH_TEAMS,\n",
    "                 \"Allemagne\": GERMAN_TEAMS,\n",
    "                 \"Italie\": ITALIAN_TEAMS,\n",
    "                 \"<Choix d'un pays>\": CHOIX_TEAMS}\n"
   ]
  },
  {
   "cell_type": "code",
   "execution_count": 16,
   "metadata": {},
   "outputs": [],
   "source": [
    "def update_db(list_teams, list_years):\n",
    "    for team, year in itertools.product(list_teams, list_years):\n",
    "        get_xG_html_table(team, year, force_update=True)\n",
    "\n"
   ]
  },
  {
   "cell_type": "code",
   "execution_count": 22,
   "metadata": {},
   "outputs": [
    {
     "ename": "NameError",
     "evalue": "name 'config' is not defined",
     "output_type": "error",
     "traceback": [
      "\u001b[0;31m---------------------------------------------------------------------------\u001b[0m",
      "\u001b[0;31mNameError\u001b[0m                                 Traceback (most recent call last)",
      "\u001b[0;32m<ipython-input-22-cab698c4b30a>\u001b[0m in \u001b[0;36m<module>\u001b[0;34m\u001b[0m\n\u001b[0;32m----> 1\u001b[0;31m \u001b[0mupdate_db\u001b[0m\u001b[0;34m(\u001b[0m\u001b[0;34m[\u001b[0m\u001b[0;34m\"Lyon\"\u001b[0m\u001b[0;34m,\u001b[0m \u001b[0;34m\"Lille\"\u001b[0m\u001b[0;34m]\u001b[0m\u001b[0;34m,\u001b[0m \u001b[0;34m[\u001b[0m\u001b[0;36m2020\u001b[0m\u001b[0;34m]\u001b[0m\u001b[0;34m)\u001b[0m\u001b[0;34m\u001b[0m\u001b[0;34m\u001b[0m\u001b[0m\n\u001b[0m",
      "\u001b[0;32m<ipython-input-16-3e823836d693>\u001b[0m in \u001b[0;36mupdate_db\u001b[0;34m(list_teams, list_years)\u001b[0m\n\u001b[1;32m      1\u001b[0m \u001b[0;32mdef\u001b[0m \u001b[0mupdate_db\u001b[0m\u001b[0;34m(\u001b[0m\u001b[0mlist_teams\u001b[0m\u001b[0;34m,\u001b[0m \u001b[0mlist_years\u001b[0m\u001b[0;34m)\u001b[0m\u001b[0;34m:\u001b[0m\u001b[0;34m\u001b[0m\u001b[0;34m\u001b[0m\u001b[0m\n\u001b[1;32m      2\u001b[0m     \u001b[0;32mfor\u001b[0m \u001b[0mteam\u001b[0m\u001b[0;34m,\u001b[0m \u001b[0myear\u001b[0m \u001b[0;32min\u001b[0m \u001b[0mitertools\u001b[0m\u001b[0;34m.\u001b[0m\u001b[0mproduct\u001b[0m\u001b[0;34m(\u001b[0m\u001b[0mlist_teams\u001b[0m\u001b[0;34m,\u001b[0m \u001b[0mlist_years\u001b[0m\u001b[0;34m)\u001b[0m\u001b[0;34m:\u001b[0m\u001b[0;34m\u001b[0m\u001b[0;34m\u001b[0m\u001b[0m\n\u001b[0;32m----> 3\u001b[0;31m         \u001b[0mget_xG_html_table\u001b[0m\u001b[0;34m(\u001b[0m\u001b[0mteam\u001b[0m\u001b[0;34m,\u001b[0m \u001b[0myear\u001b[0m\u001b[0;34m,\u001b[0m \u001b[0mforce_update\u001b[0m\u001b[0;34m=\u001b[0m\u001b[0;32mTrue\u001b[0m\u001b[0;34m)\u001b[0m\u001b[0;34m\u001b[0m\u001b[0;34m\u001b[0m\u001b[0m\n\u001b[0m\u001b[1;32m      4\u001b[0m \u001b[0;34m\u001b[0m\u001b[0m\n",
      "\u001b[0;32m<ipython-input-14-734e617ca393>\u001b[0m in \u001b[0;36mget_xG_html_table\u001b[0;34m(team_name, year, force_update, stats)\u001b[0m\n\u001b[1;32m      1\u001b[0m \u001b[0;32mdef\u001b[0m \u001b[0mget_xG_html_table\u001b[0m\u001b[0;34m(\u001b[0m\u001b[0mteam_name\u001b[0m\u001b[0;34m:\u001b[0m \u001b[0mstr\u001b[0m\u001b[0;34m,\u001b[0m \u001b[0myear\u001b[0m\u001b[0;34m:\u001b[0m \u001b[0mint\u001b[0m\u001b[0;34m,\u001b[0m \u001b[0mforce_update\u001b[0m\u001b[0;34m:\u001b[0m \u001b[0mbool\u001b[0m \u001b[0;34m=\u001b[0m \u001b[0;32mFalse\u001b[0m\u001b[0;34m,\u001b[0m \u001b[0mstats\u001b[0m\u001b[0;34m:\u001b[0m \u001b[0mstr\u001b[0m \u001b[0;34m=\u001b[0m \u001b[0;34m\"players\"\u001b[0m\u001b[0;34m)\u001b[0m \u001b[0;34m->\u001b[0m \u001b[0mstr\u001b[0m\u001b[0;34m:\u001b[0m\u001b[0;34m\u001b[0m\u001b[0;34m\u001b[0m\u001b[0m\n\u001b[1;32m      2\u001b[0m     path_name = os.path.join(\n\u001b[0;32m----> 3\u001b[0;31m         config.CACHE_PATH, f\"{team_name}_{year}_{stats}.txt\")\n\u001b[0m\u001b[1;32m      4\u001b[0m \u001b[0;34m\u001b[0m\u001b[0m\n\u001b[1;32m      5\u001b[0m     \u001b[0;31m# try cache\u001b[0m\u001b[0;34m\u001b[0m\u001b[0;34m\u001b[0m\u001b[0;34m\u001b[0m\u001b[0m\n",
      "\u001b[0;31mNameError\u001b[0m: name 'config' is not defined"
     ]
    }
   ],
   "source": [
    "update_db([\"Lyon\", \"Lille\"], [2020])"
   ]
  },
  {
   "cell_type": "code",
   "execution_count": 6,
   "metadata": {},
   "outputs": [
    {
     "ename": "NameError",
     "evalue": "name 'st' is not defined",
     "output_type": "error",
     "traceback": [
      "\u001b[0;31m---------------------------------------------------------------------------\u001b[0m",
      "\u001b[0;31mNameError\u001b[0m                                 Traceback (most recent call last)",
      "\u001b[0;32m<ipython-input-6-e454ffa6687d>\u001b[0m in \u001b[0;36m<module>\u001b[0;34m\u001b[0m\n\u001b[0;32m----> 1\u001b[0;31m \u001b[0mst\u001b[0m\u001b[0;34m.\u001b[0m\u001b[0msidebar\u001b[0m\u001b[0;34m.\u001b[0m\u001b[0mheader\u001b[0m\u001b[0;34m(\u001b[0m\u001b[0;34m\"Paramètres\"\u001b[0m\u001b[0;34m)\u001b[0m\u001b[0;34m\u001b[0m\u001b[0;34m\u001b[0m\u001b[0m\n\u001b[0m\u001b[1;32m      2\u001b[0m \u001b[0;34m\u001b[0m\u001b[0m\n\u001b[1;32m      3\u001b[0m country_choice = st.sidebar.selectbox(\n\u001b[1;32m      4\u001b[0m     \u001b[0;34m'Quelle pays veux-tu analyser ?'\u001b[0m\u001b[0;34m,\u001b[0m\u001b[0;34m\u001b[0m\u001b[0;34m\u001b[0m\u001b[0m\n\u001b[1;32m      5\u001b[0m     \u001b[0mconfig\u001b[0m\u001b[0;34m.\u001b[0m\u001b[0mLIST_OF_COUNTRIES\u001b[0m\u001b[0;34m,\u001b[0m\u001b[0;34m\u001b[0m\u001b[0;34m\u001b[0m\u001b[0m\n",
      "\u001b[0;31mNameError\u001b[0m: name 'st' is not defined"
     ]
    }
   ],
   "source": [
    "st.sidebar.header(\"Paramètres\")\n",
    "\n",
    "country_choice = st.sidebar.selectbox(\n",
    "    'Quelle pays veux-tu analyser ?',\n",
    "    config.LIST_OF_COUNTRIES,\n",
    "    index=0)\n",
    "\n",
    "team_choice = st.sidebar.selectbox(\n",
    "    'Quelle équipe veux-tu analyser ?',\n",
    "    config.COUNTRY_TEAMS[country_choice],\n",
    "    index=0)\n",
    "\n",
    "year_choice = st.sidebar.selectbox(\n",
    "    'Quelle année veux-tu analyser ?',\n",
    "    config.LIST_OF_YEARS,\n",
    "    index=0)\n",
    "\n",
    "st.sidebar.header(\"Analyses\")\n",
    "\n",
    "st.sidebar.text(\"\")\n",
    "goal_options = st.sidebar.checkbox(\"Montrer les buts\", value=True)\n",
    "\n",
    "st.sidebar.text(\"\")\n",
    "assist_options = st.sidebar.checkbox(\"Montrer les assists\", value=True)\n",
    "\n",
    "st.sidebar.text(\"\")\n",
    "situations_options = st.sidebar.checkbox(\"Montrer les situations\", value=True)\n",
    "\n",
    "st.sidebar.text(\"\")\n",
    "shots_quality_options = st.sidebar.checkbox(\n",
    "    \"Montrer la qualité des tirs\", value=True)"
   ]
  },
  {
   "cell_type": "code",
   "execution_count": 130,
   "metadata": {},
   "outputs": [],
   "source": [
    "df_stats = df_stats[df_stats[\"Situation\"] != \"Penalty\"]\n",
    "x = list(itertools.product(df_stats[\"Situation\"], [\"xG/Sh\", \"xGA/Sh\"]))\n",
    "counts = sum(zip(df_stats['xG/Sh'], df_stats['xGA/Sh']), ())\n",
    "\n",
    "source = ColumnDataSource(data=dict(x=x, counts=counts))\n",
    "_ = \"représente la qualité des tirs vs. la qualité des tirs adverses\"\n",
    "\n",
    "p = figure(x_range=FactorRange(*x), title=\"Différence de xG pour (xG) et contre (xGA) par situation de jeu\",\n",
    "           toolbar_location=None, tools=\"\", tooltips=\"@x : @counts{0.2f}\")\n",
    "\n",
    "amplitude = max(counts)\n",
    "amplitude = 0.2\n",
    "color_mapper = LinearColorMapper(palette=RdYlGn[11][::-1], low=0, high=amplitude)\n",
    "\n",
    "p.vbar(x='x', top='counts', width=0.9, source=source, line_color=\"black\", line_width=0.5,\n",
    "       fill_color={'field': \"counts\", 'transform': color_mapper},\n",
    "       )\n",
    "\n",
    "p.y_range.start = 0\n",
    "p.xgrid.grid_line_color = None\n",
    "\n",
    "show(p)"
   ]
  },
  {
   "cell_type": "code",
   "execution_count": 131,
   "metadata": {},
   "outputs": [
    {
     "data": {
      "text/plain": [
       "bokeh.plotting.figure.Figure"
      ]
     },
     "execution_count": 131,
     "metadata": {},
     "output_type": "execute_result"
    }
   ],
   "source": [
    "type(p)"
   ]
  },
  {
   "cell_type": "code",
   "execution_count": 116,
   "metadata": {},
   "outputs": [
    {
     "data": {
      "text/plain": [
       "([('Open play', 'xG/Sh'),\n",
       "  ('Open play', 'xGA/Sh'),\n",
       "  ('From corner', 'xG/Sh'),\n",
       "  ('From corner', 'xGA/Sh'),\n",
       "  ('Set piece', 'xG/Sh'),\n",
       "  ('Set piece', 'xGA/Sh'),\n",
       "  ('Direct Freekick', 'xG/Sh'),\n",
       "  ('Direct Freekick', 'xGA/Sh'),\n",
       "  ('Penalty', 'xG/Sh'),\n",
       "  ('Penalty', 'xGA/Sh')],\n",
       " (0.15, 0.08, 0.09, 0.07, 0.12, 0.09, 0.05, 0.07, 0.76, 0.76))"
      ]
     },
     "execution_count": 116,
     "metadata": {},
     "output_type": "execute_result"
    }
   ],
   "source": [
    "x, counts"
   ]
  },
  {
   "cell_type": "code",
   "execution_count": 114,
   "metadata": {},
   "outputs": [
    {
     "data": {
      "text/plain": [
       "([('Apples', '2015'),\n",
       "  ('Apples', '2016'),\n",
       "  ('Apples', '2017'),\n",
       "  ('Pears', '2015'),\n",
       "  ('Pears', '2016'),\n",
       "  ('Pears', '2017'),\n",
       "  ('Nectarines', '2015'),\n",
       "  ('Nectarines', '2016'),\n",
       "  ('Nectarines', '2017'),\n",
       "  ('Plums', '2015'),\n",
       "  ('Plums', '2016'),\n",
       "  ('Plums', '2017'),\n",
       "  ('Grapes', '2015'),\n",
       "  ('Grapes', '2016'),\n",
       "  ('Grapes', '2017'),\n",
       "  ('Strawberries', '2015'),\n",
       "  ('Strawberries', '2016'),\n",
       "  ('Strawberries', '2017')],\n",
       " (2, 5, 3, 1, 3, 2, 4, 3, 4, 3, 2, 4, 2, 4, 5, 4, 6, 3))"
      ]
     },
     "execution_count": 114,
     "metadata": {},
     "output_type": "execute_result"
    }
   ],
   "source": [
    "y = fruits = ['Apples', 'Pears', 'Nectarines', 'Plums', 'Grapes', 'Strawberries']\n",
    "years = ['2015', '2016', '2017']\n",
    "\n",
    "data = {'fruits' : fruits,\n",
    "        '2015'   : [2, 1, 4, 3, 2, 4],\n",
    "        '2016'   : [5, 3, 3, 2, 4, 6],\n",
    "        '2017'   : [3, 2, 4, 4, 5, 3]}\n",
    "\n",
    "# this creates [ (\"Apples\", \"2015\"), (\"Apples\", \"2016\"), (\"Apples\", \"2017\"), (\"Pears\", \"2015), ... ]\n",
    "x = [ (fruit, year) for fruit in fruits for year in years ]\n",
    "counts = sum(zip(data['2015'], data['2016'], data['2017']), ()) # like an hstack\n",
    "x, counts"
   ]
  },
  {
   "cell_type": "code",
   "execution_count": 96,
   "metadata": {},
   "outputs": [
    {
     "ename": "KeyError",
     "evalue": "'Situation'",
     "output_type": "error",
     "traceback": [
      "\u001b[0;31m---------------------------------------------------------------------------\u001b[0m",
      "\u001b[0;31mKeyError\u001b[0m                                  Traceback (most recent call last)",
      "\u001b[0;32m<ipython-input-96-9a2d33b56b1a>\u001b[0m in \u001b[0;36m<module>\u001b[0;34m\u001b[0m\n\u001b[0;32m----> 1\u001b[0;31m \u001b[0mgroup\u001b[0m \u001b[0;34m=\u001b[0m \u001b[0mdf\u001b[0m\u001b[0;34m.\u001b[0m\u001b[0mgroupby\u001b[0m\u001b[0;34m(\u001b[0m\u001b[0;34m'Situation'\u001b[0m\u001b[0;34m)\u001b[0m\u001b[0;34m\u001b[0m\u001b[0;34m\u001b[0m\u001b[0m\n\u001b[0m\u001b[1;32m      2\u001b[0m \u001b[0msource\u001b[0m \u001b[0;34m=\u001b[0m \u001b[0mColumnDataSource\u001b[0m\u001b[0;34m(\u001b[0m\u001b[0;34m\"Situation\"\u001b[0m\u001b[0;34m)\u001b[0m\u001b[0;34m\u001b[0m\u001b[0;34m\u001b[0m\u001b[0m\n\u001b[1;32m      3\u001b[0m \u001b[0;34m\u001b[0m\u001b[0m\n\u001b[1;32m      4\u001b[0m \u001b[0mp\u001b[0m \u001b[0;34m=\u001b[0m \u001b[0mfigure\u001b[0m\u001b[0;34m(\u001b[0m\u001b[0mx_range\u001b[0m\u001b[0;34m=\u001b[0m\u001b[0mgroup\u001b[0m\u001b[0;34m,\u001b[0m \u001b[0mtitle\u001b[0m\u001b[0;34m=\u001b[0m\u001b[0;34m\"MPG by # cylinders\"\u001b[0m\u001b[0;34m,\u001b[0m \u001b[0mtools\u001b[0m\u001b[0;34m=\u001b[0m\u001b[0;34m\"\"\u001b[0m\u001b[0;34m)\u001b[0m\u001b[0;34m\u001b[0m\u001b[0;34m\u001b[0m\u001b[0m\n\u001b[1;32m      5\u001b[0m \u001b[0;34m\u001b[0m\u001b[0m\n",
      "\u001b[0;32m/opt/anaconda3/lib/python3.8/site-packages/pandas/core/frame.py\u001b[0m in \u001b[0;36mgroupby\u001b[0;34m(self, by, axis, level, as_index, sort, group_keys, squeeze, observed, dropna)\u001b[0m\n\u001b[1;32m   6712\u001b[0m         \u001b[0maxis\u001b[0m \u001b[0;34m=\u001b[0m \u001b[0mself\u001b[0m\u001b[0;34m.\u001b[0m\u001b[0m_get_axis_number\u001b[0m\u001b[0;34m(\u001b[0m\u001b[0maxis\u001b[0m\u001b[0;34m)\u001b[0m\u001b[0;34m\u001b[0m\u001b[0;34m\u001b[0m\u001b[0m\n\u001b[1;32m   6713\u001b[0m \u001b[0;34m\u001b[0m\u001b[0m\n\u001b[0;32m-> 6714\u001b[0;31m         return DataFrameGroupBy(\n\u001b[0m\u001b[1;32m   6715\u001b[0m             \u001b[0mobj\u001b[0m\u001b[0;34m=\u001b[0m\u001b[0mself\u001b[0m\u001b[0;34m,\u001b[0m\u001b[0;34m\u001b[0m\u001b[0;34m\u001b[0m\u001b[0m\n\u001b[1;32m   6716\u001b[0m             \u001b[0mkeys\u001b[0m\u001b[0;34m=\u001b[0m\u001b[0mby\u001b[0m\u001b[0;34m,\u001b[0m\u001b[0;34m\u001b[0m\u001b[0;34m\u001b[0m\u001b[0m\n",
      "\u001b[0;32m/opt/anaconda3/lib/python3.8/site-packages/pandas/core/groupby/groupby.py\u001b[0m in \u001b[0;36m__init__\u001b[0;34m(self, obj, keys, axis, level, grouper, exclusions, selection, as_index, sort, group_keys, squeeze, observed, mutated, dropna)\u001b[0m\n\u001b[1;32m    558\u001b[0m             \u001b[0;32mfrom\u001b[0m \u001b[0mpandas\u001b[0m\u001b[0;34m.\u001b[0m\u001b[0mcore\u001b[0m\u001b[0;34m.\u001b[0m\u001b[0mgroupby\u001b[0m\u001b[0;34m.\u001b[0m\u001b[0mgrouper\u001b[0m \u001b[0;32mimport\u001b[0m \u001b[0mget_grouper\u001b[0m\u001b[0;34m\u001b[0m\u001b[0;34m\u001b[0m\u001b[0m\n\u001b[1;32m    559\u001b[0m \u001b[0;34m\u001b[0m\u001b[0m\n\u001b[0;32m--> 560\u001b[0;31m             grouper, exclusions, obj = get_grouper(\n\u001b[0m\u001b[1;32m    561\u001b[0m                 \u001b[0mobj\u001b[0m\u001b[0;34m,\u001b[0m\u001b[0;34m\u001b[0m\u001b[0;34m\u001b[0m\u001b[0m\n\u001b[1;32m    562\u001b[0m                 \u001b[0mkeys\u001b[0m\u001b[0;34m,\u001b[0m\u001b[0;34m\u001b[0m\u001b[0;34m\u001b[0m\u001b[0m\n",
      "\u001b[0;32m/opt/anaconda3/lib/python3.8/site-packages/pandas/core/groupby/grouper.py\u001b[0m in \u001b[0;36mget_grouper\u001b[0;34m(obj, key, axis, level, sort, observed, mutated, validate, dropna)\u001b[0m\n\u001b[1;32m    809\u001b[0m                 \u001b[0min_axis\u001b[0m\u001b[0;34m,\u001b[0m \u001b[0mname\u001b[0m\u001b[0;34m,\u001b[0m \u001b[0mlevel\u001b[0m\u001b[0;34m,\u001b[0m \u001b[0mgpr\u001b[0m \u001b[0;34m=\u001b[0m \u001b[0;32mFalse\u001b[0m\u001b[0;34m,\u001b[0m \u001b[0;32mNone\u001b[0m\u001b[0;34m,\u001b[0m \u001b[0mgpr\u001b[0m\u001b[0;34m,\u001b[0m \u001b[0;32mNone\u001b[0m\u001b[0;34m\u001b[0m\u001b[0;34m\u001b[0m\u001b[0m\n\u001b[1;32m    810\u001b[0m             \u001b[0;32melse\u001b[0m\u001b[0;34m:\u001b[0m\u001b[0;34m\u001b[0m\u001b[0;34m\u001b[0m\u001b[0m\n\u001b[0;32m--> 811\u001b[0;31m                 \u001b[0;32mraise\u001b[0m \u001b[0mKeyError\u001b[0m\u001b[0;34m(\u001b[0m\u001b[0mgpr\u001b[0m\u001b[0;34m)\u001b[0m\u001b[0;34m\u001b[0m\u001b[0;34m\u001b[0m\u001b[0m\n\u001b[0m\u001b[1;32m    812\u001b[0m         \u001b[0;32melif\u001b[0m \u001b[0misinstance\u001b[0m\u001b[0;34m(\u001b[0m\u001b[0mgpr\u001b[0m\u001b[0;34m,\u001b[0m \u001b[0mGrouper\u001b[0m\u001b[0;34m)\u001b[0m \u001b[0;32mand\u001b[0m \u001b[0mgpr\u001b[0m\u001b[0;34m.\u001b[0m\u001b[0mkey\u001b[0m \u001b[0;32mis\u001b[0m \u001b[0;32mnot\u001b[0m \u001b[0;32mNone\u001b[0m\u001b[0;34m:\u001b[0m\u001b[0;34m\u001b[0m\u001b[0;34m\u001b[0m\u001b[0m\n\u001b[1;32m    813\u001b[0m             \u001b[0;31m# Add key to exclusions\u001b[0m\u001b[0;34m\u001b[0m\u001b[0;34m\u001b[0m\u001b[0;34m\u001b[0m\u001b[0m\n",
      "\u001b[0;31mKeyError\u001b[0m: 'Situation'"
     ]
    }
   ],
   "source": [
    "fruits = ['Apples', 'Pears', 'Nectarines', 'Plums', 'Grapes', 'Strawberries']\n",
    "years = ['2015', '2016', '2017']\n",
    "\n",
    "data = {'fruits' : fruits,\n",
    "        '2015'   : [2, 1, 4, 3, 2, 4],\n",
    "        '2016'   : [5, 3, 3, 2, 4, 6],\n",
    "        '2017'   : [3, 2, 4, 4, 5, 3]}\n",
    "\n",
    "# this creates [ (\"Apples\", \"2015\"), (\"Apples\", \"2016\"), (\"Apples\", \"2017\"), (\"Pears\", \"2015), ... ]\n",
    "x = [ (fruit, year) for fruit in fruits for year in years ]\n",
    "counts = sum(zip(data['2015'], data['2016'], data['2017']), ()) # like an hstack\n",
    "\n",
    "source = ColumnDataSource(data=dict(x=x, counts=counts))\n",
    "\n",
    "p = figure(x_range=FactorRange(*x), plot_height=250, title=\"Fruit counts by year\",\n",
    "           toolbar_location=None, tools=\"\")\n",
    "\n",
    "p.vbar(x='x', top='counts', width=0.9, source=source)\n",
    "\n",
    "p.y_range.start = 0\n",
    "p.x_range.range_padding = 0.1\n",
    "p.xaxis.major_label_orientation = 1\n",
    "p.xgrid.grid_line_color = None\n",
    "\n",
    "show(p)"
   ]
  },
  {
   "cell_type": "code",
   "execution_count": 4,
   "metadata": {},
   "outputs": [],
   "source": [
    "def process_html_stat(html_table: str) -> pd.DataFrame:\n",
    "    df_team = pd.read_html(html_table)[0].drop(\"№\", axis=1)\n",
    "    \n",
    "    df_team[\"xG\"] = df_team[\"xG\"].str.split(r\"\\+|\\-\").apply(lambda x: float(x[0]))\n",
    "    df_team[\"xGA\"] = df_team[\"xGA\"].str.split(r\"\\+|\\-\").apply(lambda x: float(x[0]))\n",
    "\n",
    "    df_team[\"diff_xG\"] = (df_team[\"G\"] - df_team[\"xG\"])\n",
    "    df_team[\"diff_xGA\"] = (df_team[\"GA\"] - df_team[\"xGA\"])\n",
    "    \n",
    "    return df_team"
   ]
  },
  {
   "cell_type": "code",
   "execution_count": 40,
   "metadata": {},
   "outputs": [],
   "source": [
    "from bokeh.models import CategoricalTicker, NumeralTickFormatter\n",
    "from bokeh.plotting import figure\n",
    "from bokeh.models.tools import HoverTool\n"
   ]
  },
  {
   "cell_type": "code",
   "execution_count": 41,
   "metadata": {},
   "outputs": [
    {
     "data": {
      "text/html": [
       "<div>\n",
       "<style scoped>\n",
       "    .dataframe tbody tr th:only-of-type {\n",
       "        vertical-align: middle;\n",
       "    }\n",
       "\n",
       "    .dataframe tbody tr th {\n",
       "        vertical-align: top;\n",
       "    }\n",
       "\n",
       "    .dataframe thead th {\n",
       "        text-align: right;\n",
       "    }\n",
       "</style>\n",
       "<table border=\"1\" class=\"dataframe\">\n",
       "  <thead>\n",
       "    <tr style=\"text-align: right;\">\n",
       "      <th></th>\n",
       "      <th>Situation</th>\n",
       "      <th>Sh</th>\n",
       "      <th>G</th>\n",
       "      <th>ShA</th>\n",
       "      <th>GA</th>\n",
       "      <th>xG</th>\n",
       "      <th>xGA</th>\n",
       "      <th>xGD</th>\n",
       "      <th>xG/Sh</th>\n",
       "      <th>xGA/Sh</th>\n",
       "      <th>diff_xG</th>\n",
       "      <th>diff_xGA</th>\n",
       "    </tr>\n",
       "  </thead>\n",
       "  <tbody>\n",
       "    <tr>\n",
       "      <th>0</th>\n",
       "      <td>Open play</td>\n",
       "      <td>319</td>\n",
       "      <td>37</td>\n",
       "      <td>223</td>\n",
       "      <td>19</td>\n",
       "      <td>47.19</td>\n",
       "      <td>17.36</td>\n",
       "      <td>29.83</td>\n",
       "      <td>0.15</td>\n",
       "      <td>0.08</td>\n",
       "      <td>-10.19</td>\n",
       "      <td>1.64</td>\n",
       "    </tr>\n",
       "    <tr>\n",
       "      <th>1</th>\n",
       "      <td>From corner</td>\n",
       "      <td>68</td>\n",
       "      <td>2</td>\n",
       "      <td>45</td>\n",
       "      <td>1</td>\n",
       "      <td>6.01</td>\n",
       "      <td>3.09</td>\n",
       "      <td>2.92</td>\n",
       "      <td>0.09</td>\n",
       "      <td>0.07</td>\n",
       "      <td>-4.01</td>\n",
       "      <td>-2.09</td>\n",
       "    </tr>\n",
       "  </tbody>\n",
       "</table>\n",
       "</div>"
      ],
      "text/plain": [
       "     Situation   Sh   G  ShA  GA     xG    xGA    xGD  xG/Sh  xGA/Sh  diff_xG  \\\n",
       "0    Open play  319  37  223  19  47.19  17.36  29.83   0.15    0.08   -10.19   \n",
       "1  From corner   68   2   45   1   6.01   3.09   2.92   0.09    0.07    -4.01   \n",
       "\n",
       "   diff_xGA  \n",
       "0      1.64  \n",
       "1     -2.09  "
      ]
     },
     "execution_count": 41,
     "metadata": {},
     "output_type": "execute_result"
    }
   ],
   "source": [
    "df = process_html_stat(str(table_html))\n",
    "df.head(2)"
   ]
  },
  {
   "cell_type": "markdown",
   "metadata": {},
   "source": [
    "from bokeh.layouts import row"
   ]
  },
  {
   "cell_type": "code",
   "execution_count": 77,
   "metadata": {},
   "outputs": [],
   "source": [
    "def situation_chart(df):\n",
    "\n",
    "    x = df['Situation']\n",
    "    y = df['diff_xG']\n",
    "\n",
    "    amplitude = df['diff_xG'].abs().max() + 1\n",
    "    color_mapper = LinearColorMapper(palette=RdYlGn[11][::-1], low=-amplitude, high=amplitude)\n",
    "\n",
    "    h_barchart = figure(\n",
    "        title='Visualisation de la diff xG pour Lyon, saison 2020-2021',\n",
    "        y_range=x.values,\n",
    "        plot_width=1500,\n",
    "        plot_height=500,\n",
    "        x_range=(- amplitude, amplitude))\n",
    "\n",
    "    h_barchart.yaxis.ticker = CategoricalTicker()\n",
    "    r = h_barchart.hbar(right=y, y=x, height=0.2,\n",
    "        color={'field': \"right\", 'transform': color_mapper},\n",
    "        )\n",
    "\n",
    "    glyph = r.glyph\n",
    "    glyph.fill_alpha = 1\n",
    "    glyph.line_color = \"black\"\n",
    "    glyph.line_width = 0.2\n",
    "\n",
    "    hover = HoverTool()\n",
    "    hover.tooltips = [\n",
    "        ('diff xG', '@y'),\n",
    "        ('Catégorie', '@right{0.2f}'),\n",
    "    ]\n",
    "\n",
    "    h_barchart.add_tools(hover)\n",
    "    h_barchart.toolbar.logo = None\n",
    "    h_barchart.toolbar_location = None\n",
    "\n",
    "    color_bar = ColorBar(color_mapper=color_mapper, width=12)\n",
    "    color_bar_plot = figure(height=500, width=100, \n",
    "                            toolbar_location=\"right\")\n",
    "\n",
    "    color_bar_plot.add_layout(color_bar, 'right')\n",
    "    color_bar_plot.toolbar.logo = None\n",
    "    color_bar_plot.toolbar_location = None\n",
    "\n",
    "    layout = row(h_barchart, color_bar_plot)\n",
    "\n",
    "    show(layout)"
   ]
  },
  {
   "cell_type": "code",
   "execution_count": 78,
   "metadata": {},
   "outputs": [
    {
     "name": "stderr",
     "output_type": "stream",
     "text": [
      "WARNING:bokeh.core.validation.check:W-1000 (MISSING_RENDERERS): Plot has no renderers: Figure(id='9855', ...)\n"
     ]
    }
   ],
   "source": [
    "situation_chart(df)"
   ]
  },
  {
   "cell_type": "code",
   "execution_count": 80,
   "metadata": {},
   "outputs": [],
   "source": [
    "from selenium.webdriver.chrome.options import Options\n"
   ]
  },
  {
   "cell_type": "code",
   "execution_count": 81,
   "metadata": {
    "ExecuteTime": {
     "end_time": "2021-02-25T19:29:27.855056Z",
     "start_time": "2021-02-25T19:29:27.850224Z"
    },
    "code_folding": [
     0
    ]
   },
   "outputs": [],
   "source": [
    "def get_xG_html_table(team_name: str) -> str:\n",
    "\n",
    "    driver.get(f\"https://understat.com/team/{team_name}/2020\")\n",
    "    \n",
    "    team_soup = BeautifulSoup(driver.page_source)\n",
    "    table_html = team_soup.find(\"div\", {\"id\": \"team-players\"}).find(\"table\")\n",
    "    \n",
    "    driver.quit()\n",
    "\n",
    "    return str(table_html)"
   ]
  },
  {
   "cell_type": "code",
   "execution_count": 83,
   "metadata": {},
   "outputs": [
    {
     "data": {
      "text/plain": [
       "'<table><thead style=\"opacity: 1;\"><tr><th class=\"sort\" data-num=\"1\"><span>№</span></th><th class=\"sort\" data-num=\"2\" width=\"110\"><span title=\"Player name\">Player</span></th><th data-num=\"3\"><span title=\"Position\">Pos</span></th><th class=\"sort\" data-num=\"4\"><span title=\"Appearances\">Apps</span></th><th class=\"sort\" data-num=\"5\"><span title=\"Minutes played\">Min</span></th><th class=\"sort\" data-num=\"6\"><span title=\"Goals\">G</span></th><th class=\"sort\" data-num=\"8\"><span title=\"Passes led to goal\">A</span></th><th class=\"sort\" data-num=\"9\"><span title=\"Shots per 90 minutes\">Sh90</span></th><th class=\"sort\" data-num=\"10\"><span title=\"Passes led to shot per 90 minutes\">KP90</span></th><th class=\"sort\" data-num=\"11\" width=\"100\"><span class=\"title-expected\" title=\"Expected Goals\">xG</span></th><th class=\"sort\" data-num=\"13\" width=\"100\"><span class=\"title-expected\" title=\"The sum of Expected Goals off shots from a player\\'s key passes\">xA</span></th><th class=\"sort\" data-num=\"16\"><span class=\"title-expected\" title=\"Expected Goals per 90 minutes\">xG90</span></th><th class=\"sort\" data-num=\"18\"><span class=\"title-expected\" title=\"Expected Assists per 90 minutes\">xA90</span></th></tr></thead><tbody><tr><td class=\"align-right\">1</td><td class=\"player-title\"><a href=\"player/555\">Memphis Depay</a></td><td class=\"align-center\">F M</td><td class=\"align-right\">26</td><td class=\"align-right\">1994</td><td class=\"align-right\">15</td><td class=\"align-right\">7</td><td class=\"align-right nowrap\">3.25</td><td class=\"align-right nowrap\">3.07</td><td class=\"align-right nowrap\">11.76<sup class=\"positive-value\">-3.24</sup></td><td class=\"align-right nowrap\">10.76<sup class=\"negative-value\">+3.76</sup></td><td class=\"align-right nowrap\">0.53</td><td class=\"align-right nowrap\">0.49</td></tr><tr><td class=\"align-right\">2</td><td class=\"player-title\"><a href=\"player/5657\">Karl Toko Ekambi</a></td><td class=\"align-center\">F M</td><td class=\"align-right\">23</td><td class=\"align-right\">1839</td><td class=\"align-right\">11</td><td class=\"align-right\">5</td><td class=\"align-right nowrap\">2.99</td><td class=\"align-right nowrap\">1.62</td><td class=\"align-right nowrap\">13.21<sup class=\"negative-value\">+2.21</sup></td><td class=\"align-right nowrap\">5.70<sup class=\"negative-value\">+0.70</sup></td><td class=\"align-right nowrap\">0.65</td><td class=\"align-right nowrap\">0.28</td></tr><tr><td class=\"align-right\">3</td><td class=\"player-title\"><a href=\"player/8702\">Tinotenda Kadewere</a></td><td class=\"align-center\">F M</td><td class=\"align-right\">25</td><td class=\"align-right\">1632</td><td class=\"align-right\">9</td><td class=\"align-right\">3</td><td class=\"align-right nowrap\">2.87</td><td class=\"align-right nowrap\">0.99</td><td class=\"align-right nowrap\">9.35<sup class=\"negative-value\">+0.35</sup></td><td class=\"align-right nowrap\">3.41<sup class=\"negative-value\">+0.41</sup></td><td class=\"align-right nowrap\">0.52</td><td class=\"align-right nowrap\">0.19</td></tr><tr><td class=\"align-right\">4</td><td class=\"player-title\"><a href=\"player/5733\">Houssem Aouar</a></td><td class=\"align-center\">F M</td><td class=\"align-right\">21</td><td class=\"align-right\">1417</td><td class=\"align-right\">4</td><td class=\"align-right\">3</td><td class=\"align-right nowrap\">3.30</td><td class=\"align-right nowrap\">1.65</td><td class=\"align-right nowrap\">7.92<sup class=\"negative-value\">+3.92</sup></td><td class=\"align-right nowrap\">2.54<sup class=\"positive-value\">-0.46</sup></td><td class=\"align-right nowrap\">0.50</td><td class=\"align-right nowrap\">0.16</td></tr><tr><td class=\"align-right\">5</td><td class=\"player-title\"><a href=\"player/7365\">Lucas Paquetá</a></td><td class=\"align-center\">M</td><td class=\"align-right\">19</td><td class=\"align-right\">1396</td><td class=\"align-right\">4</td><td class=\"align-right\">1</td><td class=\"align-right nowrap\">1.87</td><td class=\"align-right nowrap\">1.35</td><td class=\"align-right nowrap\">4.39<sup class=\"negative-value\">+0.39</sup></td><td class=\"align-right nowrap\">3.54<sup class=\"negative-value\">+2.54</sup></td><td class=\"align-right nowrap\">0.28</td><td class=\"align-right nowrap\">0.23</td></tr><tr><td class=\"align-right\">6</td><td class=\"player-title\"><a href=\"player/93\">Marcelo</a></td><td class=\"align-center\">D</td><td class=\"align-right\">23</td><td class=\"align-right\">1933</td><td class=\"align-right\">2</td><td class=\"align-right\">0</td><td class=\"align-right nowrap\">0.93</td><td class=\"align-right nowrap\">0.19</td><td class=\"align-right nowrap\">1.18<sup class=\"positive-value\">-0.82</sup></td><td class=\"align-right nowrap\">0.17<sup class=\"negative-value\">+0.17</sup></td><td class=\"align-right nowrap\">0.05</td><td class=\"align-right nowrap\">0.01</td></tr><tr><td class=\"align-right\">7</td><td class=\"player-title\"><a href=\"player/3412\">Léo Dubois</a></td><td class=\"align-center\">D M</td><td class=\"align-right\">25</td><td class=\"align-right\">2056</td><td class=\"align-right\">2</td><td class=\"align-right\">3</td><td class=\"align-right nowrap\">0.57</td><td class=\"align-right nowrap\">2.45</td><td class=\"align-right nowrap\">0.81<sup class=\"positive-value\">-1.19</sup></td><td class=\"align-right nowrap\">5.31<sup class=\"negative-value\">+2.31</sup></td><td class=\"align-right nowrap\">0.04</td><td class=\"align-right nowrap\">0.23</td></tr><tr><td class=\"align-right\">8</td><td class=\"player-title\"><a href=\"player/1039\">Jason Denayer</a></td><td class=\"align-center\">D</td><td class=\"align-right\">21</td><td class=\"align-right\">1794</td><td class=\"align-right\">1</td><td class=\"align-right\">0</td><td class=\"align-right nowrap\">0.25</td><td class=\"align-right nowrap\">0.00</td><td class=\"align-right nowrap\">0.55<sup class=\"positive-value\">-0.45</sup></td><td class=\"align-right nowrap\">0.00<sup></sup></td><td class=\"align-right nowrap\">0.03</td><td class=\"align-right nowrap\">0.00</td></tr><tr><td class=\"align-right\">9</td><td class=\"player-title\"><a href=\"player/3278\">Maxwel Cornet</a></td><td class=\"align-center\">D F M</td><td class=\"align-right\">24</td><td class=\"align-right\">1672</td><td class=\"align-right\">1</td><td class=\"align-right\">4</td><td class=\"align-right nowrap\">0.70</td><td class=\"align-right nowrap\">1.13</td><td class=\"align-right nowrap\">1.36<sup class=\"negative-value\">+0.36</sup></td><td class=\"align-right nowrap\">3.41<sup class=\"positive-value\">-0.59</sup></td><td class=\"align-right nowrap\">0.07</td><td class=\"align-right nowrap\">0.18</td></tr><tr><td class=\"align-right\">10</td><td class=\"player-title\"><a href=\"player/7142\">Moussa Dembele</a></td><td class=\"align-center\">F M</td><td class=\"align-right\">16</td><td class=\"align-right\">653</td><td class=\"align-right\">1</td><td class=\"align-right\">0</td><td class=\"align-right nowrap\">4.00</td><td class=\"align-right nowrap\">0.96</td><td class=\"align-right nowrap\">5.00<sup class=\"negative-value\">+4.00</sup></td><td class=\"align-right nowrap\">0.73<sup class=\"negative-value\">+0.73</sup></td><td class=\"align-right nowrap\">0.69</td><td class=\"align-right nowrap\">0.10</td></tr><tr><td class=\"align-right\">11</td><td class=\"player-title\"><a href=\"player/8327\">Bruno Guimarães</a></td><td class=\"align-center\">M</td><td class=\"align-right\">22</td><td class=\"align-right\">1207</td><td class=\"align-right\">1</td><td class=\"align-right\">1</td><td class=\"align-right nowrap\">1.57</td><td class=\"align-right nowrap\">0.97</td><td class=\"align-right nowrap\">0.75<sup class=\"positive-value\">-0.25</sup></td><td class=\"align-right nowrap\">1.05<sup class=\"negative-value\">+0.05</sup></td><td class=\"align-right nowrap\">0.06</td><td class=\"align-right nowrap\">0.08</td></tr><tr><td class=\"align-right\">12</td><td class=\"player-title\"><a href=\"player/1056\">Jeff Reine-Adelaide</a></td><td class=\"align-center\">S</td><td class=\"align-right\">1</td><td class=\"align-right\">22</td><td class=\"align-right\">0</td><td class=\"align-right\">0</td><td class=\"align-right nowrap\">4.09</td><td class=\"align-right nowrap\">4.09</td><td class=\"align-right nowrap\">0.08<sup class=\"negative-value\">+0.08</sup></td><td class=\"align-right nowrap\">0.03<sup class=\"negative-value\">+0.03</sup></td><td class=\"align-right nowrap\">0.33</td><td class=\"align-right nowrap\">0.14</td></tr><tr><td class=\"align-right\">13</td><td class=\"player-title\"><a href=\"player/1120\">Mattia De Sciglio</a></td><td class=\"align-center\">D</td><td class=\"align-right\">18</td><td class=\"align-right\">829</td><td class=\"align-right\">0</td><td class=\"align-right\">0</td><td class=\"align-right nowrap\">0.22</td><td class=\"align-right nowrap\">0.87</td><td class=\"align-right nowrap\">0.05<sup class=\"negative-value\">+0.05</sup></td><td class=\"align-right nowrap\">0.93<sup class=\"negative-value\">+0.93</sup></td><td class=\"align-right nowrap\">0.01</td><td class=\"align-right nowrap\">0.10</td></tr><tr><td class=\"align-right\">14</td><td class=\"player-title\"><a href=\"player/1682\">Islam Slimani</a></td><td class=\"align-center\">S</td><td class=\"align-right\">7</td><td class=\"align-right\">83</td><td class=\"align-right\">0</td><td class=\"align-right\">0</td><td class=\"align-right nowrap\">7.59</td><td class=\"align-right nowrap\">3.25</td><td class=\"align-right nowrap\">1.36<sup class=\"negative-value\">+1.36</sup></td><td class=\"align-right nowrap\">0.65<sup class=\"negative-value\">+0.65</sup></td><td class=\"align-right nowrap\">1.48</td><td class=\"align-right nowrap\">0.71</td></tr><tr><td class=\"align-right\">15</td><td class=\"player-title\"><a href=\"player/3269\">Anthony Lopes</a></td><td class=\"align-center\">GK</td><td class=\"align-right\">26</td><td class=\"align-right\">2340</td><td class=\"align-right\">0</td><td class=\"align-right\">0</td><td class=\"align-right nowrap\">0.00</td><td class=\"align-right nowrap\">0.00</td><td class=\"align-right nowrap\">0.00<sup></sup></td><td class=\"align-right nowrap\">0.00<sup></sup></td><td class=\"align-right nowrap\">0.00</td><td class=\"align-right nowrap\">0.00</td></tr><tr><td class=\"align-right\">16</td><td class=\"player-title\"><a href=\"player/5708\">Fernando Marçal</a></td><td class=\"align-center\">D</td><td class=\"align-right\">1</td><td class=\"align-right\">80</td><td class=\"align-right\">0</td><td class=\"align-right\">0</td><td class=\"align-right nowrap\">0.00</td><td class=\"align-right nowrap\">0.00</td><td class=\"align-right nowrap\">0.00<sup></sup></td><td class=\"align-right nowrap\">0.00<sup></sup></td><td class=\"align-right nowrap\">0.00</td><td class=\"align-right nowrap\">0.00</td></tr><tr><td class=\"align-right\">17</td><td class=\"player-title\"><a href=\"player/5973\">Kenny Tete</a></td><td class=\"align-center\">S</td><td class=\"align-right\">1</td><td class=\"align-right\">18</td><td class=\"align-right\">0</td><td class=\"align-right\">0</td><td class=\"align-right nowrap\">0.00</td><td class=\"align-right nowrap\">0.00</td><td class=\"align-right nowrap\">0.00<sup></sup></td><td class=\"align-right nowrap\">0.00<sup></sup></td><td class=\"align-right nowrap\">0.00</td><td class=\"align-right nowrap\">0.00</td></tr><tr><td class=\"align-right\">18</td><td class=\"player-title\"><a href=\"player/6011\">Thiago Mendes</a></td><td class=\"align-center\">M</td><td class=\"align-right\">20</td><td class=\"align-right\">1537</td><td class=\"align-right\">0</td><td class=\"align-right\">1</td><td class=\"align-right nowrap\">1.17</td><td class=\"align-right nowrap\">1.23</td><td class=\"align-right nowrap\">1.05<sup class=\"negative-value\">+1.05</sup></td><td class=\"align-right nowrap\">1.11<sup class=\"negative-value\">+0.11</sup></td><td class=\"align-right nowrap\">0.06</td><td class=\"align-right nowrap\">0.07</td></tr><tr><td class=\"align-right\">19</td><td class=\"player-title\"><a href=\"player/6314\">Joachim Andersen</a></td><td class=\"align-center\">D</td><td class=\"align-right\">3</td><td class=\"align-right\">190</td><td class=\"align-right\">0</td><td class=\"align-right\">0</td><td class=\"align-right nowrap\">2.37</td><td class=\"align-right nowrap\">0.00</td><td class=\"align-right nowrap\">0.48<sup class=\"negative-value\">+0.48</sup></td><td class=\"align-right nowrap\">0.00<sup></sup></td><td class=\"align-right nowrap\">0.23</td><td class=\"align-right nowrap\">0.00</td></tr><tr><td class=\"align-right\">20</td><td class=\"player-title\"><a href=\"player/7328\">Maxence Caqueret</a></td><td class=\"align-center\">M</td><td class=\"align-right\">19</td><td class=\"align-right\">1025</td><td class=\"align-right\">0</td><td class=\"align-right\">0</td><td class=\"align-right nowrap\">0.35</td><td class=\"align-right nowrap\">0.79</td><td class=\"align-right nowrap\">0.21<sup class=\"negative-value\">+0.21</sup></td><td class=\"align-right nowrap\">0.56<sup class=\"negative-value\">+0.56</sup></td><td class=\"align-right nowrap\">0.02</td><td class=\"align-right nowrap\">0.05</td></tr><tr><td class=\"align-right\">21</td><td class=\"player-title\"><a href=\"player/7687\">Jean Lucas</a></td><td class=\"align-center\">M</td><td class=\"align-right\">8</td><td class=\"align-right\">160</td><td class=\"align-right\">0</td><td class=\"align-right\">0</td><td class=\"align-right nowrap\">2.81</td><td class=\"align-right nowrap\">0.56</td><td class=\"align-right nowrap\">0.10<sup class=\"negative-value\">+0.10</sup></td><td class=\"align-right nowrap\">0.03<sup class=\"negative-value\">+0.03</sup></td><td class=\"align-right nowrap\">0.06</td><td class=\"align-right nowrap\">0.01</td></tr><tr><td class=\"align-right\">22</td><td class=\"player-title\"><a href=\"player/8094\">Mathis Cherki</a></td><td class=\"align-center\">F M</td><td class=\"align-right\">18</td><td class=\"align-right\">428</td><td class=\"align-right\">0</td><td class=\"align-right\">0</td><td class=\"align-right nowrap\">2.52</td><td class=\"align-right nowrap\">1.05</td><td class=\"align-right nowrap\">0.70<sup class=\"negative-value\">+0.70</sup></td><td class=\"align-right nowrap\">0.28<sup class=\"negative-value\">+0.28</sup></td><td class=\"align-right nowrap\">0.15</td><td class=\"align-right nowrap\">0.06</td></tr><tr><td class=\"align-right\">23</td><td class=\"player-title\"><a href=\"player/8190\">Melvin Bard</a></td><td class=\"align-center\">D</td><td class=\"align-right\">10</td><td class=\"align-right\">297</td><td class=\"align-right\">0</td><td class=\"align-right\">0</td><td class=\"align-right nowrap\">0.61</td><td class=\"align-right nowrap\">0.91</td><td class=\"align-right nowrap\">0.08<sup class=\"negative-value\">+0.08</sup></td><td class=\"align-right nowrap\">0.38<sup class=\"negative-value\">+0.38</sup></td><td class=\"align-right nowrap\">0.02</td><td class=\"align-right nowrap\">0.12</td></tr><tr><td class=\"align-right\">24</td><td class=\"player-title\"><a href=\"player/8703\">Sinaly Diomande</a></td><td class=\"align-center\">D M</td><td class=\"align-right\">21</td><td class=\"align-right\">927</td><td class=\"align-right\">0</td><td class=\"align-right\">0</td><td class=\"align-right nowrap\">1.17</td><td class=\"align-right nowrap\">0.19</td><td class=\"align-right nowrap\">0.59<sup class=\"negative-value\">+0.59</sup></td><td class=\"align-right nowrap\">0.10<sup class=\"negative-value\">+0.10</sup></td><td class=\"align-right nowrap\">0.06</td><td class=\"align-right nowrap\">0.01</td></tr><tr><td class=\"align-right\">25</td><td class=\"player-title\"><a href=\"player/9014\">Djamel Benlamri</a></td><td class=\"align-center\">S</td><td class=\"align-right\">5</td><td class=\"align-right\">130</td><td class=\"align-right\">0</td><td class=\"align-right\">0</td><td class=\"align-right nowrap\">0.00</td><td class=\"align-right nowrap\">0.69</td><td class=\"align-right nowrap\">0.00<sup></sup></td><td class=\"align-right nowrap\">0.02<sup class=\"negative-value\">+0.02</sup></td><td class=\"align-right nowrap\">0.00</td><td class=\"align-right nowrap\">0.02</td></tr><tr><td class=\"align-right\">26</td><td class=\"player-title\"><a href=\"player/9017\">Malo Gusto</a></td><td class=\"align-center\">S</td><td class=\"align-right\">1</td><td class=\"align-right\">1</td><td class=\"align-right\">0</td><td class=\"align-right\">0</td><td class=\"align-right nowrap\">0.00</td><td class=\"align-right nowrap\">0.00</td><td class=\"align-right nowrap\">0.00<sup></sup></td><td class=\"align-right nowrap\">0.00<sup></sup></td><td class=\"align-right nowrap\">0.00</td><td class=\"align-right nowrap\">0.00</td></tr><tr><td class=\"align-right\">27</td><td class=\"player-title\"><a href=\"player/9147\">Yaya Soumare</a></td><td class=\"align-center\">S</td><td class=\"align-right\">1</td><td class=\"align-right\">1</td><td class=\"align-right\">0</td><td class=\"align-right\">0</td><td class=\"align-right nowrap\">0.00</td><td class=\"align-right nowrap\">0.00</td><td class=\"align-right nowrap\">0.00<sup></sup></td><td class=\"align-right nowrap\">0.00<sup></sup></td><td class=\"align-right nowrap\">0.00</td><td class=\"align-right nowrap\">0.00</td></tr><tr><td class=\"align-right\">28</td><td class=\"player-title\"><a href=\"player/9237\">Florent da Silva</a></td><td class=\"align-center\">S</td><td class=\"align-right\">1</td><td class=\"align-right\">2</td><td class=\"align-right\">0</td><td class=\"align-right\">0</td><td class=\"align-right nowrap\">0.00</td><td class=\"align-right nowrap\">0.00</td><td class=\"align-right nowrap\">0.00<sup></sup></td><td class=\"align-right nowrap\">0.00<sup></sup></td><td class=\"align-right nowrap\">0.00</td><td class=\"align-right nowrap\">0.00</td></tr></tbody><tbody class=\"table-total\"><tr><td class=\"align-right\"></td><td class=\"player-title\"></td><td class=\"align-center\"></td><td class=\"align-right\"></td><td class=\"align-right\"></td><td class=\"align-right\">51</td><td class=\"align-right\">28</td><td class=\"align-right nowrap\">16.86</td><td class=\"align-right nowrap\">12.38</td><td class=\"align-right nowrap\">60.98<sup class=\"negative-value\">+9.98</sup></td><td class=\"align-right nowrap\">40.77<sup class=\"negative-value\">+12.77</sup></td><td class=\"align-right nowrap\">2.35</td><td class=\"align-right nowrap\">1.57</td></tr></tbody></table>'"
      ]
     },
     "execution_count": 83,
     "metadata": {},
     "output_type": "execute_result"
    }
   ],
   "source": [
    "get_xG_html_table()"
   ]
  },
  {
   "cell_type": "code",
   "execution_count": 8,
   "metadata": {
    "ExecuteTime": {
     "end_time": "2021-02-25T19:29:27.862809Z",
     "start_time": "2021-02-25T19:29:27.857992Z"
    },
    "code_folding": [
     0
    ]
   },
   "outputs": [],
   "source": [
    "def process_html(html_table: str) -> pd.DataFrame:\n",
    "    df_team = pd.read_html(html_table)[0].drop(\"№\", axis=1).iloc[:15]\n",
    "    \n",
    "    df_team[\"xG\"] = df_team[\"xG\"].str.split(r\"\\+|\\-\").apply(lambda x: float(x[0]))\n",
    "    df_team[\"xA\"] = df_team[\"xA\"].str.split(r\"\\+|\\-\").apply(lambda x: float(x[0]))\n",
    "\n",
    "    df_team[\"diff_xG\"] = (df_team[\"G\"] - df_team[\"xG\"])\n",
    "    df_team[\"diff_xA\"] = (df_team[\"A\"] - df_team[\"xA\"])\n",
    "\n",
    "    df_team = df_team[df_team[\"xG\"] > 0.5] # select only players that could score \n",
    "    df_team = df_team.round(2)\n",
    "    \n",
    "    return df_team"
   ]
  },
  {
   "cell_type": "code",
   "execution_count": 4,
   "metadata": {
    "ExecuteTime": {
     "end_time": "2021-02-25T19:29:27.876316Z",
     "start_time": "2021-02-25T19:29:27.865658Z"
    },
    "code_folding": [
     0
    ]
   },
   "outputs": [],
   "source": [
    "def plot_xG_df(df_xG_team: pd.DataFrame, team_name: str) -> None:\n",
    "    plot_max = df_xG_team[\"xG\"].max() + 1\n",
    "\n",
    "    amplitude = max(abs(df_xG_team[\"diff_xG\"].min()), abs(df_xG_team[\"diff_xG\"].max()))\n",
    "    \n",
    "    color_mapper = LinearColorMapper(\n",
    "        palette=RdYlGn[9][::-1], low=-amplitude, high=amplitude)\n",
    "\n",
    "    p = figure(title=f\"xG vs. vrais buts à {team_name} 2020-2021\")\n",
    "\n",
    "    p.line([0, plot_max], [0, plot_max], color=\"black\",\n",
    "           legend_label=\"Performance normale\", line_width=2)\n",
    "\n",
    "    p.line([0, plot_max], [0, 1.2 * plot_max], color=\"black\",\n",
    "           line_dash=[4, 4], legend_label=\"Surperf de 20 %\", line_color='green', line_width=2)\n",
    "\n",
    "    p.line([0, plot_max], [0, 0.8 * plot_max], color=\"black\",\n",
    "           line_dash=[4, 4], legend_label=\"Sousperf de 20 %\", line_color='red', line_width=2)\n",
    "\n",
    "    p.line([0, plot_max], [0, 1.4 * plot_max], color=\"black\",\n",
    "           line_dash=[4, 4], line_color='green', line_width=1)\n",
    "\n",
    "    p.line([0, plot_max], [0, 0.6 * plot_max], color=\"black\",\n",
    "           line_dash=[4, 4], line_color='red', line_width=1)\n",
    "\n",
    "\n",
    "    r = p.circle(x='xG',\n",
    "                 y='G',\n",
    "                 source=df_xG_team,\n",
    "                 size=10,\n",
    "                 color={'field': 'diff_xG', 'transform': color_mapper})\n",
    "\n",
    "    glyph = r.glyph\n",
    "    glyph.size = 15\n",
    "    glyph.fill_alpha = 1\n",
    "    glyph.line_color = \"black\"\n",
    "    glyph.line_width = 1\n",
    "\n",
    "    p.background_fill_color = \"gray\"\n",
    "    p.background_fill_alpha = 0.05\n",
    "\n",
    "    hover = HoverTool()\n",
    "    hover.tooltips = [\n",
    "        ('', '@Player'),\n",
    "        ('xG', '@xG{0.2f}'),\n",
    "        ('G', '@G{0.2f}'),\n",
    "        ('diff_xG', '@diff_xG{0.2f}')\n",
    "    ]\n",
    "\n",
    "    color_bar = ColorBar(color_mapper=color_mapper, width=8)\n",
    "\n",
    "    p.add_layout(color_bar, 'right')\n",
    "    p.add_tools(hover)\n",
    "    p.legend.location = \"top_left\"\n",
    "\n",
    "    show(p)"
   ]
  },
  {
   "cell_type": "code",
   "execution_count": 5,
   "metadata": {
    "ExecuteTime": {
     "end_time": "2021-02-25T19:29:33.265666Z",
     "start_time": "2021-02-25T19:29:28.711943Z"
    }
   },
   "outputs": [],
   "source": [
    "html_team_table = get_xG_html_table(\"Paris_Saint_Germain\")\n",
    "df_team = process_html(html_team_table)\n",
    "plot_xG_df(df_team, team_name=\"Paris_Saint_Germain\")"
   ]
  },
  {
   "cell_type": "code",
   "execution_count": 21,
   "metadata": {
    "ExecuteTime": {
     "end_time": "2021-02-25T19:29:33.276025Z",
     "start_time": "2021-02-25T19:29:33.271012Z"
    }
   },
   "outputs": [],
   "source": [
    "CHOIX_TEAMS = [\"<Choix d'un pays>\"]\n",
    "\n",
    "FRENCH_TEAMS = [\"<Choix d'une équipe>\", \"Lille\", \"Lyon\", \"Paris_Saint_Germain\",\n",
    "                \"Monaco\", \"Lens\", \"Metz\", \"Marseille\",\n",
    "                \"Rennes\", \"Lorient\", \"Strasbourg\",\n",
    "                \"Montpellier\", \"Bordeaux\", \"Nice\", \"Brest\",\n",
    "                \"Angers\", \"Nantes\", \"Reims\", \"Nantes\",\n",
    "                \"Dijon\", \"Nimes\"]\n",
    "\n",
    "GERMAN_TEAMS = [\"<Choix d'une équipe>\", 'Werder_Bremen', 'VfB_Stuttgart', 'Union_Berlin', 'Schalke_04',\n",
    "                'RasenBallsport_Leipzig', 'Mainz_05', 'Hoffenheim',\n",
    "                'Hertha_Berlin', 'Freiburg', 'FC_Cologne', 'Eintracht_Frankfurt',\n",
    "                'Borussia_M.Gladbach', 'Borussia_Dortmund', 'Bayern_Munich',\n",
    "                'Bayer_everkusen', 'Augsburg', 'Arminia_Bielefeld']\n",
    "\n",
    "ENGLISH_TEAMS = [\"<Choix d'une équipe>\", 'Manchester_City', 'Manchester_United', 'Leicester', 'West_Ham', 'Chelsea',\n",
    "                 'Liverpool', 'Everton', 'Aston_Villa', 'Tottenham', 'Leeds',\n",
    "                 'Arsenal', 'Wolverhampton_Wanderers', 'Crystal_Palace',\n",
    "                 'Southampton', 'Burnley', 'Brighton', 'Newcastle_United', 'Fulham',\n",
    "                 'West_Bromwich_Albion', 'Sheffield_United']\n",
    "\n",
    "SPANISH_TEAMS = [\"<Choix d'une équipe>\", 'Atletico_Madrid', 'Real_Madrid', 'Barcelona', 'Sevilla',\n",
    "                 'Real_Sociedad', 'Villarreal', 'Real_Betis', 'Levante', 'Granada',\n",
    "                 'Athletic_Club', 'Celta_Vigo', 'Valencia', 'Osasuna', 'Cadiz',\n",
    "                 'Getafe', 'Alaves', 'Eibar', 'Real_Valladolid', 'Elche',\n",
    "                 'SD_Huesca']\n",
    "\n",
    "ITALIAN_TEAMS = [\"<Choix d'une équipe>\", 'Inter', 'AC_Milan', 'Juventus', 'Roma', 'Atalanta', 'Lazio',\n",
    "                 'Napoli', 'Sassuolo', 'Verona', 'Sampdoria', 'Genoa', 'Bologna',\n",
    "                 'Udinese', 'Fiorentina', 'Benevento', 'Spezia', 'Torino',\n",
    "                 'Cagliari', 'Parma_Calcio_1913', 'Crotone']\n",
    "\n",
    "COUNTRY_TEAMS = {\"France\": FRENCH_TEAMS,\n",
    "                 \"Espagne\": SPANISH_TEAMS,\n",
    "                 \"Angleterre\": ENGLISH_TEAMS,\n",
    "                 \"Allemagne\": GERMAN_TEAMS,\n",
    "                 \"Italie\": ITALIAN_TEAMS,\n",
    "                 \"<Choix d'un pays>\": CHOIX_TEAMS}\n"
   ]
  },
  {
   "cell_type": "code",
   "execution_count": 22,
   "metadata": {
    "ExecuteTime": {
     "end_time": "2021-02-25T19:29:33.764251Z",
     "start_time": "2021-02-25T19:29:33.279617Z"
    }
   },
   "outputs": [],
   "source": [
    "import streamlit as st"
   ]
  },
  {
   "cell_type": "code",
   "execution_count": 115,
   "metadata": {
    "ExecuteTime": {
     "end_time": "2021-02-25T19:28:06.901372Z",
     "start_time": "2021-02-25T19:28:06.896155Z"
    }
   },
   "outputs": [],
   "source": [
    "option = st.selectbox(\n",
    "    'Quelle équipe veux-tu analyser',\n",
    "    list_of_teams)\n",
    "st.write('You selected:', option)"
   ]
  },
  {
   "cell_type": "code",
   "execution_count": 25,
   "metadata": {},
   "outputs": [
    {
     "data": {
      "text/plain": [
       "[None, None, None, None, None, None]"
      ]
     },
     "execution_count": 25,
     "metadata": {},
     "output_type": "execute_result"
    }
   ],
   "source": [
    "teams = []\n",
    "[teams.extend(COUNTRY_TEAMS[x]) for x in COUNTRY_TEAMS.keys()]\n",
    "teams = [x for x in teams if x != \"<Choix d'une équipe>\"]"
   ]
  },
  {
   "cell_type": "code",
   "execution_count": null,
   "metadata": {},
   "outputs": [],
   "source": []
  }
 ],
 "metadata": {
  "kernelspec": {
   "display_name": "Python 3",
   "language": "python",
   "name": "python3"
  },
  "language_info": {
   "codemirror_mode": {
    "name": "ipython",
    "version": 3
   },
   "file_extension": ".py",
   "mimetype": "text/x-python",
   "name": "python",
   "nbconvert_exporter": "python",
   "pygments_lexer": "ipython3",
   "version": "3.8.3"
  },
  "toc": {
   "base_numbering": 1,
   "nav_menu": {},
   "number_sections": true,
   "sideBar": true,
   "skip_h1_title": false,
   "title_cell": "Table of Contents",
   "title_sidebar": "Contents",
   "toc_cell": false,
   "toc_position": {},
   "toc_section_display": true,
   "toc_window_display": false
  }
 },
 "nbformat": 4,
 "nbformat_minor": 4
}
