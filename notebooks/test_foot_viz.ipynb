{
 "cells": [
  {
   "cell_type": "code",
   "execution_count": 1,
   "metadata": {
    "ExecuteTime": {
     "end_time": "2021-02-25T19:29:27.847968Z",
     "start_time": "2021-02-25T19:29:26.434534Z"
    }
   },
   "outputs": [],
   "source": [
    "import pandas as pd\n",
    "import matplotlib.pyplot as plt\n",
    "from bs4 import BeautifulSoup\n",
    "\n",
    "import bokeh\n",
    "from bokeh.palettes import RdYlGn\n",
    "from bokeh.models import ColumnDataSource, LinearColorMapper, ColorBar, ColumnDataSource\n",
    "from bokeh.plotting import figure, output_file, show\n",
    "from bokeh.transform import linear_cmap\n",
    "from bokeh.models.tools import HoverTool\n",
    "\n",
    "from selenium import webdriver\n",
    "CHROMEDRIVER_PATH = \"/Users/paulemiledugnat/Downloads/chromedriver_upd\""
   ]
  },
  {
   "cell_type": "code",
   "execution_count": 2,
   "metadata": {
    "ExecuteTime": {
     "end_time": "2021-02-25T19:29:27.855056Z",
     "start_time": "2021-02-25T19:29:27.850224Z"
    },
    "code_folding": [
     0
    ]
   },
   "outputs": [],
   "source": [
    "def get_xG_html_table(team_name: str) -> str:\n",
    "    driver = webdriver.Chrome(executable_path=CHROMEDRIVER_PATH)\n",
    "    driver.get(f\"https://understat.com/team/{team_name}/2020\")\n",
    "    \n",
    "    team_soup = BeautifulSoup(driver.page_source)\n",
    "    table_html = team_soup.find(\"div\", {\"id\": \"team-players\"}).find(\"table\")\n",
    "    \n",
    "    driver.quit()\n",
    "\n",
    "    return str(table_html)"
   ]
  },
  {
   "cell_type": "code",
   "execution_count": 3,
   "metadata": {
    "ExecuteTime": {
     "end_time": "2021-02-25T19:29:27.862809Z",
     "start_time": "2021-02-25T19:29:27.857992Z"
    },
    "code_folding": [
     0
    ]
   },
   "outputs": [],
   "source": [
    "def process_html(html_table: str) -> pd.DataFrame:\n",
    "    df_team = pd.read_html(html_table)[0].drop(\"№\", axis=1).iloc[:15]\n",
    "    \n",
    "    df_team[\"xG\"] = df_team[\"xG\"].str.split(r\"\\+|\\-\").apply(lambda x: float(x[0]))\n",
    "    df_team[\"xA\"] = df_team[\"xA\"].str.split(r\"\\+|\\-\").apply(lambda x: float(x[0]))\n",
    "\n",
    "    df_team[\"diff_xG\"] = (df_team[\"G\"] - df_team[\"xG\"])\n",
    "    df_team[\"diff_xA\"] = (df_team[\"A\"] - df_team[\"xA\"])\n",
    "\n",
    "    df_team = df_team[df_team[\"xG\"] > 0.5] # select only players that could score \n",
    "    df_team = df_team.round(2)\n",
    "    \n",
    "    return df_team"
   ]
  },
  {
   "cell_type": "code",
   "execution_count": 4,
   "metadata": {
    "ExecuteTime": {
     "end_time": "2021-02-25T19:29:27.876316Z",
     "start_time": "2021-02-25T19:29:27.865658Z"
    },
    "code_folding": [
     0
    ]
   },
   "outputs": [],
   "source": [
    "def plot_xG_df(df_xG_team: pd.DataFrame, team_name: str) -> None:\n",
    "    plot_max = df_xG_team[\"xG\"].max() + 1\n",
    "\n",
    "    amplitude = max(abs(df_xG_team[\"diff_xG\"].min()), abs(df_xG_team[\"diff_xG\"].max()))\n",
    "    \n",
    "    color_mapper = LinearColorMapper(\n",
    "        palette=RdYlGn[9][::-1], low=-amplitude, high=amplitude)\n",
    "\n",
    "    p = figure(title=f\"xG vs. vrais buts à {team_name} 2020-2021\")\n",
    "\n",
    "    p.line([0, plot_max], [0, plot_max], color=\"black\",\n",
    "           legend_label=\"Performance normale\", line_width=2)\n",
    "\n",
    "    p.line([0, plot_max], [0, 1.2 * plot_max], color=\"black\",\n",
    "           line_dash=[4, 4], legend_label=\"Surperf de 20 %\", line_color='green', line_width=2)\n",
    "\n",
    "    p.line([0, plot_max], [0, 0.8 * plot_max], color=\"black\",\n",
    "           line_dash=[4, 4], legend_label=\"Sousperf de 20 %\", line_color='red', line_width=2)\n",
    "\n",
    "    p.line([0, plot_max], [0, 1.4 * plot_max], color=\"black\",\n",
    "           line_dash=[4, 4], line_color='green', line_width=1)\n",
    "\n",
    "    p.line([0, plot_max], [0, 0.6 * plot_max], color=\"black\",\n",
    "           line_dash=[4, 4], line_color='red', line_width=1)\n",
    "\n",
    "\n",
    "    r = p.circle(x='xG',\n",
    "                 y='G',\n",
    "                 source=df_xG_team,\n",
    "                 size=10,\n",
    "                 color={'field': 'diff_xG', 'transform': color_mapper})\n",
    "\n",
    "    glyph = r.glyph\n",
    "    glyph.size = 15\n",
    "    glyph.fill_alpha = 1\n",
    "    glyph.line_color = \"black\"\n",
    "    glyph.line_width = 1\n",
    "\n",
    "    p.background_fill_color = \"gray\"\n",
    "    p.background_fill_alpha = 0.05\n",
    "\n",
    "    hover = HoverTool()\n",
    "    hover.tooltips = [\n",
    "        ('', '@Player'),\n",
    "        ('xG', '@xG{0.2f}'),\n",
    "        ('G', '@G{0.2f}'),\n",
    "        ('diff_xG', '@diff_xG{0.2f}')\n",
    "    ]\n",
    "\n",
    "    color_bar = ColorBar(color_mapper=color_mapper, width=8)\n",
    "\n",
    "    p.add_layout(color_bar, 'right')\n",
    "    p.add_tools(hover)\n",
    "    p.legend.location = \"top_left\"\n",
    "\n",
    "    show(p)"
   ]
  },
  {
   "cell_type": "code",
   "execution_count": 5,
   "metadata": {
    "ExecuteTime": {
     "end_time": "2021-02-25T19:29:33.265666Z",
     "start_time": "2021-02-25T19:29:28.711943Z"
    }
   },
   "outputs": [],
   "source": [
    "html_team_table = get_xG_html_table(\"Paris_Saint_Germain\")\n",
    "df_team = process_html(html_team_table)\n",
    "plot_xG_df(df_team, team_name=\"Paris_Saint_Germain\")"
   ]
  },
  {
   "cell_type": "code",
   "execution_count": 6,
   "metadata": {
    "ExecuteTime": {
     "end_time": "2021-02-25T19:29:33.276025Z",
     "start_time": "2021-02-25T19:29:33.271012Z"
    }
   },
   "outputs": [],
   "source": [
    "list_of_teams = [\"Lille\", \"Lyon\", \"Paris_Saint_Germain\", \n",
    "                 \"Monaco\", \"Lens\", \"Metz\", \"Marseille\", \n",
    "                 \"Rennes\", \"Lorient\", \"Strasbourg\"\n",
    "                 \"Montpellier\", \"Bordeaux\", \"Nice\", \"Brest\", \n",
    "                 \"Angers\", \"Nantes\", \"Reims\", \"Nantes\", \n",
    "                 \"Dijon\", \"Nimes\"]"
   ]
  },
  {
   "cell_type": "code",
   "execution_count": 7,
   "metadata": {
    "ExecuteTime": {
     "end_time": "2021-02-25T19:29:33.764251Z",
     "start_time": "2021-02-25T19:29:33.279617Z"
    }
   },
   "outputs": [],
   "source": [
    "import streamlit as st"
   ]
  },
  {
   "cell_type": "code",
   "execution_count": 115,
   "metadata": {
    "ExecuteTime": {
     "end_time": "2021-02-25T19:28:06.901372Z",
     "start_time": "2021-02-25T19:28:06.896155Z"
    }
   },
   "outputs": [],
   "source": [
    "option = st.selectbox(\n",
    "    'Quelle équipe veux-tu analyser',\n",
    "    list_of_teams)\n",
    "st.write('You selected:', option)"
   ]
  },
  {
   "cell_type": "code",
   "execution_count": null,
   "metadata": {},
   "outputs": [],
   "source": []
  }
 ],
 "metadata": {
  "kernelspec": {
   "display_name": "Python 3",
   "language": "python",
   "name": "python3"
  },
  "language_info": {
   "codemirror_mode": {
    "name": "ipython",
    "version": 3
   },
   "file_extension": ".py",
   "mimetype": "text/x-python",
   "name": "python",
   "nbconvert_exporter": "python",
   "pygments_lexer": "ipython3",
   "version": "3.8.3"
  },
  "toc": {
   "base_numbering": 1,
   "nav_menu": {},
   "number_sections": true,
   "sideBar": true,
   "skip_h1_title": false,
   "title_cell": "Table of Contents",
   "title_sidebar": "Contents",
   "toc_cell": false,
   "toc_position": {},
   "toc_section_display": true,
   "toc_window_display": false
  }
 },
 "nbformat": 4,
 "nbformat_minor": 4
}
