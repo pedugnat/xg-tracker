{
 "cells": [
  {
   "cell_type": "code",
   "execution_count": 1,
   "metadata": {
    "ExecuteTime": {
     "end_time": "2021-02-25T19:29:27.847968Z",
     "start_time": "2021-02-25T19:29:26.434534Z"
    }
   },
   "outputs": [],
   "source": [
    "import pandas as pd\n",
    "import matplotlib.pyplot as plt\n",
    "from bs4 import BeautifulSoup\n",
    "\n",
    "import bokeh\n",
    "from bokeh.palettes import RdYlGn\n",
    "from bokeh.models import ColumnDataSource, LinearColorMapper, ColorBar, ColumnDataSource\n",
    "from bokeh.plotting import figure, output_file, show\n",
    "from bokeh.transform import linear_cmap\n",
    "from bokeh.models.tools import HoverTool\n",
    "\n",
    "from selenium import webdriver\n",
    "CHROMEDRIVER_PATH = \"/Users/paulemiledugnat/Downloads/chromedriver_upd\""
   ]
  },
  {
   "cell_type": "code",
   "execution_count": 4,
   "metadata": {},
   "outputs": [],
   "source": [
    "team_name = \"Lyon\"\n",
    "\n",
    "driver = webdriver.Chrome(executable_path=CHROMEDRIVER_PATH)\n",
    "driver.get(f\"https://understat.com/team/{team_name}/2020\")\n",
    "\n",
    "team_soup = BeautifulSoup(driver.page_source)\n",
    "table_html = team_soup.find(\"div\", {\"id\": \"team-statistics\"}).find(\"table\")\n",
    "\n",
    "driver.quit()"
   ]
  },
  {
   "cell_type": "code",
   "execution_count": 10,
   "metadata": {},
   "outputs": [
    {
     "output_type": "execute_result",
     "data": {
      "text/plain": [
       "   №        Situation   Sh   G  ShA  GA           xG         xGA    xGD  \\\n",
       "0  1        Open play  319  37  223  19  47.19+10.19  17.36-1.64  29.83   \n",
       "1  2      From corner   68   2   45   1    6.01+4.01   3.09+2.09   2.92   \n",
       "2  3        Set piece   23   4   16   1    2.84-1.16   1.39+0.39   1.45   \n",
       "3  4  Direct Freekick   21   2   11   0    1.10-0.90   0.79+0.79   0.31   \n",
       "4  5          Penalty    9   9    5   3    6.84-2.16   3.80+0.80   3.04   \n",
       "\n",
       "   xG/Sh  xGA/Sh  \n",
       "0   0.15    0.08  \n",
       "1   0.09    0.07  \n",
       "2   0.12    0.09  \n",
       "3   0.05    0.07  \n",
       "4   0.76    0.76  "
      ],
      "text/html": "<div>\n<style scoped>\n    .dataframe tbody tr th:only-of-type {\n        vertical-align: middle;\n    }\n\n    .dataframe tbody tr th {\n        vertical-align: top;\n    }\n\n    .dataframe thead th {\n        text-align: right;\n    }\n</style>\n<table border=\"1\" class=\"dataframe\">\n  <thead>\n    <tr style=\"text-align: right;\">\n      <th></th>\n      <th>№</th>\n      <th>Situation</th>\n      <th>Sh</th>\n      <th>G</th>\n      <th>ShA</th>\n      <th>GA</th>\n      <th>xG</th>\n      <th>xGA</th>\n      <th>xGD</th>\n      <th>xG/Sh</th>\n      <th>xGA/Sh</th>\n    </tr>\n  </thead>\n  <tbody>\n    <tr>\n      <th>0</th>\n      <td>1</td>\n      <td>Open play</td>\n      <td>319</td>\n      <td>37</td>\n      <td>223</td>\n      <td>19</td>\n      <td>47.19+10.19</td>\n      <td>17.36-1.64</td>\n      <td>29.83</td>\n      <td>0.15</td>\n      <td>0.08</td>\n    </tr>\n    <tr>\n      <th>1</th>\n      <td>2</td>\n      <td>From corner</td>\n      <td>68</td>\n      <td>2</td>\n      <td>45</td>\n      <td>1</td>\n      <td>6.01+4.01</td>\n      <td>3.09+2.09</td>\n      <td>2.92</td>\n      <td>0.09</td>\n      <td>0.07</td>\n    </tr>\n    <tr>\n      <th>2</th>\n      <td>3</td>\n      <td>Set piece</td>\n      <td>23</td>\n      <td>4</td>\n      <td>16</td>\n      <td>1</td>\n      <td>2.84-1.16</td>\n      <td>1.39+0.39</td>\n      <td>1.45</td>\n      <td>0.12</td>\n      <td>0.09</td>\n    </tr>\n    <tr>\n      <th>3</th>\n      <td>4</td>\n      <td>Direct Freekick</td>\n      <td>21</td>\n      <td>2</td>\n      <td>11</td>\n      <td>0</td>\n      <td>1.10-0.90</td>\n      <td>0.79+0.79</td>\n      <td>0.31</td>\n      <td>0.05</td>\n      <td>0.07</td>\n    </tr>\n    <tr>\n      <th>4</th>\n      <td>5</td>\n      <td>Penalty</td>\n      <td>9</td>\n      <td>9</td>\n      <td>5</td>\n      <td>3</td>\n      <td>6.84-2.16</td>\n      <td>3.80+0.80</td>\n      <td>3.04</td>\n      <td>0.76</td>\n      <td>0.76</td>\n    </tr>\n  </tbody>\n</table>\n</div>"
     },
     "metadata": {},
     "execution_count": 10
    }
   ],
   "source": [
    "pd.read_html(str(table_html))[0]"
   ]
  },
  {
   "cell_type": "code",
   "execution_count": 9,
   "metadata": {},
   "outputs": [
    {
     "output_type": "error",
     "ename": "KeyError",
     "evalue": "'xA'",
     "traceback": [
      "\u001b[0;31m---------------------------------------------------------------------------\u001b[0m",
      "\u001b[0;31mKeyError\u001b[0m                                  Traceback (most recent call last)",
      "\u001b[0;32m/opt/anaconda3/lib/python3.8/site-packages/pandas/core/indexes/base.py\u001b[0m in \u001b[0;36mget_loc\u001b[0;34m(self, key, method, tolerance)\u001b[0m\n\u001b[1;32m   3079\u001b[0m             \u001b[0;32mtry\u001b[0m\u001b[0;34m:\u001b[0m\u001b[0;34m\u001b[0m\u001b[0;34m\u001b[0m\u001b[0m\n\u001b[0;32m-> 3080\u001b[0;31m                 \u001b[0;32mreturn\u001b[0m \u001b[0mself\u001b[0m\u001b[0;34m.\u001b[0m\u001b[0m_engine\u001b[0m\u001b[0;34m.\u001b[0m\u001b[0mget_loc\u001b[0m\u001b[0;34m(\u001b[0m\u001b[0mcasted_key\u001b[0m\u001b[0;34m)\u001b[0m\u001b[0;34m\u001b[0m\u001b[0;34m\u001b[0m\u001b[0m\n\u001b[0m\u001b[1;32m   3081\u001b[0m             \u001b[0;32mexcept\u001b[0m \u001b[0mKeyError\u001b[0m \u001b[0;32mas\u001b[0m \u001b[0merr\u001b[0m\u001b[0;34m:\u001b[0m\u001b[0;34m\u001b[0m\u001b[0;34m\u001b[0m\u001b[0m\n",
      "\u001b[0;32mpandas/_libs/index.pyx\u001b[0m in \u001b[0;36mpandas._libs.index.IndexEngine.get_loc\u001b[0;34m()\u001b[0m\n",
      "\u001b[0;32mpandas/_libs/index.pyx\u001b[0m in \u001b[0;36mpandas._libs.index.IndexEngine.get_loc\u001b[0;34m()\u001b[0m\n",
      "\u001b[0;32mpandas/_libs/hashtable_class_helper.pxi\u001b[0m in \u001b[0;36mpandas._libs.hashtable.PyObjectHashTable.get_item\u001b[0;34m()\u001b[0m\n",
      "\u001b[0;32mpandas/_libs/hashtable_class_helper.pxi\u001b[0m in \u001b[0;36mpandas._libs.hashtable.PyObjectHashTable.get_item\u001b[0;34m()\u001b[0m\n",
      "\u001b[0;31mKeyError\u001b[0m: 'xA'",
      "\nThe above exception was the direct cause of the following exception:\n",
      "\u001b[0;31mKeyError\u001b[0m                                  Traceback (most recent call last)",
      "\u001b[0;32m<ipython-input-9-73bc4d213192>\u001b[0m in \u001b[0;36m<module>\u001b[0;34m\u001b[0m\n\u001b[0;32m----> 1\u001b[0;31m \u001b[0mprocess_html\u001b[0m\u001b[0;34m(\u001b[0m\u001b[0mstr\u001b[0m\u001b[0;34m(\u001b[0m\u001b[0mtable_html\u001b[0m\u001b[0;34m)\u001b[0m\u001b[0;34m)\u001b[0m\u001b[0;34m\u001b[0m\u001b[0;34m\u001b[0m\u001b[0m\n\u001b[0m",
      "\u001b[0;32m<ipython-input-8-bf5bf4144bbe>\u001b[0m in \u001b[0;36mprocess_html\u001b[0;34m(html_table)\u001b[0m\n\u001b[1;32m      3\u001b[0m \u001b[0;34m\u001b[0m\u001b[0m\n\u001b[1;32m      4\u001b[0m     \u001b[0mdf_team\u001b[0m\u001b[0;34m[\u001b[0m\u001b[0;34m\"xG\"\u001b[0m\u001b[0;34m]\u001b[0m \u001b[0;34m=\u001b[0m \u001b[0mdf_team\u001b[0m\u001b[0;34m[\u001b[0m\u001b[0;34m\"xG\"\u001b[0m\u001b[0;34m]\u001b[0m\u001b[0;34m.\u001b[0m\u001b[0mstr\u001b[0m\u001b[0;34m.\u001b[0m\u001b[0msplit\u001b[0m\u001b[0;34m(\u001b[0m\u001b[0;34mr\"\\+|\\-\"\u001b[0m\u001b[0;34m)\u001b[0m\u001b[0;34m.\u001b[0m\u001b[0mapply\u001b[0m\u001b[0;34m(\u001b[0m\u001b[0;32mlambda\u001b[0m \u001b[0mx\u001b[0m\u001b[0;34m:\u001b[0m \u001b[0mfloat\u001b[0m\u001b[0;34m(\u001b[0m\u001b[0mx\u001b[0m\u001b[0;34m[\u001b[0m\u001b[0;36m0\u001b[0m\u001b[0;34m]\u001b[0m\u001b[0;34m)\u001b[0m\u001b[0;34m)\u001b[0m\u001b[0;34m\u001b[0m\u001b[0;34m\u001b[0m\u001b[0m\n\u001b[0;32m----> 5\u001b[0;31m     \u001b[0mdf_team\u001b[0m\u001b[0;34m[\u001b[0m\u001b[0;34m\"xA\"\u001b[0m\u001b[0;34m]\u001b[0m \u001b[0;34m=\u001b[0m \u001b[0mdf_team\u001b[0m\u001b[0;34m[\u001b[0m\u001b[0;34m\"xA\"\u001b[0m\u001b[0;34m]\u001b[0m\u001b[0;34m.\u001b[0m\u001b[0mstr\u001b[0m\u001b[0;34m.\u001b[0m\u001b[0msplit\u001b[0m\u001b[0;34m(\u001b[0m\u001b[0;34mr\"\\+|\\-\"\u001b[0m\u001b[0;34m)\u001b[0m\u001b[0;34m.\u001b[0m\u001b[0mapply\u001b[0m\u001b[0;34m(\u001b[0m\u001b[0;32mlambda\u001b[0m \u001b[0mx\u001b[0m\u001b[0;34m:\u001b[0m \u001b[0mfloat\u001b[0m\u001b[0;34m(\u001b[0m\u001b[0mx\u001b[0m\u001b[0;34m[\u001b[0m\u001b[0;36m0\u001b[0m\u001b[0;34m]\u001b[0m\u001b[0;34m)\u001b[0m\u001b[0;34m)\u001b[0m\u001b[0;34m\u001b[0m\u001b[0;34m\u001b[0m\u001b[0m\n\u001b[0m\u001b[1;32m      6\u001b[0m \u001b[0;34m\u001b[0m\u001b[0m\n\u001b[1;32m      7\u001b[0m     \u001b[0mdf_team\u001b[0m\u001b[0;34m[\u001b[0m\u001b[0;34m\"diff_xG\"\u001b[0m\u001b[0;34m]\u001b[0m \u001b[0;34m=\u001b[0m \u001b[0;34m(\u001b[0m\u001b[0mdf_team\u001b[0m\u001b[0;34m[\u001b[0m\u001b[0;34m\"G\"\u001b[0m\u001b[0;34m]\u001b[0m \u001b[0;34m-\u001b[0m \u001b[0mdf_team\u001b[0m\u001b[0;34m[\u001b[0m\u001b[0;34m\"xG\"\u001b[0m\u001b[0;34m]\u001b[0m\u001b[0;34m)\u001b[0m\u001b[0;34m\u001b[0m\u001b[0;34m\u001b[0m\u001b[0m\n",
      "\u001b[0;32m/opt/anaconda3/lib/python3.8/site-packages/pandas/core/frame.py\u001b[0m in \u001b[0;36m__getitem__\u001b[0;34m(self, key)\u001b[0m\n\u001b[1;32m   3022\u001b[0m             \u001b[0;32mif\u001b[0m \u001b[0mself\u001b[0m\u001b[0;34m.\u001b[0m\u001b[0mcolumns\u001b[0m\u001b[0;34m.\u001b[0m\u001b[0mnlevels\u001b[0m \u001b[0;34m>\u001b[0m \u001b[0;36m1\u001b[0m\u001b[0;34m:\u001b[0m\u001b[0;34m\u001b[0m\u001b[0;34m\u001b[0m\u001b[0m\n\u001b[1;32m   3023\u001b[0m                 \u001b[0;32mreturn\u001b[0m \u001b[0mself\u001b[0m\u001b[0;34m.\u001b[0m\u001b[0m_getitem_multilevel\u001b[0m\u001b[0;34m(\u001b[0m\u001b[0mkey\u001b[0m\u001b[0;34m)\u001b[0m\u001b[0;34m\u001b[0m\u001b[0;34m\u001b[0m\u001b[0m\n\u001b[0;32m-> 3024\u001b[0;31m             \u001b[0mindexer\u001b[0m \u001b[0;34m=\u001b[0m \u001b[0mself\u001b[0m\u001b[0;34m.\u001b[0m\u001b[0mcolumns\u001b[0m\u001b[0;34m.\u001b[0m\u001b[0mget_loc\u001b[0m\u001b[0;34m(\u001b[0m\u001b[0mkey\u001b[0m\u001b[0;34m)\u001b[0m\u001b[0;34m\u001b[0m\u001b[0;34m\u001b[0m\u001b[0m\n\u001b[0m\u001b[1;32m   3025\u001b[0m             \u001b[0;32mif\u001b[0m \u001b[0mis_integer\u001b[0m\u001b[0;34m(\u001b[0m\u001b[0mindexer\u001b[0m\u001b[0;34m)\u001b[0m\u001b[0;34m:\u001b[0m\u001b[0;34m\u001b[0m\u001b[0;34m\u001b[0m\u001b[0m\n\u001b[1;32m   3026\u001b[0m                 \u001b[0mindexer\u001b[0m \u001b[0;34m=\u001b[0m \u001b[0;34m[\u001b[0m\u001b[0mindexer\u001b[0m\u001b[0;34m]\u001b[0m\u001b[0;34m\u001b[0m\u001b[0;34m\u001b[0m\u001b[0m\n",
      "\u001b[0;32m/opt/anaconda3/lib/python3.8/site-packages/pandas/core/indexes/base.py\u001b[0m in \u001b[0;36mget_loc\u001b[0;34m(self, key, method, tolerance)\u001b[0m\n\u001b[1;32m   3080\u001b[0m                 \u001b[0;32mreturn\u001b[0m \u001b[0mself\u001b[0m\u001b[0;34m.\u001b[0m\u001b[0m_engine\u001b[0m\u001b[0;34m.\u001b[0m\u001b[0mget_loc\u001b[0m\u001b[0;34m(\u001b[0m\u001b[0mcasted_key\u001b[0m\u001b[0;34m)\u001b[0m\u001b[0;34m\u001b[0m\u001b[0;34m\u001b[0m\u001b[0m\n\u001b[1;32m   3081\u001b[0m             \u001b[0;32mexcept\u001b[0m \u001b[0mKeyError\u001b[0m \u001b[0;32mas\u001b[0m \u001b[0merr\u001b[0m\u001b[0;34m:\u001b[0m\u001b[0;34m\u001b[0m\u001b[0;34m\u001b[0m\u001b[0m\n\u001b[0;32m-> 3082\u001b[0;31m                 \u001b[0;32mraise\u001b[0m \u001b[0mKeyError\u001b[0m\u001b[0;34m(\u001b[0m\u001b[0mkey\u001b[0m\u001b[0;34m)\u001b[0m \u001b[0;32mfrom\u001b[0m \u001b[0merr\u001b[0m\u001b[0;34m\u001b[0m\u001b[0;34m\u001b[0m\u001b[0m\n\u001b[0m\u001b[1;32m   3083\u001b[0m \u001b[0;34m\u001b[0m\u001b[0m\n\u001b[1;32m   3084\u001b[0m         \u001b[0;32mif\u001b[0m \u001b[0mtolerance\u001b[0m \u001b[0;32mis\u001b[0m \u001b[0;32mnot\u001b[0m \u001b[0;32mNone\u001b[0m\u001b[0;34m:\u001b[0m\u001b[0;34m\u001b[0m\u001b[0;34m\u001b[0m\u001b[0m\n",
      "\u001b[0;31mKeyError\u001b[0m: 'xA'"
     ]
    }
   ],
   "source": [
    "process_html(str(table_html))"
   ]
  },
  {
   "cell_type": "code",
   "execution_count": 2,
   "metadata": {
    "ExecuteTime": {
     "end_time": "2021-02-25T19:29:27.855056Z",
     "start_time": "2021-02-25T19:29:27.850224Z"
    },
    "code_folding": [
     0
    ]
   },
   "outputs": [],
   "source": [
    "def get_xG_html_table(team_name: str) -> str:\n",
    "    driver = webdriver.Chrome(executable_path=CHROMEDRIVER_PATH)\n",
    "    driver.get(f\"https://understat.com/team/{team_name}/2020\")\n",
    "    \n",
    "    team_soup = BeautifulSoup(driver.page_source)\n",
    "    table_html = team_soup.find(\"div\", {\"id\": \"team-players\"}).find(\"table\")\n",
    "    \n",
    "    driver.quit()\n",
    "\n",
    "    return str(table_html)"
   ]
  },
  {
   "cell_type": "code",
   "execution_count": 8,
   "metadata": {
    "ExecuteTime": {
     "end_time": "2021-02-25T19:29:27.862809Z",
     "start_time": "2021-02-25T19:29:27.857992Z"
    },
    "code_folding": [
     0
    ]
   },
   "outputs": [],
   "source": [
    "def process_html(html_table: str) -> pd.DataFrame:\n",
    "    df_team = pd.read_html(html_table)[0].drop(\"№\", axis=1).iloc[:15]\n",
    "    \n",
    "    df_team[\"xG\"] = df_team[\"xG\"].str.split(r\"\\+|\\-\").apply(lambda x: float(x[0]))\n",
    "    df_team[\"xA\"] = df_team[\"xA\"].str.split(r\"\\+|\\-\").apply(lambda x: float(x[0]))\n",
    "\n",
    "    df_team[\"diff_xG\"] = (df_team[\"G\"] - df_team[\"xG\"])\n",
    "    df_team[\"diff_xA\"] = (df_team[\"A\"] - df_team[\"xA\"])\n",
    "\n",
    "    df_team = df_team[df_team[\"xG\"] > 0.5] # select only players that could score \n",
    "    df_team = df_team.round(2)\n",
    "    \n",
    "    return df_team"
   ]
  },
  {
   "cell_type": "code",
   "execution_count": 4,
   "metadata": {
    "ExecuteTime": {
     "end_time": "2021-02-25T19:29:27.876316Z",
     "start_time": "2021-02-25T19:29:27.865658Z"
    },
    "code_folding": [
     0
    ]
   },
   "outputs": [],
   "source": [
    "def plot_xG_df(df_xG_team: pd.DataFrame, team_name: str) -> None:\n",
    "    plot_max = df_xG_team[\"xG\"].max() + 1\n",
    "\n",
    "    amplitude = max(abs(df_xG_team[\"diff_xG\"].min()), abs(df_xG_team[\"diff_xG\"].max()))\n",
    "    \n",
    "    color_mapper = LinearColorMapper(\n",
    "        palette=RdYlGn[9][::-1], low=-amplitude, high=amplitude)\n",
    "\n",
    "    p = figure(title=f\"xG vs. vrais buts à {team_name} 2020-2021\")\n",
    "\n",
    "    p.line([0, plot_max], [0, plot_max], color=\"black\",\n",
    "           legend_label=\"Performance normale\", line_width=2)\n",
    "\n",
    "    p.line([0, plot_max], [0, 1.2 * plot_max], color=\"black\",\n",
    "           line_dash=[4, 4], legend_label=\"Surperf de 20 %\", line_color='green', line_width=2)\n",
    "\n",
    "    p.line([0, plot_max], [0, 0.8 * plot_max], color=\"black\",\n",
    "           line_dash=[4, 4], legend_label=\"Sousperf de 20 %\", line_color='red', line_width=2)\n",
    "\n",
    "    p.line([0, plot_max], [0, 1.4 * plot_max], color=\"black\",\n",
    "           line_dash=[4, 4], line_color='green', line_width=1)\n",
    "\n",
    "    p.line([0, plot_max], [0, 0.6 * plot_max], color=\"black\",\n",
    "           line_dash=[4, 4], line_color='red', line_width=1)\n",
    "\n",
    "\n",
    "    r = p.circle(x='xG',\n",
    "                 y='G',\n",
    "                 source=df_xG_team,\n",
    "                 size=10,\n",
    "                 color={'field': 'diff_xG', 'transform': color_mapper})\n",
    "\n",
    "    glyph = r.glyph\n",
    "    glyph.size = 15\n",
    "    glyph.fill_alpha = 1\n",
    "    glyph.line_color = \"black\"\n",
    "    glyph.line_width = 1\n",
    "\n",
    "    p.background_fill_color = \"gray\"\n",
    "    p.background_fill_alpha = 0.05\n",
    "\n",
    "    hover = HoverTool()\n",
    "    hover.tooltips = [\n",
    "        ('', '@Player'),\n",
    "        ('xG', '@xG{0.2f}'),\n",
    "        ('G', '@G{0.2f}'),\n",
    "        ('diff_xG', '@diff_xG{0.2f}')\n",
    "    ]\n",
    "\n",
    "    color_bar = ColorBar(color_mapper=color_mapper, width=8)\n",
    "\n",
    "    p.add_layout(color_bar, 'right')\n",
    "    p.add_tools(hover)\n",
    "    p.legend.location = \"top_left\"\n",
    "\n",
    "    show(p)"
   ]
  },
  {
   "cell_type": "code",
   "execution_count": 5,
   "metadata": {
    "ExecuteTime": {
     "end_time": "2021-02-25T19:29:33.265666Z",
     "start_time": "2021-02-25T19:29:28.711943Z"
    }
   },
   "outputs": [],
   "source": [
    "html_team_table = get_xG_html_table(\"Paris_Saint_Germain\")\n",
    "df_team = process_html(html_team_table)\n",
    "plot_xG_df(df_team, team_name=\"Paris_Saint_Germain\")"
   ]
  },
  {
   "cell_type": "code",
   "execution_count": 6,
   "metadata": {
    "ExecuteTime": {
     "end_time": "2021-02-25T19:29:33.276025Z",
     "start_time": "2021-02-25T19:29:33.271012Z"
    }
   },
   "outputs": [],
   "source": [
    "list_of_teams = [\"Lille\", \"Lyon\", \"Paris_Saint_Germain\", \n",
    "                 \"Monaco\", \"Lens\", \"Metz\", \"Marseille\", \n",
    "                 \"Rennes\", \"Lorient\", \"Strasbourg\"\n",
    "                 \"Montpellier\", \"Bordeaux\", \"Nice\", \"Brest\", \n",
    "                 \"Angers\", \"Nantes\", \"Reims\", \"Nantes\", \n",
    "                 \"Dijon\", \"Nimes\"]"
   ]
  },
  {
   "cell_type": "code",
   "execution_count": 7,
   "metadata": {
    "ExecuteTime": {
     "end_time": "2021-02-25T19:29:33.764251Z",
     "start_time": "2021-02-25T19:29:33.279617Z"
    }
   },
   "outputs": [],
   "source": [
    "import streamlit as st"
   ]
  },
  {
   "cell_type": "code",
   "execution_count": 115,
   "metadata": {
    "ExecuteTime": {
     "end_time": "2021-02-25T19:28:06.901372Z",
     "start_time": "2021-02-25T19:28:06.896155Z"
    }
   },
   "outputs": [],
   "source": [
    "option = st.selectbox(\n",
    "    'Quelle équipe veux-tu analyser',\n",
    "    list_of_teams)\n",
    "st.write('You selected:', option)"
   ]
  },
  {
   "cell_type": "code",
   "execution_count": null,
   "metadata": {},
   "outputs": [],
   "source": []
  }
 ],
 "metadata": {
  "kernelspec": {
   "display_name": "Python 3",
   "language": "python",
   "name": "python3"
  },
  "language_info": {
   "codemirror_mode": {
    "name": "ipython",
    "version": 3
   },
   "file_extension": ".py",
   "mimetype": "text/x-python",
   "name": "python",
   "nbconvert_exporter": "python",
   "pygments_lexer": "ipython3",
   "version": "3.8.3-final"
  },
  "toc": {
   "base_numbering": 1,
   "nav_menu": {},
   "number_sections": true,
   "sideBar": true,
   "skip_h1_title": false,
   "title_cell": "Table of Contents",
   "title_sidebar": "Contents",
   "toc_cell": false,
   "toc_position": {},
   "toc_section_display": true,
   "toc_window_display": false
  }
 },
 "nbformat": 4,
 "nbformat_minor": 4
}